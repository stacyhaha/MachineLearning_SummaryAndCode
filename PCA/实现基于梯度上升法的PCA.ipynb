{
 "cells": [
  {
   "cell_type": "markdown",
   "metadata": {},
   "source": [
    "# 实现基于梯度上升法的PCA"
   ]
  },
  {
   "cell_type": "markdown",
   "metadata": {},
   "source": [
    "## 目录\n",
    "* 基于梯度上升法的PCA原理\n",
    "* 实现基于梯度上升法实现的PCA\n",
    "* 用自制数据集验证手写的PCA"
   ]
  },
  {
   "cell_type": "markdown",
   "metadata": {},
   "source": [
    "## 基于梯度上升法的PCA原理"
   ]
  },
  {
   "cell_type": "markdown",
   "metadata": {},
   "source": [
    "PCA(Principal Component Analysis)：主成分分析  \n",
    "可以用于数据降维，重新确定数据所在的空间的基，保留k个方差最大的基。  \n",
    "\n",
    "故我们要找到令数据方差最大的基  \n",
    "即寻找使样本空间上所有的点映射到这个轴后的方差最大$Var(x) = \\frac{1}{m}\\sum\\limits_{i=1}^m(x_i-\\bar x)^2$  \n",
    "\n",
    "为了方便计算方差，我们会先对数据进行去均值(demean)处理，这样再计算投影点的方差时，无需再减去均值\n",
    "\n",
    "故我们需要寻找一个轴的方向 w = (w1,w2,...,wn)\n",
    "使得样本映射到w后，方差最大  \n",
    "即$Var(X_{project}) = \\frac{1}{m}\\sum\\limits_{i=1}^m||X_{project}^{(i)}||^2$  \n",
    "若令w的膜为1  \n",
    "则上式=$\\frac{1}{m}\\sum\\limits_{i=1}^m||X^{(i)}\\cdot w||^2$  \n",
    "\n",
    "故这是一个最优化问题，寻找w，令Var最大  \n",
    "可以采用梯度上升法，对w进行求解\n",
    "\n",
    "-----\n",
    "$\\max\\limits_{w} Var(X_{project}) = \\frac{1}{m}\\sum\\limits_{i=1}^m||X^{(i)}\\cdot w||^2$\n",
    "对w求梯度\n",
    "\n",
    "这个可以展开，方便进行求解  \n",
    "上式为$\\frac{1}{m}\\sum\\limits_{i=1}^m \\big( \\sum\\limits_{j=1}^n X_j^{(i)}w_j\\big)^2$  \n",
    "对其中的$w_j$求导为\n",
    "$\\frac{2}{m}\\sum\\limits_{i=1}^m \\Big((\\sum\\limits_{j=1}^n X_j^{(i)}w_j)X^{(i)}_j \\Big)$\n",
    "\n",
    "进行向量化后  \n",
    "w的导数为$\\frac{2}{m}X^T(Xw)$  \n",
    "故通过梯度上升法，可以确定出第一个主成分\n",
    "\n",
    "-------\n",
    "求出第一个主成分以后，如何求出下一个主成分？\n",
    "\n",
    "数据在第一个主成分上的分量上去掉在新数据上的第一主成分\n",
    "再进行上述梯度上升法，找到w\n",
    "\n",
    "----\n",
    "高维数据如何映射为低维数据？  \n",
    "$X_k = X W^T$\n",
    "\n",
    "低维数据如何映射到高维数据？  \n",
    "$X_m = X_k W $"
   ]
  },
  {
   "cell_type": "markdown",
   "metadata": {},
   "source": [
    "## 实现基于梯度上升法实现的PCA"
   ]
  },
  {
   "cell_type": "code",
   "execution_count": 1,
   "metadata": {},
   "outputs": [],
   "source": [
    "import numpy as np\n",
    "class PCA_gradient():\n",
    "    \n",
    "    def __init__(self,n_component):\n",
    "        self.n_component = n_component\n",
    "        self.W = None #把基竖着写(和上述的原理不同之处)\n",
    "    \n",
    "    def fit(self,X):\n",
    "        \"\"\"获得数据集X的前n个主成分\"\"\"\n",
    "        def demean(X):\n",
    "            return X-X.mean(axis=0)\n",
    "        \n",
    "        def f(X,w):\n",
    "            return np.sum(X.dot(w)**2)/len(X)\n",
    "        \n",
    "        def d_f(X,w):\n",
    "            return X.T.dot(X.dot(w))*2/len(X)\n",
    "        \n",
    "        def debug_d_f(X,w,epsilon=1e-4):\n",
    "            res = np.empty(len(w))\n",
    "            for i in range(len(w)):\n",
    "                w1 = w.copy()\n",
    "                w1[i] += epsilon\n",
    "                w2 = w.copy()\n",
    "                w2[i] -= epsilon\n",
    "                res[i] = (f(X,w1) - f(X,w2))/(2*epsilon)\n",
    "            return res\n",
    "        \n",
    "        def direction(w):\n",
    "            return w/np.linalg.norm(w)\n",
    "        \n",
    "        def find_first_component(df,X,inital_w,eta=0.01,itertion=int(1e4),E=1e-12):\n",
    "            w = inital_w\n",
    "            w = direction(w)\n",
    "            for _ in range(itertion):\n",
    "                w_old = w.copy()\n",
    "                w += eta * df(X,w)\n",
    "                w = direction(w)\n",
    "                if abs(f(X,w) - f(X,w_old))<E:\n",
    "                    break\n",
    "            print(w)\n",
    "            return w\n",
    "        \n",
    "        assert self.n_component <= X.shape[1],\"the num of dimension reduction feature must be less\"\n",
    "        \n",
    "        X = demean(X)\n",
    "        self.W = np.empty((self.n_component,X.shape[1]))\n",
    "        for i in range(self.n_component):\n",
    "            inital_w = np.random.random(X.shape[1])\n",
    "            self.W[i] = find_first_component(d_f,X,inital_w)\n",
    "            X = X - (X.dot(self.W[i])).reshape(-1,1)*self.W[i]\n",
    "        \n",
    "        self.W = self.W.T\n",
    "    \n",
    "    def transform(self,X_new):\n",
    "        return X_new.dot(self.W)\n",
    "    \n",
    "    def reversetransform(self,X_new):\n",
    "        return X_new.dot(self.W.T) "
   ]
  },
  {
   "cell_type": "markdown",
   "metadata": {},
   "source": [
    "## 用自制数据集验证手写的PCA"
   ]
  },
  {
   "cell_type": "code",
   "execution_count": 2,
   "metadata": {},
   "outputs": [],
   "source": [
    "import numpy as np\n",
    "X = np.empty(shape=(100,2))\n",
    "X[:,0] = np.random.uniform(0,100,size=100)\n",
    "X[:,1] = X[:,0]*0.75 + 3 + np.random.normal(0,10,size=100)"
   ]
  },
  {
   "cell_type": "code",
   "execution_count": 3,
   "metadata": {},
   "outputs": [
    {
     "data": {
      "text/plain": [
       "<matplotlib.collections.PathCollection at 0x119fb0e10>"
      ]
     },
     "execution_count": 3,
     "metadata": {},
     "output_type": "execute_result"
    }
   ],
   "source": [
    "import matplotlib.pyplot as plt\n",
    "plt.scatter(X[:,0],X[:,1])"
   ]
  },
  {
   "cell_type": "code",
   "execution_count": 4,
   "metadata": {},
   "outputs": [
    {
     "name": "stdout",
     "output_type": "stream",
     "text": [
      "[0.77510722 0.63182972]\n",
      "[ 0.63182975 -0.7751072 ]\n"
     ]
    }
   ],
   "source": [
    "pca = PCA_gradient(n_component=2)\n",
    "pca.fit(X)"
   ]
  },
  {
   "cell_type": "code",
   "execution_count": 5,
   "metadata": {},
   "outputs": [
    {
     "data": {
      "text/plain": [
       "array([[ 0.77510722,  0.63182975],\n",
       "       [ 0.63182972, -0.7751072 ]])"
      ]
     },
     "execution_count": 5,
     "metadata": {},
     "output_type": "execute_result"
    }
   ],
   "source": [
    "pca.W"
   ]
  },
  {
   "cell_type": "code",
   "execution_count": 6,
   "metadata": {},
   "outputs": [
    {
     "data": {
      "text/plain": [
       "(0, 100)"
      ]
     },
     "execution_count": 6,
     "metadata": {},
     "output_type": "execute_result"
    },
    {
     "data": {
      "image/png": "[encoded data removed]",
      "text/plain": [
       "<Figure size 360x360 with 1 Axes>"
      ]
     },
     "metadata": {
      "needs_background": "light"
     },
     "output_type": "display_data"
    }
   ],
   "source": [
    "w1 = pca.W[:,0]\n",
    "w2 = pca.W[:,1]\n",
    "plt.figure(figsize=(5,5))\n",
    "plt.scatter(X[:,0],X[:,1])\n",
    "plt.plot([0,150*w1[0]],[0,150*w1[1]])\n",
    "plt.plot([60,60*w2[0]+60,60-60*w2[0]],[0,60*w2[1],-60*w2[1]])\n",
    "plt.xlim([0,100])\n",
    "plt.ylim([0,100])"
   ]
  },
  {
   "cell_type": "code",
   "execution_count": 7,
   "metadata": {},
   "outputs": [
    {
     "name": "stdout",
     "output_type": "stream",
     "text": [
      "[0.77510722 0.63182972]\n"
     ]
    }
   ],
   "source": [
    "pca = PCA_gradient(n_component=1)\n",
    "pca.fit(X)\n",
    "X_k = pca.transform(X)\n",
    "X_m = pca.reversetransform(X_k)"
   ]
  },
  {
   "cell_type": "code",
   "execution_count": 8,
   "metadata": {},
   "outputs": [
    {
     "data": {
      "text/plain": [
       "<matplotlib.collections.PathCollection at 0x11a2bbba8>"
      ]
     },
     "execution_count": 8,
     "metadata": {},
     "output_type": "execute_result"
    },
    {
     "data": {
      "image/png": "[encoded data removed]",
      "text/plain": [
       "<Figure size 432x288 with 1 Axes>"
      ]
     },
     "metadata": {
      "needs_background": "light"
     },
     "output_type": "display_data"
    }
   ],
   "source": [
    "plt.scatter(X[:,0],X[:,1],alpha=0.5)\n",
    "plt.scatter(X_m[:,0],X_m[:,1],alpha=0.5)"
   ]
  },
  {
   "cell_type": "markdown",
   "metadata": {},
   "source": [
    "验证无误～"
   ]
  }
 ],
 "metadata": {
  "kernelspec": {
   "display_name": "Python 3",
   "language": "python",
   "name": "python3"
  },
  "language_info": {
   "codemirror_mode": {
    "name": "ipython",
    "version": 3
   },
   "file_extension": ".py",
   "mimetype": "text/x-python",
   "name": "python",
   "nbconvert_exporter": "python",
   "pygments_lexer": "ipython3",
   "version": "3.7.0"
  }
 },
 "nbformat": 4,
 "nbformat_minor": 2
}
