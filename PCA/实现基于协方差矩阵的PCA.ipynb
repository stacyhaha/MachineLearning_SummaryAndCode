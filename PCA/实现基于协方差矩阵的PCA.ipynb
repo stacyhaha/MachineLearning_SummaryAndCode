{
 "cells": [
  {
   "cell_type": "markdown",
   "metadata": {},
   "source": [
    "# 实现基于协方差矩阵的PCA\n",
    "## 目录"
   ]
  },
  {
   "cell_type": "markdown",
   "metadata": {},
   "source": [
    "## 基于协方差矩阵的PCA原理\n",
    "\n",
    "参考资料：\n",
    "http://blog.codinglabs.org/articles/pca-tutorial.html  \n",
    "文章写的太好了\n",
    "寻找一维基：\n",
    "还是寻找一维基，使得所有数据变换（即投影）后，方差尽可能大\n",
    "$$Var(a) = \\frac{1}{m}\\sum\\limits_{i=1}^ma_i^2$$\n",
    "\n",
    "寻找第二维基：\n",
    "我们希望让这两个字段尽可能表示更多的原始信息，所以我们希望他们是（线性）无关的  \n",
    "字段的相关性可以用两个字段的协方差来表示。\n",
    "\n",
    "----\n",
    "协方差\n",
    "$$Cov(a,b) = \\frac{1}{m} E\\big( (X-EX)(Y-EY) \\big)$$\n",
    "因为我们在进行PCA之前会对数据进行去均值化，故\n",
    "$$Cov(a,b) = E(XY) = \\frac{1}{m}\\sum\\limits_{i=1}^ma_ib_i$$\n",
    "将一组N维向量降到K维，目标是选择K个单位正交基，使得原始数据变换到这组基上后，各字段两两协方差为0，字段的方差尽可能大（正交约束下，取最大的K各方差）\n",
    "\n",
    "----\n",
    "协方差矩阵\n",
    "$\\frac{1}{m}X^TX$正好可以求出X每两个特征之间的协方差\n",
    "设协方差矩阵为$C = \\frac{1}{m}X^TX$\n",
    "C是一个对称矩阵，其对角线上分别为各个字段的方差，而第i行第j列的元素表示i和j字段的协方差\n",
    "\n",
    "-----\n",
    "协方差矩阵对角化\n",
    "我们的目标就是让协方差矩阵对角化，即除对角线外的其他元素化为0（两两无关),且对角线上的元素按从大到小排列  \n",
    "设满足这个要求的目标矩阵为Y，即变换后的矩阵  \n",
    "则$\\frac{1}{m}Y^TY$是对角阵   \n",
    "故$\\Lambda = \\frac{1}{m}Y^TY$  \n",
    "因为Y 是由 X空间变换而来，故假设变换到的空间的基向量矩阵为P  \n",
    "故$Y^T = P^{(-1)}X^T$\n",
    "\n",
    "$$\\begin{aligned}\n",
    "\\Lambda & = \\frac{1}{m}P^{(-1)}X^TX(P^{(-1)})^T \\\\ \n",
    "& = P^{(-1)}C(P^{(-1)})^T \n",
    "\\end{aligned}\n",
    "$$\n",
    "\n",
    "我们要找的即是让C矩阵对角化的矩阵。    \n",
    "由于C矩阵是是对称矩阵，故可以得到n个单位正交特征向量  \n",
    "$E^TCE = \\Lambda$\n",
    "\n",
    "故$P^{(-1)} = E^T$  \n",
    "$P = E$(因为E是标准正交矩阵，$E^T = E^{(-1)}$)\n",
    "\n",
    "具体操作：\n",
    "* 求出X的协方差矩阵C\n",
    "* 求出C的特征值和特征向量\n",
    "* $\\Lambda$中的特征值按从大到小摆放，P为对应的单位正交特征向量\n",
    "----\n",
    "PCA算法\n",
    "* X矩阵去均值\n",
    "* 求出X的协方差矩阵$C= \\frac{1}{m}X^TX$\n",
    "* 求出C的特征值和对应的特征向量\n",
    "* 将特征向量对应的特征值从大到小按列排列成矩阵，取前k列组成矩阵P\n",
    "* Y = P^{(-1)}X即为降维到k维的数据"
   ]
  },
  {
   "cell_type": "code",
   "execution_count": 1,
   "metadata": {},
   "outputs": [],
   "source": [
    "## 实现基于协方差矩阵的PCA\n",
    "import numpy as np\n",
    "class PCA_cov():\n",
    "    \n",
    "    def __init__(self,n_component):\n",
    "        self.n_components = n_component\n",
    "        self.W = None\n",
    "        \n",
    "    def fit(self,X):\n",
    "        X = X - X.mean(axis=0) #去均值化\n",
    "        C = X.T.dot(X)/len(X) #求协方差矩阵\n",
    "        v,w = np.linalg.eig(C) #求协方差矩阵的特征值和特征向量\n",
    "        index = np.argsort(v)[::-1]#将特征值有大到小排列\n",
    "        self.W = w[:,index[:self.n_components]] #W即为前n_components特征向量\n",
    "    \n",
    "    def transform(self,X):\n",
    "        assert self.W is not None,\"fit before transform\"\n",
    "        return X.dot(self.W)\n",
    "    \n",
    "    def reverse_transform(self,X):\n",
    "        return X.dot(self.W.T)"
   ]
  },
  {
   "cell_type": "markdown",
   "metadata": {},
   "source": [
    "## 自制数据集进行验证"
   ]
  },
  {
   "cell_type": "code",
   "execution_count": 4,
   "metadata": {},
   "outputs": [
    {
     "data": {
      "text/plain": [
       "<matplotlib.collections.PathCollection at 0x11f98e9b0>"
      ]
     },
     "execution_count": 4,
     "metadata": {},
     "output_type": "execute_result"
    },
    {
     "data": {
      "image/png": "[encoded data removed]",
      "text/plain": [
       "<Figure size 432x288 with 1 Axes>"
      ]
     },
     "metadata": {
      "needs_background": "light"
     },
     "output_type": "display_data"
    }
   ],
   "source": [
    "import numpy as np\n",
    "X = np.empty(shape=(100,2))\n",
    "X[:,0] = np.random.uniform(0,100,size=100)\n",
    "X[:,1] = X[:,0]*0.75 + 3 + np.random.normal(0,10,size=100)\n",
    "import matplotlib.pyplot as plt\n",
    "plt.scatter(X[:,0],X[:,1])"
   ]
  },
  {
   "cell_type": "code",
   "execution_count": 5,
   "metadata": {},
   "outputs": [],
   "source": [
    "pca = PCA_cov(n_component=1)\n",
    "pca.fit(X)\n",
    "Y = pca.transform(X)\n",
    "X_new = pca.reverse_transform(Y)"
   ]
  },
  {
   "cell_type": "code",
   "execution_count": 6,
   "metadata": {},
   "outputs": [
    {
     "data": {
      "text/plain": [
       "1"
      ]
     },
     "execution_count": 6,
     "metadata": {},
     "output_type": "execute_result"
    }
   ],
   "source": [
    "pca.n_components"
   ]
  },
  {
   "cell_type": "code",
   "execution_count": 7,
   "metadata": {},
   "outputs": [
    {
     "data": {
      "text/plain": [
       "array([[0.78003446],\n",
       "       [0.62573656]])"
      ]
     },
     "execution_count": 7,
     "metadata": {},
     "output_type": "execute_result"
    }
   ],
   "source": [
    "pca.W"
   ]
  },
  {
   "cell_type": "code",
   "execution_count": 8,
   "metadata": {},
   "outputs": [
    {
     "data": {
      "text/plain": [
       "<matplotlib.collections.PathCollection at 0x11f9f6b38>"
      ]
     },
     "execution_count": 8,
     "metadata": {},
     "output_type": "execute_result"
    },
    {
     "data": {
      "image/png": "[encoded data removed]",
      "text/plain": [
       "<Figure size 432x288 with 1 Axes>"
      ]
     },
     "metadata": {
      "needs_background": "light"
     },
     "output_type": "display_data"
    }
   ],
   "source": [
    "plt.scatter(X[:,0],X[:,1])\n",
    "plt.scatter(X_new[:,0],X_new[:,1])"
   ]
  },
  {
   "cell_type": "markdown",
   "metadata": {},
   "source": [
    "## PCA的能力和限制\n",
    "PCA对于存在高阶相关性的数据就没有办法了，可以考虑Kernel PCA,通过Kernel函数将非线性相关转化为线性相关。  \n",
    "另外PCA假设数据各主特征是分布在正交方向上，如果在非正交方向上存在几个方差较大的方向，那么PCA的效果就大打折扣"
   ]
  }
 ],
 "metadata": {
  "kernelspec": {
   "display_name": "Python 3",
   "language": "python",
   "name": "python3"
  },
  "language_info": {
   "codemirror_mode": {
    "name": "ipython",
    "version": 3
   },
   "file_extension": ".py",
   "mimetype": "text/x-python",
   "name": "python",
   "nbconvert_exporter": "python",
   "pygments_lexer": "ipython3",
   "version": "3.7.0"
  }
 },
 "nbformat": 4,
 "nbformat_minor": 2
}
