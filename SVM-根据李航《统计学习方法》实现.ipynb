{
 "cells": [
  {
   "cell_type": "markdown",
   "metadata": {},
   "source": [
    "## 根据李航《统计学习方法》中的SMO算法思路实现"
   ]
  },
  {
   "cell_type": "markdown",
   "metadata": {},
   "source": [
    "建立数据集"
   ]
  },
  {
   "cell_type": "code",
   "execution_count": 90,
   "metadata": {},
   "outputs": [],
   "source": [
    "import numpy as np\n",
    "import matplotlib.pyplot as plt"
   ]
  },
  {
   "cell_type": "code",
   "execution_count": 91,
   "metadata": {},
   "outputs": [],
   "source": [
    "X=np.array([\n",
    "            [0,6],\n",
    "            [1,5],\n",
    "            [1,7],\n",
    "            [3,3],\n",
    "            [4,3],\n",
    "            [3,1]])\n",
    "y=np.array([1,1,1,-1,-1,-1])"
   ]
  },
  {
   "cell_type": "code",
   "execution_count": 92,
   "metadata": {},
   "outputs": [
    {
     "data": {
      "text/plain": [
       "<matplotlib.legend.Legend at 0x1a2423e320>"
      ]
     },
     "execution_count": 92,
     "metadata": {},
     "output_type": "execute_result"
    },
    {
     "data": {
      "image/png": "[encoded data removed]",
      "text/plain": [
       "<Figure size 432x288 with 1 Axes>"
      ]
     },
     "metadata": {
      "needs_background": "light"
     },
     "output_type": "display_data"
    }
   ],
   "source": [
    "plt.scatter(X[y==1,0],X[y==1,1],label='+',color='r')\n",
    "plt.scatter(X[y==-1,0],X[y==-1,1],label='-',color='b')\n",
    "plt.legend()"
   ]
  },
  {
   "cell_type": "markdown",
   "metadata": {},
   "source": [
    "涉及到的公式和流程\n",
    "1.初始化alpha,E,C,b\n",
    "2.根据kkt条件选取优化变量\n",
    "$$\n",
    "\\begin{cases}\n",
    "\\alpha_i=0&y_ig(x_i)\\geqslant1 &对应自由变量，对确定分类超平面不起作用\\\\\n",
    "0<\\alpha_i<C&y_ig(x_i)=1& 支撑向量\\\\\n",
    "\\alpha_i=C&y_ig(x_i)\\leqslant1&违反了不等式约束，进行了惩罚\n",
    "\\end{cases}$$"
   ]
  },
  {
   "cell_type": "code",
   "execution_count": 93,
   "metadata": {},
   "outputs": [],
   "source": [
    "class SVM:\n",
    "    def __init__(self,kernel='linear',max_iter=2000):\n",
    "        self.max_iter = max_iter\n",
    "        self._kernel = kernel\n",
    "    \n",
    "    def _calE(self,i):\n",
    "        return self._u(i)-self.y[i]\n",
    "    \n",
    "    def _u(self,i):\n",
    "        return np.sum(self.X.dot(self.X[i])*self.alpha*self.y)+self.b\n",
    "    \n",
    "    def _KKT(self,i):\n",
    "        yu = self._u(i)*self.y[i]\n",
    "        if np.abs(self.alpha[i] - 0) <= self.epsilon:\n",
    "            return yu >= 1+self.epsilon\n",
    "        elif 0<self.alpha[i]<self.C:\n",
    "            return np.abs(yu - 1) <= self.epsilon\n",
    "        else:\n",
    "            return yu <= 1-self.epsilon\n",
    "\n",
    "    def kernel(self,i,j):\n",
    "        if self._kernel == 'linear':\n",
    "            return self.X[i].dot(self.X[j])\n",
    "    \n",
    "    def _new_alpha(self,i,j):\n",
    "        if self.y[i]== self.y[j]:\n",
    "            L = max(0,self.alpha[i]+self.alpha[j]-self.C)\n",
    "            H = min(self.C,self.alpha[i]+self.alpha[j])\n",
    "        else:\n",
    "            L = max(0,self.alpha[j]-self.alpha[i])\n",
    "            H = min(self.C,self.C+self.alpha[j]-self.alpha[i])\n",
    "        \n",
    "        eta = self.kernel(i,i)+self.kernel(j,j)-2*self.kernel(i,j)\n",
    "        if eta==0:\n",
    "            print(\"bug\",i,j)\n",
    "        alpha_2_un = self.alpha[j]+self.y[j]*(self.E[i]-self.E[j])/eta\n",
    "        \n",
    "        if alpha_2_un > H:\n",
    "            alpha_2_new = H\n",
    "        elif alpha_2_un < L:\n",
    "            alpha_2_new = L\n",
    "        else:\n",
    "            alpha_2_new = alpha_2_un\n",
    "        \n",
    "        alpha_1_new=self.alpha[i]+self.y[i]*self.y[j]*(self.alpha[j]-alpha_2_new)\n",
    "        \n",
    "        return alpha_1_new,alpha_2_new\n",
    "        \n",
    "        \n",
    "    \n",
    "    def fit(self,features,labels,C=1,epsilon=1e-3):\n",
    "        \n",
    "        self.X = features\n",
    "        self.y = labels\n",
    "        self.b = 0\n",
    "        self.C = C\n",
    "        self.alpha = np.zeros(len(self.X))\n",
    "        self.epsilon=epsilon\n",
    "        self.E = np.array([self._calE(k) for k in range(len(self.X))])\n",
    "        self.w = 0\n",
    "        \n",
    "        for internum in range(self.max_iter):\n",
    "            \n",
    "            index_list = np.array(np.where(self.alpha > self.epsilon)).flatten()\n",
    "            non_list = np.array(np.where(abs(self.alpha) <= self.epsilon)).flatten().copy()\n",
    "            all_list = np.hstack([index_list,non_list])\n",
    "            \n",
    "            for k in all_list:\n",
    "                if self._KKT(k):\n",
    "                    continue\n",
    "                \n",
    "                j_index = index_list[index_list!=k]\n",
    "                j_non = non_list[non_list!=k]\n",
    "                if(len(j_index))>1:\n",
    "                    E_temp=np.abs(self.E[j_index]-self.E[k])\n",
    "                    j=j_index[np.argmax(E_temp)]\n",
    "                    i=k\n",
    "                    break\n",
    "                else:\n",
    "                    E_temp=np.abs(self.E[j_non]-self.E[k])\n",
    "                    j=j_non[np.argmax(E_temp)]\n",
    "                    i=k\n",
    "                    break\n",
    "            \n",
    "            \n",
    "            alpha_1_new,alpha_2_new=self._new_alpha(i,j)\n",
    "            \n",
    "            b1_new = -self.E[i]-self.y[i]*self.kernel(i,i)*(alpha_1_new-self.alpha[i])-self.y[j]*self.kernel(j,i)*(alpha_2_new-self.alpha[j])+self.b\n",
    "            b2_new = -self.E[j]-self.y[i]*self.kernel(i,j)*(alpha_1_new-self.alpha[i])-self.y[j]*self.kernel(j,j)*(alpha_2_new-self.alpha[j])+self.b\n",
    "        \n",
    "            if 0 < alpha_1_new <self.C:\n",
    "                b_new = b1_new\n",
    "            elif 0 < alpha_2_new <self.C:\n",
    "                b_new = b2_new\n",
    "            else:\n",
    "                b_new = (b1_new+b2_new)/2\n",
    "        \n",
    "            self.alpha[i]=alpha_1_new\n",
    "            self.alpha[j]=alpha_2_new\n",
    "            self.b = b_new\n",
    "            \n",
    "            for k in range(len(self.X)):\n",
    "                self.E[k]=self._calE(k)\n",
    " \n",
    "        self.w = self._weight()\n",
    "    def _weight(self):\n",
    "        return np.sum(self.X*np.tile(self.y.reshape(-1,1),(1,self.X.shape[1]))*np.tile(self.alpha.reshape(-1,1),(1,self.X.shape[1])),axis=0)\n",
    "       "
   ]
  },
  {
   "cell_type": "code",
   "execution_count": 94,
   "metadata": {},
   "outputs": [
    {
     "data": {
      "text/plain": [
       "array([0.        , 0.14814815, 0.        , 0.14814815, 0.        ,\n",
       "       0.        ])"
      ]
     },
     "execution_count": 94,
     "metadata": {},
     "output_type": "execute_result"
    }
   ],
   "source": [
    "clf = SVM()\n",
    "clf.fit(X,y,C=100)\n",
    "clf.alpha\n",
    "w3 = clf.w\n",
    "b3 = clf.b\n",
    "clf.alpha"
   ]
  },
  {
   "cell_type": "code",
   "execution_count": 95,
   "metadata": {},
   "outputs": [
    {
     "data": {
      "text/plain": [
       "[<matplotlib.lines.Line2D at 0x1a243787f0>]"
      ]
     },
     "execution_count": 95,
     "metadata": {},
     "output_type": "execute_result"
    },
    {
     "data": {
      "image/png": "[encoded data removed]",
      "text/plain": [
       "<Figure size 432x288 with 1 Axes>"
      ]
     },
     "metadata": {
      "needs_background": "light"
     },
     "output_type": "display_data"
    }
   ],
   "source": [
    "x_plot=np.linspace(-1,5,10000)\n",
    "y_plot=(-b3-w3[0]*x_plot)/w3[1]\n",
    "\n",
    "plt.scatter(X[y==1,0],X[y==1,1])\n",
    "plt.scatter(X[y==-1,0],X[y==-1,1])\n",
    "plt.plot(x_plot,y_plot)"
   ]
  },
  {
   "cell_type": "code",
   "execution_count": 96,
   "metadata": {},
   "outputs": [
    {
     "data": {
      "text/plain": [
       "[<matplotlib.lines.Line2D at 0x1a24508550>]"
      ]
     },
     "execution_count": 96,
     "metadata": {},
     "output_type": "execute_result"
    },
    {
     "data": {
      "image/png": "[encoded data removed]",
      "text/plain": [
       "<Figure size 432x288 with 1 Axes>"
      ]
     },
     "metadata": {
      "needs_background": "light"
     },
     "output_type": "display_data"
    }
   ],
   "source": [
    "from sklearn.svm import LinearSVC\n",
    "clf = LinearSVC()\n",
    "clf.fit(X,y)\n",
    "w0=clf.coef_\n",
    "b0=clf.intercept_\n",
    "x_plot=np.linspace(-1,5,1000)\n",
    "y_plot=(-b3-w3[0]*x_plot)/w3[1]\n",
    "y_plot2=(-b0-w0[0,0]*x_plot)/w0[0,1]\n",
    "plt.scatter(X[y==1,0],X[y==1,1])\n",
    "plt.scatter(X[y==-1,0],X[y==-1,1])\n",
    "plt.plot(x_plot,y_plot)\n",
    "plt.plot(x_plot,y_plot2)"
   ]
  },
  {
   "cell_type": "code",
   "execution_count": 97,
   "metadata": {},
   "outputs": [],
   "source": [
    "from sklearn.datasets import load_iris\n",
    "iris=load_iris()\n",
    "X=iris.data[iris.target!=2]\n",
    "X=X[:,0:2]\n",
    "y=iris.target[iris.target!=2]\n",
    "y[y==0]=-1"
   ]
  },
  {
   "cell_type": "code",
   "execution_count": 98,
   "metadata": {},
   "outputs": [
    {
     "data": {
      "text/plain": [
       "array([ 0.00000000e+00,  0.00000000e+00,  0.00000000e+00,  0.00000000e+00,\n",
       "        0.00000000e+00,  0.00000000e+00,  0.00000000e+00,  0.00000000e+00,\n",
       "        0.00000000e+00,  0.00000000e+00,  0.00000000e+00,  0.00000000e+00,\n",
       "        0.00000000e+00,  0.00000000e+00,  0.00000000e+00,  0.00000000e+00,\n",
       "        0.00000000e+00,  0.00000000e+00, -2.22044605e-16,  0.00000000e+00,\n",
       "        7.67179484e+00,  0.00000000e+00,  0.00000000e+00,  0.00000000e+00,\n",
       "        0.00000000e+00,  0.00000000e+00,  0.00000000e+00,  0.00000000e+00,\n",
       "        0.00000000e+00,  0.00000000e+00,  0.00000000e+00,  0.00000000e+00,\n",
       "        0.00000000e+00,  0.00000000e+00,  0.00000000e+00,  0.00000000e+00,\n",
       "        0.00000000e+00,  0.00000000e+00,  0.00000000e+00,  0.00000000e+00,\n",
       "        0.00000000e+00,  2.52991452e+01,  0.00000000e+00,  0.00000000e+00,\n",
       "        0.00000000e+00,  0.00000000e+00,  0.00000000e+00,  0.00000000e+00,\n",
       "        0.00000000e+00,  0.00000000e+00,  0.00000000e+00,  0.00000000e+00,\n",
       "        0.00000000e+00,  0.00000000e+00,  0.00000000e+00,  0.00000000e+00,\n",
       "        0.00000000e+00,  3.29709400e+01,  0.00000000e+00,  0.00000000e+00,\n",
       "        0.00000000e+00,  0.00000000e+00,  0.00000000e+00,  0.00000000e+00,\n",
       "        0.00000000e+00,  0.00000000e+00,  0.00000000e+00,  0.00000000e+00,\n",
       "        0.00000000e+00,  0.00000000e+00,  0.00000000e+00,  0.00000000e+00,\n",
       "        0.00000000e+00,  0.00000000e+00,  0.00000000e+00,  0.00000000e+00,\n",
       "        0.00000000e+00,  0.00000000e+00,  0.00000000e+00,  0.00000000e+00,\n",
       "        0.00000000e+00,  0.00000000e+00,  0.00000000e+00,  0.00000000e+00,\n",
       "        0.00000000e+00,  0.00000000e+00,  0.00000000e+00,  0.00000000e+00,\n",
       "        0.00000000e+00,  0.00000000e+00,  0.00000000e+00,  0.00000000e+00,\n",
       "        0.00000000e+00,  0.00000000e+00,  0.00000000e+00,  0.00000000e+00,\n",
       "        0.00000000e+00,  0.00000000e+00,  0.00000000e+00,  0.00000000e+00])"
      ]
     },
     "execution_count": 98,
     "metadata": {},
     "output_type": "execute_result"
    }
   ],
   "source": [
    "clf = SVM(max_iter=1000)\n",
    "clf.fit(X,y,C=1000)\n",
    "clf.alpha\n",
    "w = clf.w\n",
    "b = clf.b\n",
    "clf.alpha"
   ]
  },
  {
   "cell_type": "code",
   "execution_count": 99,
   "metadata": {},
   "outputs": [
    {
     "data": {
      "text/plain": [
       "[<matplotlib.lines.Line2D at 0x1a24568550>]"
      ]
     },
     "execution_count": 99,
     "metadata": {},
     "output_type": "execute_result"
    },
    {
     "data": {
      "image/png": "[encoded data removed]",
      "text/plain": [
       "<Figure size 432x288 with 1 Axes>"
      ]
     },
     "metadata": {
      "needs_background": "light"
     },
     "output_type": "display_data"
    }
   ],
   "source": [
    "x_plot=np.linspace(4,7,10000)\n",
    "y_plot=(-b-w[0]*x_plot)/w[1]\n",
    "plt.scatter(X[y==1,0],X[y==1,1])\n",
    "plt.scatter(X[y==-1,0],X[y==-1,1])\n",
    "plt.plot(x_plot,y_plot)"
   ]
  },
  {
   "cell_type": "code",
   "execution_count": 100,
   "metadata": {},
   "outputs": [
    {
     "name": "stderr",
     "output_type": "stream",
     "text": [
      "/anaconda3/lib/python3.7/site-packages/sklearn/svm/base.py:931: ConvergenceWarning: Liblinear failed to converge, increase the number of iterations.\n",
      "  \"the number of iterations.\", ConvergenceWarning)\n"
     ]
    },
    {
     "data": {
      "text/plain": [
       "<matplotlib.legend.Legend at 0x1a246e2d68>"
      ]
     },
     "execution_count": 100,
     "metadata": {},
     "output_type": "execute_result"
    },
    {
     "data": {
      "image/png": "[encoded data removed]",
      "text/plain": [
       "<Figure size 432x288 with 1 Axes>"
      ]
     },
     "metadata": {
      "needs_background": "light"
     },
     "output_type": "display_data"
    }
   ],
   "source": [
    "from sklearn.svm import LinearSVC\n",
    "clf = LinearSVC(C=1000)\n",
    "clf.fit(X,y)\n",
    "w0=clf.coef_\n",
    "b0=clf.intercept_\n",
    "x_plot=np.linspace(4,7,1000)\n",
    "y_plot=(-b-w[0]*x_plot)/w[1]\n",
    "y_plot2=(-b0-w0[0,0]*x_plot)/w0[0,1]\n",
    "plt.scatter(X[y==1,0],X[y==1,1])\n",
    "plt.scatter(X[y==-1,0],X[y==-1,1])\n",
    "plt.plot(x_plot,y_plot,label='myself')\n",
    "plt.plot(x_plot,y_plot2,label='svm')\n",
    "plt.legend()"
   ]
  }
 ],
 "metadata": {
  "kernelspec": {
   "display_name": "Python 3",
   "language": "python",
   "name": "python3"
  },
  "language_info": {
   "codemirror_mode": {
    "name": "ipython",
    "version": 3
   },
   "file_extension": ".py",
   "mimetype": "text/x-python",
   "name": "python",
   "nbconvert_exporter": "python",
   "pygments_lexer": "ipython3",
   "version": "3.7.3"
  }
 },
 "nbformat": 4,
 "nbformat_minor": 2
}
