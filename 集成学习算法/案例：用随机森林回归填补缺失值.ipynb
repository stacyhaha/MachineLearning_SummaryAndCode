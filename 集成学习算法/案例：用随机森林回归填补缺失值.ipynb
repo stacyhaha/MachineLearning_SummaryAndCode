{
 "cells": [
  {
   "cell_type": "markdown",
   "metadata": {},
   "source": [
    "# 案例：用随机森林回归填补缺失值\n",
    "## 目录\n",
    "1. 制作有缺失值的数据\n",
    "2. 填补缺失值\n",
    "        * 0\n",
    "        * 均值\n",
    "        * 随机森林\n",
    "            * 初始补0\n",
    "            * 初始补均值\n",
    "3. 用填补好的数据建模\n",
    "4. 用所得的结果画条形图"
   ]
  },
  {
   "cell_type": "markdown",
   "metadata": {},
   "source": [
    "## 制作有缺失值的数据"
   ]
  },
  {
   "cell_type": "code",
   "execution_count": 1,
   "metadata": {},
   "outputs": [],
   "source": [
    "import numpy as np\n",
    "import pandas as pd\n",
    "import matplotlib.pyplot as plt\n",
    "from sklearn.datasets import load_boston"
   ]
  },
  {
   "cell_type": "code",
   "execution_count": 2,
   "metadata": {},
   "outputs": [],
   "source": [
    "boston = load_boston()\n",
    "X_full = boston.data\n",
    "y_full = boston.target\n",
    "n_samples = X_full.shape[0]\n",
    "n_features = X_full.shape[1]"
   ]
  },
  {
   "cell_type": "code",
   "execution_count": 3,
   "metadata": {},
   "outputs": [],
   "source": [
    "missing_rate=0.5\n",
    "n_missing_samples = int(n_samples*n_features*missing_rate)"
   ]
  },
  {
   "cell_type": "code",
   "execution_count": 4,
   "metadata": {},
   "outputs": [],
   "source": [
    "rng = np.random.RandomState(0)\n",
    "missing_index = rng.permutation(n_features*n_samples)[:n_missing_samples]"
   ]
  },
  {
   "cell_type": "code",
   "execution_count": 5,
   "metadata": {},
   "outputs": [],
   "source": [
    "X_missing = X_full.copy()\n",
    "y_missing = y_full.copy()"
   ]
  },
  {
   "cell_type": "code",
   "execution_count": 6,
   "metadata": {},
   "outputs": [],
   "source": [
    "X_missing_flatten = X_missing.flatten()\n",
    "X_missing_flatten[missing_index]=np.nan\n",
    "X_missing = X_missing_flatten.reshape(X_full.shape)"
   ]
  },
  {
   "cell_type": "markdown",
   "metadata": {},
   "source": [
    "检验下是否有50%的数据为缺失值"
   ]
  },
  {
   "cell_type": "code",
   "execution_count": 7,
   "metadata": {},
   "outputs": [
    {
     "data": {
      "text/plain": [
       "True"
      ]
     },
     "execution_count": 7,
     "metadata": {},
     "output_type": "execute_result"
    }
   ],
   "source": [
    "np.isnan(X_missing).sum() == n_missing_samples"
   ]
  },
  {
   "cell_type": "markdown",
   "metadata": {},
   "source": [
    "## 填补缺失值\n",
    "分别采用三个策略来填补缺失值\n",
    "1. 0\n",
    "2. 均值\n",
    "3. 随机森林\n",
    "\n",
    "其中前两个策略直接使用sklearn.impute.SimpleImputer就可以简单实现  \n",
    "区别在于\n",
    "strategy=\"constant\",full_value=0  \n",
    "strategy=\"mean\"  \n",
    "strategy=\"median\"  \n",
    "strategy=\"most_frequent\""
   ]
  },
  {
   "cell_type": "markdown",
   "metadata": {},
   "source": [
    "### 使用0来填补缺失值\n",
    "使用sklearn.impute 中的SimpleImputer  \n",
    "SimpleImputer(missing_value=np.nan.strategy=\"constant\",full_value=0)#当然也可以填你喜欢的数字"
   ]
  },
  {
   "cell_type": "code",
   "execution_count": 8,
   "metadata": {},
   "outputs": [],
   "source": [
    "from sklearn.impute import SimpleImputer\n",
    "imp_0 = SimpleImputer(missing_values=np.nan,strategy=\"constant\",fill_value=0)\n",
    "X_missing_0 = imp_0.fit_transform(X_missing)"
   ]
  },
  {
   "cell_type": "markdown",
   "metadata": {},
   "source": [
    "### 使用均值来进行填补\n",
    "SimpleImputer中的strategy=\"mean\""
   ]
  },
  {
   "cell_type": "code",
   "execution_count": 9,
   "metadata": {},
   "outputs": [],
   "source": [
    "imp_mean = SimpleImputer(missing_values=np.nan,strategy=\"mean\")\n",
    "X_missing_mean = imp_mean.fit_transform(X_missing)"
   ]
  },
  {
   "cell_type": "markdown",
   "metadata": {},
   "source": [
    "### 使用随机森林填补缺失值"
   ]
  },
  {
   "cell_type": "markdown",
   "metadata": {},
   "source": [
    "遍历所有特征，从缺失最少的开始填补  \n",
    "填补一个特征时，先将其他特征的缺失值用0代替  \n",
    "每完成一次回归预测，就将预测值放在原本的特征矩阵中，补下一个特征。  \n",
    "每一次填补完毕，有缺失值的特征会减少一个，  \n",
    "所以每次循环后，需要用0填补的特征越来越少。  \n",
    "当进行到最后一个特征时（这个特征应该是所有特征中缺失值最多的），已经没有任何的其他特征需要用0来进行填补。而我们已经使用回归为其他特征填补了大量有效信息，可以用来填补缺失最多的特征。  \n",
    "遍历所有特征后，数据就完整，不再有缺失值了。"
   ]
  },
  {
   "cell_type": "code",
   "execution_count": 10,
   "metadata": {},
   "outputs": [],
   "source": [
    "X_missing_r0 = X_missing.copy()"
   ]
  },
  {
   "cell_type": "code",
   "execution_count": 11,
   "metadata": {},
   "outputs": [
    {
     "name": "stdout",
     "output_type": "stream",
     "text": [
      "[251 257 263 241 255 255 247 259 249 264 256 254   0]\n",
      "[251 257 263   0 255 255 247 259 249 264 256 254   0]\n",
      "[251 257 263   0 255 255   0 259 249 264 256 254   0]\n",
      "[251 257 263   0 255 255   0 259   0 264 256 254   0]\n",
      "[  0 257 263   0 255 255   0 259   0 264 256 254   0]\n",
      "[  0 257 263   0 255 255   0 259   0 264 256   0   0]\n",
      "[  0 257 263   0   0 255   0 259   0 264 256   0   0]\n",
      "[  0 257 263   0   0   0   0 259   0 264 256   0   0]\n",
      "[  0 257 263   0   0   0   0 259   0 264   0   0   0]\n",
      "[  0   0 263   0   0   0   0 259   0 264   0   0   0]\n",
      "[  0   0 263   0   0   0   0   0   0 264   0   0   0]\n",
      "[  0   0   0   0   0   0   0   0   0 264   0   0   0]\n",
      "[0 0 0 0 0 0 0 0 0 0 0 0 0]\n"
     ]
    }
   ],
   "source": [
    "from sklearn.ensemble import RandomForestRegressor\n",
    "countnan = np.sum(np.isnan(X_missing_r0),axis=0)\n",
    "colindex = np.argsort(countnan)\n",
    "for col in colindex:\n",
    "    \n",
    "    df = pd.DataFrame(X_missing_r0)\n",
    "    fillc = df.iloc[:,col]\n",
    "    df = pd.concat([df.iloc[:,df.columns != col],pd.DataFrame(y_full)],axis=1)\n",
    "    df_0 = SimpleImputer(missing_values=np.nan,strategy=\"constant\",fill_value = 0).fit_transform(df)\n",
    "    \n",
    "    y_train = fillc[fillc.notnull()]\n",
    "    y_test = fillc[fillc.isnull()]\n",
    "    X_train = df_0[y_train.index,:]\n",
    "    X_test = df_0[y_test.index,:]\n",
    "    \n",
    "    #用随机森林回归来填补缺失值\n",
    "    rfc = RandomForestRegressor(n_estimators=50)\n",
    "    rfc.fit(X_train,y_train)\n",
    "    y_predict = rfc.predict(X_test)\n",
    "    \n",
    "    #将填补好的特征返回到原始的特征矩阵中\n",
    "    X_missing_r0[np.isnan(X_missing_r0[:,col]),col]=y_predict\n",
    "    print(np.isnan(X_missing_r0).sum(axis=0))"
   ]
  },
  {
   "cell_type": "code",
   "execution_count": 12,
   "metadata": {},
   "outputs": [],
   "source": [
    "X_missing_rmean = X_missing.copy()"
   ]
  },
  {
   "cell_type": "code",
   "execution_count": 13,
   "metadata": {},
   "outputs": [
    {
     "name": "stdout",
     "output_type": "stream",
     "text": [
      "[251 257 263 241 255 255 247 259 249 264 256 254   0]\n",
      "[251 257 263   0 255 255 247 259 249 264 256 254   0]\n",
      "[251 257 263   0 255 255   0 259 249 264 256 254   0]\n",
      "[251 257 263   0 255 255   0 259   0 264 256 254   0]\n",
      "[  0 257 263   0 255 255   0 259   0 264 256 254   0]\n",
      "[  0 257 263   0 255 255   0 259   0 264 256   0   0]\n",
      "[  0 257 263   0   0 255   0 259   0 264 256   0   0]\n",
      "[  0 257 263   0   0   0   0 259   0 264 256   0   0]\n",
      "[  0 257 263   0   0   0   0 259   0 264   0   0   0]\n",
      "[  0   0 263   0   0   0   0 259   0 264   0   0   0]\n",
      "[  0   0 263   0   0   0   0   0   0 264   0   0   0]\n",
      "[  0   0   0   0   0   0   0   0   0 264   0   0   0]\n",
      "[0 0 0 0 0 0 0 0 0 0 0 0 0]\n"
     ]
    }
   ],
   "source": [
    "countnan = np.isnan(X_missing_rmean).sum(axis=0)\n",
    "indexcol = np.argsort(countnan)\n",
    "for col in indexcol:\n",
    "    \n",
    "    temp = X_missing_rmean.copy()\n",
    "    y = temp[:,col]\n",
    "    X = np.hstack([temp[:,np.arange(X_missing.shape[1])!=col],y_full[:,np.newaxis]])\n",
    "    indexnan = np.isnan(y)\n",
    "    \n",
    "    X = SimpleImputer(missing_values=np.nan,strategy=\"mean\").fit_transform(X)\n",
    "    \n",
    "    X_train = X[~indexnan,:]\n",
    "    X_test = X[indexnan,:]\n",
    "    y_train = y[~indexnan]\n",
    "    \n",
    "    \n",
    "    reg = RandomForestRegressor(n_estimators=100)\n",
    "    reg.fit(X_train,y_train)\n",
    "    pre = reg.predict(X_test)\n",
    "    X_missing_rmean[indexnan,col]=pre\n",
    "    print(np.isnan(X_missing_rmean).sum(axis=0))"
   ]
  },
  {
   "cell_type": "markdown",
   "metadata": {},
   "source": [
    "## 对填补好的数据进行建模"
   ]
  },
  {
   "cell_type": "code",
   "execution_count": 25,
   "metadata": {},
   "outputs": [],
   "source": [
    "from sklearn.model_selection import cross_val_score\n",
    "X = [X_full,X_missing_0,X_missing_mean,X_missing_r0,X_missing_rmean]\n",
    "\n",
    "mse = []\n",
    "std = []\n",
    "for x in X:\n",
    "    estimator = RandomForestRegressor(random_state=666,n_estimators=100)\n",
    "    scores = cross_val_score(estimator,x,y_full,scoring=\"neg_mean_squared_error\",cv=5).mean()\n",
    "    mse.append(scores*-1)"
   ]
  },
  {
   "cell_type": "markdown",
   "metadata": {},
   "source": [
    "## 用所得的结果画出条形图\n",
    "\n",
    "采用mse作为评价指标"
   ]
  },
  {
   "cell_type": "code",
   "execution_count": 26,
   "metadata": {},
   "outputs": [
    {
     "data": {
      "image/png": "[encoded data removed]",
      "text/plain": [
       "<Figure size 864x432 with 1 Axes>"
      ]
     },
     "metadata": {
      "needs_background": "light"
     },
     "output_type": "display_data"
    }
   ],
   "source": [
    "x_labels = [\"Full data\",\"Zero Imputation\",\"Mean Imputation\",\"R0 imputation\",\"RM imputation\"]\n",
    "plt.figure(figsize=(12,6))\n",
    "ax = plt.subplot(111)\n",
    "for i in np.arange(len(mse)):\n",
    "    ax.barh(i,mse[i])\n",
    "ax.set_title(\"Imputation Techniques with Boston Data\")\n",
    "ax.set_xlabel(\"MSE\")\n",
    "ax.set_yticks(np.arange(len(mse)))\n",
    "ax.set_yticklabels(x_labels)\n",
    "plt.show()"
   ]
  },
  {
   "cell_type": "markdown",
   "metadata": {},
   "source": [
    "采用r2作为评价指标"
   ]
  },
  {
   "cell_type": "code",
   "execution_count": 27,
   "metadata": {},
   "outputs": [],
   "source": [
    "from sklearn.model_selection import cross_val_score\n",
    "X = [X_full,X_missing_0,X_missing_mean,X_missing_r0,X_missing_rmean]\n",
    "\n",
    "r2 = []\n",
    "for x in X:\n",
    "    estimator = RandomForestRegressor(random_state=666,n_estimators=100)\n",
    "    scores = cross_val_score(estimator,x,y_full,cv=5).mean()\n",
    "    r2.append(scores)"
   ]
  },
  {
   "cell_type": "code",
   "execution_count": 28,
   "metadata": {},
   "outputs": [
    {
     "data": {
      "image/png": "[encoded data removed]",
      "text/plain": [
       "<Figure size 864x432 with 1 Axes>"
      ]
     },
     "metadata": {
      "needs_background": "light"
     },
     "output_type": "display_data"
    }
   ],
   "source": [
    "x_labels = [\"Full data\",\"Zero Imputation\",\"Mean Imputation\",\"R0 imputation\",\"RM imputation\"]\n",
    "plt.figure(figsize=(12,6))\n",
    "ax = plt.subplot(111)\n",
    "for i in np.arange(len(r2)):\n",
    "    ax.barh(i,r2[i])\n",
    "ax.set_title(\"Imputation Techniques with Boston Data\")\n",
    "ax.set_xlabel(\"r2\")\n",
    "ax.set_yticks(np.arange(len(r2)))\n",
    "ax.set_yticklabels(x_labels)\n",
    "plt.show()"
   ]
  },
  {
   "cell_type": "markdown",
   "metadata": {},
   "source": [
    "可以看出用随机森林填补缺失值的效果很赞！"
   ]
  }
 ],
 "metadata": {
  "kernelspec": {
   "display_name": "Python 3",
   "language": "python",
   "name": "python3"
  },
  "language_info": {
   "codemirror_mode": {
    "name": "ipython",
    "version": 3
   },
   "file_extension": ".py",
   "mimetype": "text/x-python",
   "name": "python",
   "nbconvert_exporter": "python",
   "pygments_lexer": "ipython3",
   "version": "3.7.4"
  }
 },
 "nbformat": 4,
 "nbformat_minor": 2
}
