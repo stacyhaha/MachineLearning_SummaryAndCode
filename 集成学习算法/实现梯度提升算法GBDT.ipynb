{
 "cells": [
  {
   "cell_type": "markdown",
   "metadata": {},
   "source": [
    "# 实现梯度提升算法（GBDT）"
   ]
  },
  {
   "cell_type": "markdown",
   "metadata": {},
   "source": [
    "## 目录\n",
    "* Gradient Boosting算法\n",
    "* 实现GBDT\n",
    "* 使用波士顿房价数据来测试实现的GBDT\n",
    "* GBDT算法与Adaboost算法的对比"
   ]
  },
  {
   "cell_type": "markdown",
   "metadata": {},
   "source": [
    "## Gradient Boosting算法伪代码  \n",
    "1. $F_0(x) = argmin_\\rho\\sum\\limits_{i=1}^NL(y_i,\\rho)$\n",
    "2. For m=1 to M do:  \n",
    "     $\\widetilde y_i = -\\begin{bmatrix}\\frac{\\partial L(y_i,F(x_i))}{\\partial F(x_i)}\\end{bmatrix}_{F(x)=F_{m-1}(x)}, i =1,2,...,M$  \n",
    "     $a_m = argmin_{\\alpha,\\beta}\\sum\\limits_{i=1}^N[\\widetilde y_i - \\beta h(x_i:\\alpha)]^2$  \n",
    "     $\\rho_m = argmin_\\rho \\sum\\limits_{i=1}^N L(y_i,F_{m-1}(x_i)+\\rho h(x_i:a_m))$  \n",
    "     $F_m(x) = F_{m-1}(x) + \\rho_m h(x:\\alpha_m)$  \n",
    "\n",
    "3. end For  \n",
    "4. end Algorithm"
   ]
  },
  {
   "cell_type": "markdown",
   "metadata": {},
   "source": [
    "采用拟合负梯度的原因在于  \n",
    "我们的最终目标是：$min L(y,F_m)$  \n",
    "由于$F_m$是加法模型，故逐步优化F_m，得到使得$min L(y,F_m)$最小的$F_m$  \n",
    "所以这个过程就类似于梯度下降法，每次$x_t = x_{t-1} - \\rho gradient$  \n",
    "即在每次的$x_{t}$的基础上，加上负梯度，   \n",
    "故每次的f_m(x)拟合负梯度"
   ]
  },
  {
   "cell_type": "markdown",
   "metadata": {},
   "source": [
    "## 以决策树为基础，实现以平方误差为损失函数的GBDT"
   ]
  },
  {
   "cell_type": "markdown",
   "metadata": {},
   "source": [
    "采用的决策树为之前实现的回归树，在原基础上添加max_depth剪枝参数  \n",
    "伪代码为：   \n",
    "1. 初始化residual为y值  \n",
    "2. For i to n_estimators:  \n",
    "    f_i = createTree(X_train,residual)  \n",
    "    $\\hat y = F_i.predict(X_train)$  \n",
    "    更新残差值为$y-\\hat y$  \n",
    "    \n",
    "最终得到GBDT算法的树集合$F_{n_estimators}$"
   ]
  },
  {
   "cell_type": "markdown",
   "metadata": {},
   "source": [
    "### 构建弱分类器"
   ]
  },
  {
   "cell_type": "code",
   "execution_count": 1,
   "metadata": {},
   "outputs": [],
   "source": [
    "import numpy as np\n",
    "import graphviz\n",
    "class DecisionTreeRegressor():\n",
    "    \n",
    "    def __init__(self,min_impurity_decrease=0,min_samples_split=2,min_samples_leaf=1,max_depth=None):\n",
    "        self.tree = None\n",
    "        self.min_impurity_decrease = min_impurity_decrease\n",
    "        self.min_samples_split = min_samples_split\n",
    "        self.min_samples_leaf = min_samples_leaf\n",
    "        self.max_depth = max_depth\n",
    "        \n",
    "    def fit(self,X_train,y_train):\n",
    "        \n",
    "        \n",
    "        def leafval(y_train):\n",
    "            return y_train.mean()#返回叶子节点的值\n",
    "        \n",
    "        def Err(y_train):\n",
    "            return y_train.var()*len(y_train)#返回叶子节点的总方差\n",
    "        \n",
    "        def bestsplit(X_train,y_train,min_impurity_decrease,min_samples_split,min_samples_leaf):\n",
    "            \"\"\"寻找最佳的切分特征，最佳的切分数据点。如果是叶子节点，则只返回叶子节点的值\"\"\"\n",
    "            if len(set(y_train)) == 1 or len(y_train) < min_samples_split:#如果y_train只有一个值或者y种的样本量小于最小切分值，则不进行分支\n",
    "                return float(leafval(y_train))\n",
    "            bestErr = float(\"inf\")\n",
    "            bestFeature = -1\n",
    "            bestSplitValue = -1\n",
    "            for feature in range(X_train.shape[1]):\n",
    "                colval = set(X_train[:,feature])\n",
    "                for SplitValue in colval:\n",
    "                    subleft_index = X_train[:,feature]<=SplitValue\n",
    "                    yleft = y_train[subleft_index]\n",
    "                    yright = y_train[~subleft_index]\n",
    "                    if len(yleft) < min_samples_leaf or len(yright) < min_samples_leaf:\n",
    "                        continue #如果子节点的个数小于设定值，则进行考虑\n",
    "                    err = Err(yleft) + Err(yright)\n",
    "                    if err < bestErr:\n",
    "                        bestErr = err\n",
    "                        bestFeature = feature\n",
    "                        bestSplitValue = SplitValue\n",
    "            if Err(y_train) - bestErr < min_impurity_decrease or bestFeature == -1:#方差误差下降的足够大或者无法分割\n",
    "                return float(leafval(y_train))\n",
    "            else:\n",
    "                return bestFeature,bestSplitValue\n",
    "        \n",
    "        def createTree(X_train,y_train,min_impurity_decrease,min_samples_split,min_samples_leaf,depth,max_depth):\n",
    "            \n",
    "            res = bestsplit(X_train,y_train,min_impurity_decrease,min_samples_split,min_samples_leaf)\n",
    "            if depth == max_depth:\n",
    "                return leafval(y_train)\n",
    "            \n",
    "            if type(res) == float:\n",
    "                return res\n",
    "            else:\n",
    "                tree = {}\n",
    "                tree[\"SplitFeature\"] = res[0]\n",
    "                tree[\"SplitValue\"] = res[1]\n",
    "                left_index = X_train[:,res[0]] <= res[1]\n",
    "                Xleft,Xright,yleft,yright = X_train[left_index,:],X_train[~left_index,:],y_train[left_index],y_train[~left_index]\n",
    "                tree[\"LeftChild\"] = createTree(Xleft,yleft,min_impurity_decrease,min_samples_split,min_samples_leaf,depth+1,max_depth)\n",
    "                tree[\"RightChild\"] = createTree(Xright,yright,min_impurity_decrease,min_samples_split,min_samples_leaf,depth+1,max_depth)\n",
    "                return tree\n",
    "        \n",
    "        self.tree = createTree(X_train,y_train,min_impurity_decrease = self.min_impurity_decrease,min_samples_split = self.min_samples_split,min_samples_leaf = self.min_samples_leaf,depth=1,max_depth=self.max_depth)\n",
    "        return self            \n",
    "                    \n",
    "    def predict(self,X_test):\n",
    "        RES = np.empty(len(X_test))\n",
    "        for i in range(len(X_test)):\n",
    "            RES[i] = self._predict(X_test[i])\n",
    "        return RES\n",
    "\n",
    "    def _predict(self,test_data):\n",
    "\n",
    "        def __predict(tree,test_data):\n",
    "            if type(tree) != dict: #如果tree只是一个值，则直接返回预测值\n",
    "                return tree\n",
    "            else:\n",
    "                splitfeature = tree[\"SplitFeature\"]\n",
    "                splitvalue = tree[\"SplitValue\"]\n",
    "                if test_data[splitfeature] <= splitvalue:\n",
    "                    return __predict(tree[\"LeftChild\"],test_data)\n",
    "                else:\n",
    "                    return __predict(tree[\"RightChild\"],test_data)\n",
    "\n",
    "        assert self.tree is not None,\"fit before predict\"\n",
    "        return __predict(self.tree,test_data)"
   ]
  },
  {
   "cell_type": "markdown",
   "metadata": {},
   "source": [
    "验证实现的回归树"
   ]
  },
  {
   "cell_type": "code",
   "execution_count": 2,
   "metadata": {},
   "outputs": [
    {
     "data": {
      "text/plain": [
       "<Figure size 640x480 with 1 Axes>"
      ]
     },
     "metadata": {},
     "output_type": "display_data"
    }
   ],
   "source": [
    "import pandas as pd\n",
    "data = np.array(pd.read_csv(\"ex00.txt\",header=None,sep=\"\\t\"))\n",
    "X = data[:,0][:,np.newaxis]\n",
    "y = data[:,1]\n",
    "import matplotlib.pyplot as plt\n",
    "plt.scatter(X,y)\n",
    "plt.xlabel(\"x\")\n",
    "plt.ylabel(\"y\")\n",
    "plt.show()"
   ]
  },
  {
   "cell_type": "code",
   "execution_count": 3,
   "metadata": {},
   "outputs": [
    {
     "data": {
      "text/plain": [
       "<__main__.DecisionTreeRegressor at 0x114d07da0>"
      ]
     },
     "execution_count": 3,
     "metadata": {},
     "output_type": "execute_result"
    }
   ],
   "source": [
    "reg1 = DecisionTreeRegressor(max_depth=2)\n",
    "reg1.fit(X,y)\n",
    "reg2 = DecisionTreeRegressor(max_depth=10)\n",
    "reg2.fit(X,y)"
   ]
  },
  {
   "cell_type": "code",
   "execution_count": 4,
   "metadata": {},
   "outputs": [
    {
     "data": {
      "image/png": "[encoded data removed]",
      "text/plain": [
       "<Figure size 1080x360 with 1 Axes>"
      ]
     },
     "metadata": {
      "needs_background": "light"
     },
     "output_type": "display_data"
    }
   ],
   "source": [
    "plt.figure(figsize=(15,5))\n",
    "plt.scatter(X,y,color=\"gold\")\n",
    "X_plot = np.linspace(0,1,100).reshape(-1,1)\n",
    "predict1 = reg1.predict(X_plot)\n",
    "predict2 = reg2.predict(X_plot)\n",
    "plt.plot(X_plot,predict1,color=\"yellowgreen\",linewidth=3,label='predict:max_depth=2')\n",
    "plt.plot(X_plot,predict2,color=\"lightgreen\",linewidth=3,label=\"predict:max_depth=10\")\n",
    "plt.legend()\n",
    "plt.show()"
   ]
  },
  {
   "cell_type": "markdown",
   "metadata": {},
   "source": [
    "用回归树的数据验证，说明回归树的构建没有问题"
   ]
  },
  {
   "cell_type": "markdown",
   "metadata": {},
   "source": [
    "### 构建GBDT"
   ]
  },
  {
   "cell_type": "code",
   "execution_count": 5,
   "metadata": {},
   "outputs": [],
   "source": [
    "class GBDT():\n",
    "    def __init__(self,n_estimators,max_depth=None,min_samples_leaf=1,min_samples_split=2):\n",
    "        self.esemble = []\n",
    "        self.n_estimators = n_estimators\n",
    "        self.max_depth = max_depth\n",
    "        self.min_samples_leaf = min_samples_leaf\n",
    "        self.min_samples_split = min_samples_split\n",
    "    \n",
    "    def fit(self,X_train,y_train):\n",
    "        residual = y_train\n",
    "        for i in range(self.n_estimators):\n",
    "            weakestimator = DecisionTreeRegressor(max_depth=self.max_depth,min_samples_leaf = self.min_samples_leaf,min_samples_split=self.min_samples_split)\n",
    "            weakestimator.fit(X_train,residual)\n",
    "            self.esemble.append(weakestimator)\n",
    "            yhat = weakestimator.predict(X_train)\n",
    "            residual = residual - yhat\n",
    "            if (residual**2).sum()<1e-2:\n",
    "                break\n",
    "        \n",
    "    def predict(self,X_test):\n",
    "        res = np.zeros(len(X_test))\n",
    "        for i in range(len(self.esemble)):\n",
    "            res += self.esemble[i].predict(X_test)\n",
    "        return res\n",
    "    \n",
    "    def score(self,X_test,y_test):\n",
    "        pre = self.predict(X_test)\n",
    "        return 1 - sum((y_test - pre)**2)/sum((y_test - y_test.mean())**2)"
   ]
  },
  {
   "cell_type": "markdown",
   "metadata": {},
   "source": [
    "验证实现的GBDT"
   ]
  },
  {
   "cell_type": "code",
   "execution_count": 6,
   "metadata": {},
   "outputs": [
    {
     "data": {
      "text/plain": [
       "Text(0.5,1,'the original data')"
      ]
     },
     "execution_count": 6,
     "metadata": {},
     "output_type": "execute_result"
    },
    {
     "data": {
      "image/png": "[encoded data removed]",
      "text/plain": [
       "<Figure size 1080x360 with 1 Axes>"
      ]
     },
     "metadata": {
      "needs_background": "light"
     },
     "output_type": "display_data"
    }
   ],
   "source": [
    "X = np.linspace(-1,1,100).reshape(-1,1)\n",
    "y = (X**2+np.random.normal(0,0.05,size=X.shape)).flatten()\n",
    "plt.figure(figsize=(15,5))\n",
    "plt.scatter(X,y,color=\"gold\")\n",
    "plt.title(\"the original data\")"
   ]
  },
  {
   "cell_type": "code",
   "execution_count": 7,
   "metadata": {},
   "outputs": [],
   "source": [
    "reg_GBDT1 = GBDT(n_estimators=1,max_depth=2)\n",
    "reg_GBDT1.fit(X,y)\n",
    "\n",
    "reg_GBDT2 = GBDT(n_estimators=3,max_depth=2)\n",
    "reg_GBDT2.fit(X,y)\n",
    "\n",
    "reg_GBDT3 = GBDT(n_estimators=10,max_depth=2)\n",
    "reg_GBDT3.fit(X,y)\n",
    "\n",
    "pre1 = reg_GBDT1.predict(X)\n",
    "pre2 = reg_GBDT2.predict(X)\n",
    "pre3 = reg_GBDT3.predict(X)"
   ]
  },
  {
   "cell_type": "code",
   "execution_count": 8,
   "metadata": {},
   "outputs": [
    {
     "data": {
      "image/png": "[encoded data removed]",
      "text/plain": [
       "<Figure size 1080x360 with 1 Axes>"
      ]
     },
     "metadata": {
      "needs_background": "light"
     },
     "output_type": "display_data"
    }
   ],
   "source": [
    "plt.figure(figsize=(15,5))\n",
    "plt.scatter(X,y,s=15,edgecolors=\"black\",color=\"gold\",label=\"data\")\n",
    "plt.plot(X,pre1,\"b\",linewidth=2.5,label=\"n_estimators=1\")\n",
    "plt.plot(X,pre2,\"orange\",linewidth=3,label=\"n_estimator=3\")\n",
    "plt.plot(X,pre3,\"g--\",linewidth=4,label=\"n_esitmators=10\")\n",
    "plt.title(\"the influence of n_estimators in GBDT\")\n",
    "plt.legend()\n",
    "plt.xlabel(\"x\")\n",
    "plt.ylabel(\"y\")\n",
    "plt.show()"
   ]
  },
  {
   "cell_type": "code",
   "execution_count": 9,
   "metadata": {},
   "outputs": [
    {
     "data": {
      "text/plain": [
       "0.9176261070624605"
      ]
     },
     "execution_count": 9,
     "metadata": {},
     "output_type": "execute_result"
    }
   ],
   "source": [
    "reg_GBDT3.score(X,y)"
   ]
  },
  {
   "cell_type": "markdown",
   "metadata": {},
   "source": [
    "## 使用波士顿房价数据来测试实现的GBDT"
   ]
  },
  {
   "cell_type": "code",
   "execution_count": 10,
   "metadata": {},
   "outputs": [],
   "source": [
    "from sklearn.datasets import load_boston\n",
    "from sklearn.model_selection import train_test_split\n",
    "bostons = load_boston()\n",
    "X = bostons.data\n",
    "y = bostons.target\n",
    "X_train,X_test,y_train,y_test = train_test_split(X,y)"
   ]
  },
  {
   "cell_type": "code",
   "execution_count": 11,
   "metadata": {},
   "outputs": [
    {
     "data": {
      "text/plain": [
       "0.8078050882643356"
      ]
     },
     "execution_count": 11,
     "metadata": {},
     "output_type": "execute_result"
    }
   ],
   "source": [
    "reg_GBDT = GBDT(n_estimators=15,max_depth=3,min_samples_leaf=20,min_samples_split=30)\n",
    "reg_GBDT.fit(X_train,y_train)\n",
    "reg_GBDT.score(X_test,y_test)"
   ]
  },
  {
   "cell_type": "code",
   "execution_count": 12,
   "metadata": {},
   "outputs": [
    {
     "data": {
      "text/plain": [
       "0.9091779405381983"
      ]
     },
     "execution_count": 12,
     "metadata": {},
     "output_type": "execute_result"
    }
   ],
   "source": [
    "reg_GBDT.score(X_train,y_train)"
   ]
  },
  {
   "cell_type": "markdown",
   "metadata": {},
   "source": [
    "## GBDT算法与Adaboost算法的对比"
   ]
  },
  {
   "cell_type": "markdown",
   "metadata": {},
   "source": [
    "AdaBoost算法中，使用的是指数损失函数的加法模型。    \n",
    "模型采用的是分阶段，逐步优化的策略。  \n",
    "依次训练每一个弱分类器，然后将它加入到已经得到的强学习器中。  \n",
    "已经训练得到的强学习器对训练样本的输出值可以看作常数。  \n",
    "因为指数函数的作用，将加法转化为乘法，体现为样本的权重。  \n",
    "在训练的过程中，在当前权重下训练弱学习器，然后更新样本权重。"
   ]
  },
  {
   "cell_type": "markdown",
   "metadata": {},
   "source": [
    "梯度提升算法的思路是不同的，它不是给样本加上权重，而是在样本的拟合目标上做文章。   \n",
    "用当前已经训练出来的强学习器F(x)对训练样本进行预测，  \n",
    "然后计算损失函数对F(x)的负梯度值,  \n",
    "如果下一个弱学习器h(x;a)的预测值指向该负梯度方向，根据梯度下降法的原理，加上这个弱学习器，即向前走一步，损失函数值是下降的。  \n",
    "梯度提升算法可以看作是梯度下降法与加法模型的结合。"
   ]
  }
 ],
 "metadata": {
  "kernelspec": {
   "display_name": "Python 3",
   "language": "python",
   "name": "python3"
  },
  "language_info": {
   "codemirror_mode": {
    "name": "ipython",
    "version": 3
   },
   "file_extension": ".py",
   "mimetype": "text/x-python",
   "name": "python",
   "nbconvert_exporter": "python",
   "pygments_lexer": "ipython3",
   "version": "3.7.0"
  }
 },
 "nbformat": 4,
 "nbformat_minor": 2
}
