{
 "cells": [
  {
   "cell_type": "markdown",
   "metadata": {},
   "source": [
    "# 实现Adaboost"
   ]
  },
  {
   "cell_type": "markdown",
   "metadata": {},
   "source": [
    "boost集成基分类器的方式是通过每一轮调整训练数据的权重或概率分布，将弱分类器组和成一个强分类器  \n",
    "对于Adaboost来说，  \n",
    "每一次提高前一轮被若分类器错误分类的样本的权重，降低那些被正确分类的样本权重。  \n",
    "最终的分类器是这些基分类器的线性组合，其中分类误差率小的权重大，分类误差大的权重小\n",
    "\n",
    "Adaboost最终的分类器为\n",
    "$G(x) = sign(f(x))=sign\\big(\\sum\\limits_{m=1}^M\\alpha_mG_m(x)\\big)$  \n",
    "其中$\\alpha_m= \\frac{1}{2}log(\\frac{1-e_m}{e_m})$\n",
    "e为错误率\n",
    "\n",
    "每次样本的权重是如何改变的呢？  \n",
    "第一轮的时候，训练数据的权重分布为1/N  \n",
    "当完成m轮训练后\n",
    "$$D_{m+1} = (w_{m+1,1},w_{m+1,2},...w_{m+1,N})$$ \n",
    "$$w_{m+1,i}=\\frac{w_{m,i}}{Z_m}exp(-\\alpha_my_iGm(x_i))$$\n",
    "上面的式子还可以改写成\n",
    "$$\n",
    "w_{m+1,i}=\\begin{cases}\\frac{w_{m,i}}{Z_m}e^{-\\alpha_m} ,& Gm(x_i)=y_i\\\\\\frac{w_{m,i}}{Z_m}e^{\\alpha_m} ,& Gm(x_i)\\not=y_i\\end{cases}\n",
    "$$\n",
    "也就是对于G_m分类器来说,如果分类正确，则在下一次分类时，减小这个样本对应的权重，如果分类错误，则在下一次分类时，增加这个样本对应的权重  \n",
    "其中$Z_m$是规范化因子，让算出来的$w_{m+1,i}$的总和为1  \n",
    "故$Z_m=\\sum\\limits_{i=1}^Nw_{m,i}exp(-\\alpha_my_iGm(x_i))$  \n",
    "或者简单理解为$sum(D_{m+1})$"
   ]
  },
  {
   "cell_type": "markdown",
   "metadata": {},
   "source": [
    "算法过程\n",
    "1. 初始化训练数据的权值分布\n",
    "2. 对m=1,2,...,M  \n",
    "    a. 使用具有权值分布的Dm训练数据集学习，得到基本分类器Gm  \n",
    "    b. 计算Gm(x)在训练数据集上的分类误差（注意测试的训练集是有权值的）  \n",
    "    c. 计算Gm(x)对应的系数，即$\\alpha_m$  \n",
    "    d. 更新训练数据集的权值分布  \n",
    "    结束的标志为构建的f(x)的错误率为0或者弱分类器的个数达到指定值\n",
    "3. 构建基本分类器的线性组合\n",
    "    $$f(x)=\\sum\\limits_{m=1}^M\\alpha_mG_m(x)$$\n",
    "    最终的分类器为$G(x) = sign(f(x))=sign(\\sum\\limits_{m=1}^M\\alpha_mG_m(x))$"
   ]
  },
  {
   "cell_type": "markdown",
   "metadata": {},
   "source": [
    "# 基于单层决策树构建若分类器"
   ]
  },
  {
   "cell_type": "markdown",
   "metadata": {},
   "source": [
    "单层决策树又名决策树桩，只有一个决策分枝，以某一个维度进行划分。\n",
    "在构建单层决策树的时候，在所有的特征中进行便利，选择加权错误率最低的。"
   ]
  },
  {
   "cell_type": "code",
   "execution_count": 3,
   "metadata": {},
   "outputs": [],
   "source": [
    "import numpy as np\n",
    "import matplotlib.pyplot as plt\n",
    "data=np.array([[1.0,2.1,1.0],\n",
    "                [1.5,1.6,1.0],\n",
    "               [1.3,1.0,-1.0],\n",
    "               [1.0,1.0,-1.0],\n",
    "               [2.0,1.0,1.0]]\n",
    "             )\n",
    "X=data[:,:-1]\n",
    "y=data[:,-1]"
   ]
  },
  {
   "cell_type": "code",
   "execution_count": 4,
   "metadata": {},
   "outputs": [
    {
     "data": {
      "image/png": "[encoded data removed]",
      "text/plain": [
       "<Figure size 432x288 with 1 Axes>"
      ]
     },
     "metadata": {
      "needs_background": "light"
     },
     "output_type": "display_data"
    }
   ],
   "source": [
    "plt.scatter(X[y==1,0],X[y==1,1],c='blue')\n",
    "plt.scatter(X[y==-1,0],X[y==-1,1],c='red')\n",
    "plt.xticks(X[:,0])\n",
    "plt.yticks(X[:,1])\n",
    "plt.show()"
   ]
  },
  {
   "cell_type": "code",
   "execution_count": 5,
   "metadata": {},
   "outputs": [],
   "source": [
    "def set_stump(X,y,D):\n",
    "    minerror = float(\"inf\")\n",
    "    bestsplit = -1 #最佳分割点\n",
    "    bestlabel = -1 #最佳分割特征\n",
    "    beststump={}\n",
    "    for label in range(X.shape[1]):\n",
    "        value = np.append(X[:,label],np.array([X[:,label].min()-1,X[:,label].max()+1]))\n",
    "        index = np.argsort(value)\n",
    "        for i in range(1,len(index)):\n",
    "            if value[index[i-1]] != value[index[i]]:\n",
    "                split = (value[index[i-1]] + value[index[i]])/2\n",
    "                indexleft = X[:,label] < split\n",
    "                for _ in [1,-1]:#依此假设划分的左侧的决策为-1，+1\n",
    "                    res = np.ones(len(y))\n",
    "                    res[indexleft] = -1\n",
    "                    res = res*_\n",
    "                    err = np.sum((res != y)*D)\n",
    "                    if err < minerror:\n",
    "                        minerror = err\n",
    "                        bestlabel = label\n",
    "                        bestsplit = split\n",
    "                        symbol = _\n",
    "                        bestres = res\n",
    "                        \n",
    "    beststump[\"bestlabel\"]=bestlabel\n",
    "    beststump[\"bestsplit\"]=bestsplit\n",
    "    beststump[\"symbol\"]=symbol\n",
    "    return beststump,minerror,bestres"
   ]
  },
  {
   "cell_type": "code",
   "execution_count": 6,
   "metadata": {},
   "outputs": [
    {
     "data": {
      "text/plain": [
       "({'bestlabel': 0, 'bestsplit': 1.4, 'symbol': 1},\n",
       " 0.2,\n",
       " array([-1.,  1., -1., -1.,  1.]))"
      ]
     },
     "execution_count": 6,
     "metadata": {},
     "output_type": "execute_result"
    }
   ],
   "source": [
    "set_stump(X,y,np.ones(len(y))/len(y))"
   ]
  },
  {
   "cell_type": "code",
   "execution_count": 75,
   "metadata": {},
   "outputs": [],
   "source": [
    "class Adaboost():\n",
    "    def __init__(self,n_estimator=10):\n",
    "        self.weakclass_ = []\n",
    "        self.alpha_ = np.array([])\n",
    "        self.n_estimator = n_estimator\n",
    "    \n",
    "    def fit(self,X,y):\n",
    "        def set_stump(X,y,D):\n",
    "            minerror = float(\"inf\")\n",
    "            bestsplit = -1 #最佳分割点\n",
    "            bestlabel = -1 #最佳分割特征\n",
    "            beststump={}\n",
    "            \n",
    "            for label in range(X.shape[1]):\n",
    "                value = np.append(X[:,label],np.array([X[:,label].min()-1,X[:,label].max()+1]))\n",
    "                index = np.argsort(value)\n",
    "                for i in range(1,len(index)):\n",
    "                    if value[index[i-1]] != value[index[i]]:\n",
    "                        split = (value[index[i-1]] + value[index[i]])/2\n",
    "                        indexleft = X[:,label] < split\n",
    "                        for _ in [1,-1]:#依此假设划分的左侧的决策为-1，+1\n",
    "                            res = np.ones(len(y))\n",
    "                            res[indexleft] = -1\n",
    "                            res = res*_\n",
    "                            err = np.sum((res != y)*D)\n",
    "                            if err < minerror:\n",
    "                                minerror = err\n",
    "                                bestlabel = label\n",
    "                                bestsplit = split\n",
    "                                symbol = _\n",
    "                                bestres = res\n",
    "                        \n",
    "            beststump[\"bestlabel\"]=bestlabel\n",
    "            beststump[\"bestsplit\"]=bestsplit\n",
    "            beststump[\"symbol\"]=symbol\n",
    "            return beststump,minerror,bestres\n",
    "        \n",
    "        \n",
    "        D = np.ones(len(y))/len(y)\n",
    "        ensembleresult = np.zeros(len(y))\n",
    "        for i in range(self.n_estimator):\n",
    "            print(\"D=\",D)\n",
    "            weakclass,err,res = set_stump(X,y,D)\n",
    "            alpha = 1/2*np.log((1-err)/max(err,1e-16)) #防止出现err=0的情形\n",
    "            self.weakclass_.append(weakclass)\n",
    "            self.alpha_ = np.append(self.alpha_,np.array(alpha))\n",
    "            print('alpha=',alpha)\n",
    "            D = D * np.exp(-1*alpha*y*res)\n",
    "            D = D/np.sum(D)\n",
    "            \n",
    "            ensembleresult += alpha * res #更新累计估计值\n",
    "            errrate = (np.sign(ensembleresult) != y).mean()\n",
    "            if errrate <1e-16:\n",
    "                return\n",
    "            \n",
    "    def predict(self,X_test):\n",
    "        res = np.empty(len(X_test))\n",
    "        for i in range(len(X_test)):\n",
    "            res[i] = self._predict(X_test[i])\n",
    "        return res\n",
    "    \n",
    "    def _predict(self,X_test_data):   \n",
    "        res = np.empty(len(self.weakclass_))\n",
    "        for i in range(len(self.weakclass_)):\n",
    "            label = self.weakclass_[i][\"bestlabel\"]\n",
    "            symbol = self.weakclass_[i][\"symbol\"]\n",
    "            split = self.weakclass_[i][\"bestsplit\"]\n",
    "            res[i] = symbol*int(1 if X_test_data[label] > split else -1)\n",
    "        return np.sign((res*self.alpha_).sum())\n",
    "    \n",
    "    def score(self,X_test,y_test):\n",
    "        pre = self.predict(X_test)\n",
    "        return (pre==y_test).mean()"
   ]
  },
  {
   "cell_type": "code",
   "execution_count": 71,
   "metadata": {},
   "outputs": [
    {
     "name": "stdout",
     "output_type": "stream",
     "text": [
      "D= [0.01 0.01 0.01 0.01 0.01 0.01 0.01 0.01 0.01 0.01 0.01 0.01 0.01 0.01\n",
      " 0.01 0.01 0.01 0.01 0.01 0.01 0.01 0.01 0.01 0.01 0.01 0.01 0.01 0.01\n",
      " 0.01 0.01 0.01 0.01 0.01 0.01 0.01 0.01 0.01 0.01 0.01 0.01 0.01 0.01\n",
      " 0.01 0.01 0.01 0.01 0.01 0.01 0.01 0.01 0.01 0.01 0.01 0.01 0.01 0.01\n",
      " 0.01 0.01 0.01 0.01 0.01 0.01 0.01 0.01 0.01 0.01 0.01 0.01 0.01 0.01\n",
      " 0.01 0.01 0.01 0.01 0.01 0.01 0.01 0.01 0.01 0.01 0.01 0.01 0.01 0.01\n",
      " 0.01 0.01 0.01 0.01 0.01 0.01 0.01 0.01 0.01 0.01 0.01 0.01 0.01 0.01\n",
      " 0.01 0.01]\n",
      "alpha= 1.0453705484668847\n",
      "D= [0.00561798 0.00561798 0.00561798 0.00561798 0.00561798 0.00561798\n",
      " 0.00561798 0.00561798 0.00561798 0.00561798 0.00561798 0.00561798\n",
      " 0.00561798 0.00561798 0.04545455 0.04545455 0.00561798 0.00561798\n",
      " 0.04545455 0.00561798 0.00561798 0.00561798 0.00561798 0.00561798\n",
      " 0.00561798 0.00561798 0.00561798 0.00561798 0.00561798 0.00561798\n",
      " 0.00561798 0.00561798 0.00561798 0.04545455 0.00561798 0.00561798\n",
      " 0.04545455 0.00561798 0.00561798 0.00561798 0.00561798 0.00561798\n",
      " 0.00561798 0.00561798 0.00561798 0.00561798 0.00561798 0.00561798\n",
      " 0.00561798 0.00561798 0.00561798 0.00561798 0.00561798 0.00561798\n",
      " 0.00561798 0.00561798 0.00561798 0.04545455 0.00561798 0.04545455\n",
      " 0.04545455 0.00561798 0.00561798 0.00561798 0.00561798 0.00561798\n",
      " 0.00561798 0.00561798 0.00561798 0.00561798 0.00561798 0.00561798\n",
      " 0.00561798 0.00561798 0.00561798 0.00561798 0.00561798 0.00561798\n",
      " 0.00561798 0.00561798 0.00561798 0.00561798 0.00561798 0.00561798\n",
      " 0.04545455 0.00561798 0.00561798 0.00561798 0.00561798 0.00561798\n",
      " 0.00561798 0.00561798 0.00561798 0.04545455 0.00561798 0.00561798\n",
      " 0.00561798 0.00561798 0.04545455 0.00561798]\n",
      "alpha= 1.1575038064963017\n",
      "D= [0.00308642 0.03125    0.00308642 0.00308642 0.00308642 0.00308642\n",
      " 0.00308642 0.00308642 0.03125    0.00308642 0.00308642 0.00308642\n",
      " 0.03125    0.03125    0.02497194 0.02497194 0.00308642 0.00308642\n",
      " 0.02497194 0.00308642 0.00308642 0.00308642 0.00308642 0.00308642\n",
      " 0.00308642 0.03125    0.00308642 0.00308642 0.00308642 0.00308642\n",
      " 0.00308642 0.00308642 0.00308642 0.02497194 0.00308642 0.00308642\n",
      " 0.02497194 0.00308642 0.03125    0.00308642 0.00308642 0.03125\n",
      " 0.00308642 0.00308642 0.00308642 0.03125    0.00308642 0.00308642\n",
      " 0.00308642 0.00308642 0.03125    0.03125    0.03125    0.00308642\n",
      " 0.00308642 0.00308642 0.03125    0.02497194 0.00308642 0.02497194\n",
      " 0.02497194 0.00308642 0.00308642 0.00308642 0.00308642 0.03125\n",
      " 0.00308642 0.00308642 0.00308642 0.00308642 0.03125    0.00308642\n",
      " 0.00308642 0.00308642 0.00308642 0.00308642 0.00308642 0.00308642\n",
      " 0.00308642 0.00308642 0.00308642 0.00308642 0.00308642 0.00308642\n",
      " 0.02497194 0.03125    0.03125    0.00308642 0.00308642 0.00308642\n",
      " 0.00308642 0.00308642 0.00308642 0.02497194 0.00308642 0.00308642\n",
      " 0.00308642 0.00308642 0.02497194 0.00308642]\n",
      "alpha= 0.6764789704261496\n",
      "D= [0.00194209 0.01966367 0.00194209 0.00194209 0.00194209 0.00194209\n",
      " 0.00194209 0.00194209 0.01966367 0.00194209 0.00194209 0.00194209\n",
      " 0.01966367 0.01966367 0.01571328 0.01571328 0.00194209 0.00194209\n",
      " 0.01571328 0.00194209 0.00194209 0.00194209 0.00194209 0.00194209\n",
      " 0.00194209 0.01966367 0.00194209 0.00194209 0.00194209 0.00194209\n",
      " 0.00194209 0.00194209 0.00194209 0.01571328 0.00194209 0.00194209\n",
      " 0.01571328 0.00194209 0.01966367 0.00194209 0.00194209 0.01966367\n",
      " 0.00194209 0.00194209 0.00194209 0.01966367 0.00194209 0.00194209\n",
      " 0.00194209 0.00194209 0.01966367 0.01966367 0.01966367 0.00751366\n",
      " 0.00194209 0.00751366 0.01966367 0.06079235 0.00194209 0.06079235\n",
      " 0.06079235 0.00194209 0.00194209 0.00194209 0.00751366 0.01966367\n",
      " 0.00751366 0.00751366 0.00194209 0.00751366 0.01966367 0.00194209\n",
      " 0.00194209 0.00194209 0.00194209 0.00194209 0.00194209 0.00194209\n",
      " 0.00194209 0.00751366 0.00751366 0.00751366 0.00751366 0.00194209\n",
      " 0.06079235 0.01966367 0.01966367 0.00194209 0.00751366 0.00751366\n",
      " 0.00751366 0.00194209 0.00751366 0.06079235 0.00751366 0.00751366\n",
      " 0.00751366 0.00194209 0.06079235 0.00751366]\n",
      "alpha= 0.7916446000394883\n",
      "D= [0.00570096 0.05772221 0.0011704  0.0011704  0.00570096 0.00570096\n",
      " 0.0011704  0.00570096 0.0118503  0.00570096 0.00570096 0.0011704\n",
      " 0.0118503  0.0118503  0.04612594 0.04612594 0.00570096 0.00570096\n",
      " 0.04612594 0.00570096 0.00570096 0.00570096 0.0011704  0.00570096\n",
      " 0.0011704  0.05772221 0.00570096 0.00570096 0.00570096 0.0011704\n",
      " 0.0011704  0.00570096 0.00570096 0.04612594 0.00570096 0.00570096\n",
      " 0.04612594 0.00570096 0.0118503  0.00570096 0.00570096 0.0118503\n",
      " 0.0011704  0.00570096 0.00570096 0.0118503  0.00570096 0.0011704\n",
      " 0.00570096 0.00570096 0.0118503  0.0118503  0.0118503  0.0045281\n",
      " 0.0011704  0.0045281  0.0118503  0.03663647 0.0011704  0.03663647\n",
      " 0.03663647 0.0011704  0.0011704  0.0011704  0.0045281  0.0118503\n",
      " 0.0045281  0.0045281  0.0011704  0.0045281  0.0118503  0.0011704\n",
      " 0.0011704  0.0011704  0.0011704  0.0011704  0.0011704  0.0011704\n",
      " 0.0011704  0.0045281  0.0045281  0.0045281  0.0045281  0.0011704\n",
      " 0.03663647 0.0118503  0.0118503  0.0011704  0.0045281  0.0045281\n",
      " 0.0045281  0.0011704  0.0045281  0.03663647 0.0045281  0.0045281\n",
      " 0.0045281  0.0011704  0.03663647 0.0045281 ]\n",
      "alpha= 0.7808413237271861\n",
      "D= [0.00344846 0.03491567 0.00070796 0.00070796 0.00344846 0.00344846\n",
      " 0.00070796 0.00344846 0.03416935 0.00344846 0.00344846 0.00070796\n",
      " 0.00716814 0.00716814 0.02790118 0.02790118 0.00344846 0.00344846\n",
      " 0.02790118 0.00344846 0.00344846 0.00344846 0.00070796 0.00344846\n",
      " 0.00070796 0.03491567 0.00344846 0.00344846 0.00344846 0.00070796\n",
      " 0.00070796 0.00344846 0.00344846 0.02790118 0.00344846 0.00344846\n",
      " 0.02790118 0.00344846 0.00716814 0.00344846 0.00344846 0.03416935\n",
      " 0.00070796 0.00344846 0.00344846 0.00716814 0.00344846 0.00070796\n",
      " 0.00344846 0.00344846 0.03416935 0.03416935 0.03416935 0.00273901\n",
      " 0.00070796 0.00273901 0.03416935 0.02216109 0.00070796 0.02216109\n",
      " 0.02216109 0.00337475 0.00070796 0.00070796 0.00273901 0.03416935\n",
      " 0.01305641 0.00273901 0.00070796 0.00273901 0.03416935 0.00070796\n",
      " 0.00070796 0.00070796 0.00070796 0.00337475 0.00070796 0.00337475\n",
      " 0.00070796 0.00273901 0.00273901 0.00273901 0.00273901 0.00070796\n",
      " 0.10563825 0.03416935 0.03416935 0.00070796 0.01305641 0.00273901\n",
      " 0.00273901 0.00337475 0.00273901 0.02216109 0.00273901 0.01305641\n",
      " 0.00273901 0.00070796 0.02216109 0.00273901]\n",
      "alpha= 0.6590116488550704\n",
      "D= [0.00218574 0.08268081 0.00167647 0.00167647 0.00218574 0.00218574\n",
      " 0.00167647 0.00816601 0.08091352 0.00816601 0.00218574 0.00167647\n",
      " 0.01697426 0.01697426 0.01768466 0.01768466 0.00218574 0.00218574\n",
      " 0.01768466 0.00218574 0.00816601 0.00218574 0.00044873 0.00816601\n",
      " 0.00167647 0.08268081 0.00816601 0.00218574 0.00816601 0.00167647\n",
      " 0.00167647 0.00816601 0.00218574 0.01768466 0.00816601 0.00816601\n",
      " 0.01768466 0.00218574 0.01697426 0.00816601 0.00218574 0.08091352\n",
      " 0.00167647 0.00218574 0.00218574 0.01697426 0.00218574 0.00167647\n",
      " 0.00218574 0.00816601 0.02165763 0.02165763 0.02165763 0.00173607\n",
      " 0.00044873 0.00173607 0.02165763 0.0140464  0.00044873 0.0140464\n",
      " 0.0140464  0.00213902 0.00044873 0.00044873 0.00173607 0.02165763\n",
      " 0.00827557 0.00173607 0.00044873 0.00173607 0.02165763 0.00044873\n",
      " 0.00044873 0.00044873 0.00044873 0.00213902 0.00044873 0.00213902\n",
      " 0.00044873 0.00173607 0.00173607 0.00173607 0.00173607 0.00044873\n",
      " 0.0669569  0.02165763 0.02165763 0.00044873 0.00827557 0.00173607\n",
      " 0.00173607 0.00213902 0.00173607 0.0140464  0.00173607 0.00827557\n",
      " 0.00173607 0.00044873 0.0140464  0.00173607]\n",
      "alpha= 0.7529588756433875\n"
     ]
    }
   ],
   "source": [
    "clf = Adaboost()\n",
    "# clf.fit(np.arange(0,10).reshape(-1,1),np.array([1,1,1,-1,-1,-1,1,1,1,-1]))\n",
    "clf.fit(X,y)"
   ]
  },
  {
   "cell_type": "code",
   "execution_count": 53,
   "metadata": {},
   "outputs": [
    {
     "data": {
      "text/plain": [
       "array([ 1.,  1., -1., -1.,  1.])"
      ]
     },
     "execution_count": 53,
     "metadata": {},
     "output_type": "execute_result"
    }
   ],
   "source": [
    "clf.predict(X)"
   ]
  },
  {
   "cell_type": "markdown",
   "metadata": {},
   "source": [
    "# 以鸢尾花数据集来测试手写的Adaboost"
   ]
  },
  {
   "cell_type": "code",
   "execution_count": 76,
   "metadata": {},
   "outputs": [
    {
     "data": {
      "text/plain": [
       "<matplotlib.collections.PathCollection at 0x1159faa90>"
      ]
     },
     "execution_count": 76,
     "metadata": {},
     "output_type": "execute_result"
    },
    {
     "data": {
      "image/png": "[encoded data removed]",
      "text/plain": [
       "<Figure size 432x288 with 1 Axes>"
      ]
     },
     "metadata": {
      "needs_background": "light"
     },
     "output_type": "display_data"
    }
   ],
   "source": [
    "from sklearn.datasets import load_iris\n",
    "from sklearn.model_selection import train_test_split\n",
    "data = load_iris()\n",
    "X = data.data\n",
    "y = data.target\n",
    "X = X[y!=2,:2]\n",
    "y = y[y!=2]\n",
    "y[y==0] = -1\n",
    "X_train,X_test,y_train,y_test = train_test_split(X,y)\n",
    "plt.scatter(X[y==1,0],X[y==1,1],color=\"blue\")\n",
    "plt.scatter(X[y==-1,0],X[y==-1,1],color='red')"
   ]
  },
  {
   "cell_type": "code",
   "execution_count": 77,
   "metadata": {},
   "outputs": [
    {
     "name": "stdout",
     "output_type": "stream",
     "text": [
      "D= [0.01333333 0.01333333 0.01333333 0.01333333 0.01333333 0.01333333\n",
      " 0.01333333 0.01333333 0.01333333 0.01333333 0.01333333 0.01333333\n",
      " 0.01333333 0.01333333 0.01333333 0.01333333 0.01333333 0.01333333\n",
      " 0.01333333 0.01333333 0.01333333 0.01333333 0.01333333 0.01333333\n",
      " 0.01333333 0.01333333 0.01333333 0.01333333 0.01333333 0.01333333\n",
      " 0.01333333 0.01333333 0.01333333 0.01333333 0.01333333 0.01333333\n",
      " 0.01333333 0.01333333 0.01333333 0.01333333 0.01333333 0.01333333\n",
      " 0.01333333 0.01333333 0.01333333 0.01333333 0.01333333 0.01333333\n",
      " 0.01333333 0.01333333 0.01333333 0.01333333 0.01333333 0.01333333\n",
      " 0.01333333 0.01333333 0.01333333 0.01333333 0.01333333 0.01333333\n",
      " 0.01333333 0.01333333 0.01333333 0.01333333 0.01333333 0.01333333\n",
      " 0.01333333 0.01333333 0.01333333 0.01333333 0.01333333 0.01333333\n",
      " 0.01333333 0.01333333 0.01333333]\n",
      "alpha= 1.1367987780603968\n",
      "D= [0.00735294 0.00735294 0.07142857 0.00735294 0.00735294 0.00735294\n",
      " 0.00735294 0.00735294 0.00735294 0.00735294 0.00735294 0.00735294\n",
      " 0.00735294 0.00735294 0.00735294 0.00735294 0.00735294 0.00735294\n",
      " 0.00735294 0.00735294 0.00735294 0.00735294 0.07142857 0.00735294\n",
      " 0.00735294 0.00735294 0.00735294 0.00735294 0.00735294 0.00735294\n",
      " 0.00735294 0.00735294 0.00735294 0.00735294 0.00735294 0.00735294\n",
      " 0.00735294 0.00735294 0.00735294 0.00735294 0.00735294 0.07142857\n",
      " 0.00735294 0.00735294 0.00735294 0.00735294 0.07142857 0.00735294\n",
      " 0.00735294 0.00735294 0.00735294 0.00735294 0.00735294 0.00735294\n",
      " 0.00735294 0.00735294 0.00735294 0.00735294 0.07142857 0.00735294\n",
      " 0.00735294 0.00735294 0.00735294 0.00735294 0.07142857 0.00735294\n",
      " 0.00735294 0.00735294 0.00735294 0.00735294 0.00735294 0.00735294\n",
      " 0.00735294 0.07142857 0.00735294]\n",
      "alpha= 1.1676874579085184\n",
      "D= [0.00403226 0.00403226 0.03917051 0.00403226 0.00403226 0.00403226\n",
      " 0.00403226 0.00403226 0.00403226 0.00403226 0.04166667 0.00403226\n",
      " 0.00403226 0.00403226 0.00403226 0.00403226 0.00403226 0.00403226\n",
      " 0.00403226 0.00403226 0.00403226 0.00403226 0.03917051 0.04166667\n",
      " 0.00403226 0.00403226 0.00403226 0.04166667 0.00403226 0.00403226\n",
      " 0.00403226 0.00403226 0.00403226 0.00403226 0.00403226 0.00403226\n",
      " 0.00403226 0.00403226 0.00403226 0.00403226 0.00403226 0.03917051\n",
      " 0.00403226 0.00403226 0.00403226 0.00403226 0.03917051 0.00403226\n",
      " 0.00403226 0.00403226 0.00403226 0.04166667 0.00403226 0.04166667\n",
      " 0.00403226 0.00403226 0.04166667 0.00403226 0.03917051 0.00403226\n",
      " 0.04166667 0.04166667 0.00403226 0.00403226 0.03917051 0.04166667\n",
      " 0.04166667 0.04166667 0.00403226 0.00403226 0.00403226 0.04166667\n",
      " 0.00403226 0.03917051 0.00403226]\n",
      "alpha= 0.9296158584831895\n",
      "D= [0.00233023 0.00233023 0.02263648 0.00233023 0.00233023 0.00233023\n",
      " 0.01495726 0.01495726 0.00233023 0.01495726 0.02407901 0.00233023\n",
      " 0.01495726 0.00233023 0.01495726 0.01495726 0.00233023 0.01495726\n",
      " 0.00233023 0.00233023 0.00233023 0.00233023 0.02263648 0.02407901\n",
      " 0.01495726 0.00233023 0.00233023 0.02407901 0.00233023 0.00233023\n",
      " 0.00233023 0.00233023 0.00233023 0.00233023 0.01495726 0.01495726\n",
      " 0.00233023 0.00233023 0.01495726 0.00233023 0.00233023 0.02263648\n",
      " 0.00233023 0.00233023 0.00233023 0.01495726 0.02263648 0.00233023\n",
      " 0.00233023 0.01495726 0.00233023 0.02407901 0.00233023 0.02407901\n",
      " 0.00233023 0.00233023 0.02407901 0.01495726 0.14529915 0.00233023\n",
      " 0.02407901 0.02407901 0.00233023 0.00233023 0.14529915 0.02407901\n",
      " 0.02407901 0.02407901 0.00233023 0.00233023 0.00233023 0.02407901\n",
      " 0.00233023 0.02263648 0.00233023]\n",
      "alpha= 0.8007348713924618\n",
      "D= [0.00694444 0.0014     0.0136     0.0014     0.0014     0.0014\n",
      " 0.00898632 0.00898632 0.0014     0.00898632 0.07175926 0.0014\n",
      " 0.00898632 0.0014     0.00898632 0.00898632 0.0014     0.00898632\n",
      " 0.0014     0.0014     0.0014     0.0014     0.0136     0.07175926\n",
      " 0.00898632 0.00694444 0.00694444 0.01446667 0.0014     0.0014\n",
      " 0.0014     0.0014     0.0014     0.0014     0.00898632 0.00898632\n",
      " 0.0014     0.00694444 0.00898632 0.00694444 0.0014     0.0136\n",
      " 0.0014     0.00694444 0.0014     0.00898632 0.0136     0.0014\n",
      " 0.0014     0.00898632 0.0014     0.01446667 0.0014     0.01446667\n",
      " 0.0014     0.00694444 0.01446667 0.00898632 0.08729573 0.00694444\n",
      " 0.01446667 0.07175926 0.0014     0.0014     0.08729573 0.07175926\n",
      " 0.07175926 0.01446667 0.0014     0.00694444 0.00694444 0.07175926\n",
      " 0.0014     0.0136     0.0014    ]\n",
      "alpha= 0.8362328024459018\n",
      "D= [0.00412425 0.00083145 0.04301192 0.00083145 0.00083145 0.00083145\n",
      " 0.0053369  0.0053369  0.00083145 0.0053369  0.04261723 0.00083145\n",
      " 0.0053369  0.00083145 0.0053369  0.0053369  0.00083145 0.0053369\n",
      " 0.00083145 0.00083145 0.00083145 0.00083145 0.04301192 0.04261723\n",
      " 0.0053369  0.00412425 0.00412425 0.00859163 0.00083145 0.00083145\n",
      " 0.00083145 0.00083145 0.00083145 0.00083145 0.0053369  0.0053369\n",
      " 0.00083145 0.00412425 0.0053369  0.00412425 0.00083145 0.04301192\n",
      " 0.00083145 0.00412425 0.00083145 0.0053369  0.04301192 0.00083145\n",
      " 0.00083145 0.0053369  0.00083145 0.00859163 0.00083145 0.00859163\n",
      " 0.00083145 0.00412425 0.00859163 0.0053369  0.05184421 0.00412425\n",
      " 0.00859163 0.04261723 0.00083145 0.0044277  0.27608503 0.04261723\n",
      " 0.04261723 0.00859163 0.00083145 0.00412425 0.00412425 0.04261723\n",
      " 0.0044277  0.04301192 0.00083145]\n",
      "alpha= 1.0318664120481371\n",
      "D= [0.00232397 0.00046851 0.02423676 0.00046851 0.00046851 0.00046851\n",
      " 0.00300729 0.02368335 0.00046851 0.00300729 0.02401436 0.00046851\n",
      " 0.00300729 0.00368968 0.00300729 0.02368335 0.00046851 0.02368335\n",
      " 0.00046851 0.00046851 0.00046851 0.00046851 0.02423676 0.02401436\n",
      " 0.00300729 0.00232397 0.00232397 0.03812672 0.00046851 0.00046851\n",
      " 0.00368968 0.00046851 0.00046851 0.00046851 0.00300729 0.00300729\n",
      " 0.00046851 0.00232397 0.00300729 0.00232397 0.00046851 0.02423676\n",
      " 0.00046851 0.00232397 0.00046851 0.00300729 0.02423676 0.00046851\n",
      " 0.00046851 0.00300729 0.00046851 0.03812672 0.00046851 0.03812672\n",
      " 0.00046851 0.00232397 0.03812672 0.00300729 0.02921367 0.00232397\n",
      " 0.03812672 0.02401436 0.00046851 0.00249496 0.15557103 0.18912062\n",
      " 0.02401436 0.03812672 0.00368968 0.00232397 0.00232397 0.02401436\n",
      " 0.00249496 0.02423676 0.00046851]\n",
      "alpha= 0.8137645961252398\n"
     ]
    }
   ],
   "source": [
    "clf = Adaboost()\n",
    "clf.fit(X_train,y_train)"
   ]
  },
  {
   "cell_type": "code",
   "execution_count": 78,
   "metadata": {},
   "outputs": [
    {
     "data": {
      "text/plain": [
       "1.0"
      ]
     },
     "execution_count": 78,
     "metadata": {},
     "output_type": "execute_result"
    }
   ],
   "source": [
    "clf.score(X_test,y_test)"
   ]
  },
  {
   "cell_type": "code",
   "execution_count": 68,
   "metadata": {},
   "outputs": [
    {
     "data": {
      "text/plain": [
       "array([False, False, False, False, False, False, False, False, False,\n",
       "       False, False, False,  True, False, False, False, False,  True,\n",
       "        True, False, False, False, False, False, False])"
      ]
     },
     "execution_count": 68,
     "metadata": {},
     "output_type": "execute_result"
    }
   ],
   "source": [
    "pre != y_test"
   ]
  },
  {
   "cell_type": "code",
   "execution_count": 63,
   "metadata": {},
   "outputs": [
    {
     "data": {
      "text/plain": [
       "[{'bestlabel': 2, 'bestsplit': 2.45, 'symbol': 1}]"
      ]
     },
     "execution_count": 63,
     "metadata": {},
     "output_type": "execute_result"
    }
   ],
   "source": [
    "clf.weakclass_"
   ]
  },
  {
   "cell_type": "code",
   "execution_count": null,
   "metadata": {},
   "outputs": [],
   "source": []
  }
 ],
 "metadata": {
  "kernelspec": {
   "display_name": "Python 3",
   "language": "python",
   "name": "python3"
  },
  "language_info": {
   "codemirror_mode": {
    "name": "ipython",
    "version": 3
   },
   "file_extension": ".py",
   "mimetype": "text/x-python",
   "name": "python",
   "nbconvert_exporter": "python",
   "pygments_lexer": "ipython3",
   "version": "3.7.3"
  }
 },
 "nbformat": 4,
 "nbformat_minor": 2
}
