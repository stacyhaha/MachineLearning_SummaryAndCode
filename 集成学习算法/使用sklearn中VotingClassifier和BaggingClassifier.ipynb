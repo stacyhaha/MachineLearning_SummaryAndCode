{
 "cells": [
  {
   "cell_type": "markdown",
   "metadata": {},
   "source": [
    "# 集成学习概述\n",
    "## 目录\n",
    "* 集成算法的分类\n",
    "* sklearn中Voting Classifier的简单使用\n",
    "    * VotingClassifier实现hard voting\n",
    "    * VotingClassifier实现soft voting\n",
    "* sklearn中Bagging Classifier的详细使用\n",
    "    * Bagging的理论基础\n",
    "    * Bagging的分类\n",
    "    * Bagging Classifier的参数\n",
    "    * 如何实现Bagging Classifier的四种类型\n",
    "    * Bagging Classifier的属性"
   ]
  },
  {
   "cell_type": "markdown",
   "metadata": {},
   "source": [
    "## 集成算法的分类：\n",
    "* bagging  \n",
    "    每次参考不同的数据集建立多个子模型，将子模型的预测结果少数服从多数\n",
    "* boosting  \n",
    "    我们生成的每一个子模型都在想办法弥补上一个模型中没有被成功预测的样本点。每一个子模型都在想办法推动上一个模型所犯的错误\n",
    "    <div align=center><img src=\"boosting.png\" style=\"zoom:20%\">\n",
    "* stacking  \n",
    "    首先也是使用三个算法，用这三个算法，分别求出针对我们的数据而言，相对的预测结果。\n",
    "    但是我们不直接使用这三个预测结果进行综合来得到最后的结果，我们用这三个结果作为输入，再添加一层算法。也就是说，以这三个预测结果作为输入，训练一个新的模型，以这个这个新的模型的输出，作为最终的预测结果。\n",
    "    有点类似与神经网络，在原来的算法的基础上，又落了一层。\n",
    "    <div align=center><img src=\"stacking.png\" style=\"zoom:20%\">"
   ]
  },
  {
   "cell_type": "markdown",
   "metadata": {},
   "source": [
    "## sklearn中voting classifier的简单实现\n",
    "bagging的方式有：\n",
    "1. hard voting:少数服从多数\n",
    "2. soft voting:有权重的少数服从多数"
   ]
  },
  {
   "cell_type": "markdown",
   "metadata": {},
   "source": [
    "### 使用sklearn中的Voting Classifier实现hard voting\n",
    "voting=\"hard\""
   ]
  },
  {
   "cell_type": "code",
   "execution_count": 1,
   "metadata": {},
   "outputs": [],
   "source": [
    "from sklearn import datasets\n",
    "import numpy as np\n",
    "import matplotlib.pyplot as plt\n",
    "from sklearn.model_selection import train_test_split\n",
    "\n",
    "X,y = datasets.make_moons(n_samples=500,noise=0.3,random_state=666)"
   ]
  },
  {
   "cell_type": "code",
   "execution_count": 2,
   "metadata": {},
   "outputs": [
    {
     "data": {
      "image/png": "[encoded data removed]",
      "text/plain": [
       "<Figure size 432x288 with 1 Axes>"
      ]
     },
     "metadata": {
      "needs_background": "light"
     },
     "output_type": "display_data"
    }
   ],
   "source": [
    "plt.scatter(X[y==0,0],X[y==0,1])\n",
    "plt.scatter(X[y==1,0],X[y==1,1])\n",
    "plt.show()"
   ]
  },
  {
   "cell_type": "code",
   "execution_count": 3,
   "metadata": {},
   "outputs": [],
   "source": [
    "X_train,X_test,y_train,y_test = train_test_split(X,y,test_size=0.3)"
   ]
  },
  {
   "cell_type": "code",
   "execution_count": 4,
   "metadata": {},
   "outputs": [],
   "source": [
    "from sklearn.ensemble import VotingClassifier\n",
    "from sklearn.linear_model import LogisticRegression\n",
    "from sklearn.svm import SVC\n",
    "from sklearn.tree import DecisionTreeClassifier\n",
    "\n",
    "voting_clf = VotingClassifier(\n",
    "    estimators=[\n",
    "        (\"log_clf\",LogisticRegression()),\n",
    "        (\"SVM_clf\",SVC()),\n",
    "        (\"dt_clf\",DecisionTreeClassifier())\n",
    "    ],\n",
    "    voting=\"hard\"\n",
    ")"
   ]
  },
  {
   "cell_type": "code",
   "execution_count": 5,
   "metadata": {},
   "outputs": [
    {
     "name": "stderr",
     "output_type": "stream",
     "text": [
      "/anaconda3/lib/python3.7/site-packages/sklearn/linear_model/logistic.py:433: FutureWarning: Default solver will be changed to 'lbfgs' in 0.22. Specify a solver to silence this warning.\n",
      "  FutureWarning)\n",
      "/anaconda3/lib/python3.7/site-packages/sklearn/svm/base.py:196: FutureWarning: The default value of gamma will change from 'auto' to 'scale' in version 0.22 to account better for unscaled features. Set gamma explicitly to 'auto' or 'scale' to avoid this warning.\n",
      "  \"avoid this warning.\", FutureWarning)\n"
     ]
    },
    {
     "data": {
      "text/plain": [
       "VotingClassifier(estimators=[('log_clf', LogisticRegression(C=1.0, class_weight=None, dual=False, fit_intercept=True,\n",
       "          intercept_scaling=1, max_iter=100, multi_class='warn',\n",
       "          n_jobs=None, penalty='l2', random_state=None, solver='warn',\n",
       "          tol=0.0001, verbose=0, warm_start=False)), ('SVM_clf'...      min_weight_fraction_leaf=0.0, presort=False, random_state=None,\n",
       "            splitter='best'))],\n",
       "         flatten_transform=None, n_jobs=None, voting='hard', weights=None)"
      ]
     },
     "execution_count": 5,
     "metadata": {},
     "output_type": "execute_result"
    }
   ],
   "source": [
    "voting_clf.fit(X_train,y_train)"
   ]
  },
  {
   "cell_type": "code",
   "execution_count": 6,
   "metadata": {},
   "outputs": [
    {
     "data": {
      "text/plain": [
       "0.9133333333333333"
      ]
     },
     "execution_count": 6,
     "metadata": {},
     "output_type": "execute_result"
    }
   ],
   "source": [
    "voting_clf.score(X_test,y_test)"
   ]
  },
  {
   "cell_type": "markdown",
   "metadata": {},
   "source": [
    "### 使用sklearn中的Voting Classifier实现soft voting\n",
    "voting = \"soft\"\n",
    "\n",
    "\n",
    "注意：  \n",
    "在进行基于权值的投票时，基于的权值是模型估计的概率，也就是算法要有predict_proba函数    \n",
    "对于SVM算法，如果要计算出概率的话，会牺牲掉一定的计算时间。所以默认情况下probability=False。在进行soft voting时，要设置为True。"
   ]
  },
  {
   "cell_type": "code",
   "execution_count": 7,
   "metadata": {},
   "outputs": [],
   "source": [
    "voting_clf2 = VotingClassifier(\n",
    "    estimators=[\n",
    "        (\"log_clf\",LogisticRegression()),\n",
    "        (\"SVM_clf\",SVC(probability=True)),\n",
    "        (\"dt_clf\",DecisionTreeClassifier())\n",
    "    ],\n",
    "    voting=\"soft\"\n",
    ")"
   ]
  },
  {
   "cell_type": "code",
   "execution_count": 8,
   "metadata": {},
   "outputs": [
    {
     "name": "stderr",
     "output_type": "stream",
     "text": [
      "/anaconda3/lib/python3.7/site-packages/sklearn/linear_model/logistic.py:433: FutureWarning: Default solver will be changed to 'lbfgs' in 0.22. Specify a solver to silence this warning.\n",
      "  FutureWarning)\n",
      "/anaconda3/lib/python3.7/site-packages/sklearn/svm/base.py:196: FutureWarning: The default value of gamma will change from 'auto' to 'scale' in version 0.22 to account better for unscaled features. Set gamma explicitly to 'auto' or 'scale' to avoid this warning.\n",
      "  \"avoid this warning.\", FutureWarning)\n"
     ]
    },
    {
     "data": {
      "text/plain": [
       "VotingClassifier(estimators=[('log_clf', LogisticRegression(C=1.0, class_weight=None, dual=False, fit_intercept=True,\n",
       "          intercept_scaling=1, max_iter=100, multi_class='warn',\n",
       "          n_jobs=None, penalty='l2', random_state=None, solver='warn',\n",
       "          tol=0.0001, verbose=0, warm_start=False)), ('SVM_clf'...      min_weight_fraction_leaf=0.0, presort=False, random_state=None,\n",
       "            splitter='best'))],\n",
       "         flatten_transform=None, n_jobs=None, voting='soft', weights=None)"
      ]
     },
     "execution_count": 8,
     "metadata": {},
     "output_type": "execute_result"
    }
   ],
   "source": [
    "voting_clf2.fit(X_train,y_train)"
   ]
  },
  {
   "cell_type": "code",
   "execution_count": 9,
   "metadata": {},
   "outputs": [
    {
     "data": {
      "text/plain": [
       "0.8933333333333333"
      ]
     },
     "execution_count": 9,
     "metadata": {},
     "output_type": "execute_result"
    }
   ],
   "source": [
    "voting_clf2.score(X_test,y_test)"
   ]
  },
  {
   "cell_type": "markdown",
   "metadata": {},
   "source": [
    "## sklearn中Bagging Classifier的详细使用\n",
    "### Bagging classifier的理论基础\n",
    "假设每个子模型的准确率为p，\n",
    "若集成了n个准确率为p的子模型，\n",
    "则采用hard voting后，  \n",
    "集成模型的准确率为\n",
    "$$\\sum\\limits_{i=ceil(\\frac{n+1}{2})}^n C_{n}^i p^i (1-p)^{(n-i)}$$"
   ]
  },
  {
   "cell_type": "code",
   "execution_count": 10,
   "metadata": {},
   "outputs": [
    {
     "data": {
      "image/png": "[encoded data removed]",
      "text/plain": [
       "<Figure size 864x432 with 1 Axes>"
      ]
     },
     "metadata": {
      "needs_background": "light"
     },
     "output_type": "display_data"
    }
   ],
   "source": [
    "from scipy.special import comb\n",
    "plt.figure(figsize=(12,6))\n",
    "p = [0.5,0.51,0.6,0.7,0.8]\n",
    "for pi in p:\n",
    "    reslist = []\n",
    "    for n in range(1,301,20):\n",
    "        res = np.array([comb(n,i)* pi**i * (1-pi)**(n-i) for i in range(int(np.ceil((n+1)/2)),n+1)]).sum()\n",
    "        reslist.append(res)\n",
    "    plt.plot(range(1,301,20),reslist,'o-',label=str(pi*100)+\"%\")\n",
    "plt.xlabel(\"n_estimator\")\n",
    "plt.ylabel(\"p of ensemble model\")\n",
    "plt.legend()\n",
    "plt.show()"
   ]
  },
  {
   "cell_type": "markdown",
   "metadata": {},
   "source": [
    "故每个子模型不需要太高的准确率，只要高于50%就可以。  \n",
    "子模型的个数越多越好，基于内存和计算量的考虑，100左右为佳  \n",
    "但如果子模型都是相同的，则集成算法并没有这样的优势。  \n",
    "故子模型的生成一定要有差异性（相互独立）"
   ]
  },
  {
   "cell_type": "markdown",
   "metadata": {},
   "source": [
    "### Bagging的分类\n",
    "随机产生子模型（生成有差异性的子模型）的方式：\n",
    "让每个子模型只看样本数据的一部分。  \n",
    "\n",
    "对应的取样方式有：\n",
    "1. Baggging(bootstrap)  \n",
    "    放回取样。  \n",
    "    因为取样过程重复了非常多次，故将取样的随机过程所带来的影响消除了\n",
    "\n",
    "2. Pasting  \n",
    "    不放回取样。  \n",
    "    怎样划分样本，对严重影响到最终Pasting集成学习得到的结果\n",
    "    \n",
    "3. Random Subspaces  \n",
    "    子样本的特征随机取\n",
    "\n",
    "4. Random Patches  \n",
    "    子样本的特征和样本都是随机取  \n",
    "    <div align=center><img src=\"patch.png\" style=\"zoom:20%\">"
   ]
  },
  {
   "cell_type": "markdown",
   "metadata": {},
   "source": [
    "### Bagging Classifier的参数\n",
    "\n",
    "|-||\n",
    "|:--|:--|\n",
    "|base_estimator|基模型<br>默认为决策树\n",
    "|n_estimators|集成的模型个数<br>默认为10\n",
    "|max_samples|生成每个基模型时，从整体样本中抽取多少个子样本<br>默认为1<br>int,则抽取max_samples个样本<br>float,抽取max_samples*X.shape[0]个样本\n",
    "|max_features|生成每个基模型时，从整体特征中抽取多少个特征<br>默认为1<br>int,抽取max_features样本<br>float,抽取max_features*X.shape[1]个特征\n",
    "|bootstrap|是否有放回<br>默认为True（有放回）\n",
    "|bootstrap_features|特征提取是否有放回<br>默认为False\n",
    "|oob_score|是否使用袋外数据来预测泛化误差<br>默认为False\n",
    "|verbose|在训练和预测时，控制verboseity的数量<br>默认为0\n",
    "\n",
    "一般Bagging时，选用决策树为子模型的原因是，决策树这种非参数学习的算法更能产生差异相对比较大的子模型。  \n",
    "他里面有很多的参数，很多的剪枝方式，都能帮助我们使得集成的每一个子模型更加有差异，或者说是更加的随机，这种样子是集成学习喜欢的样子，他喜欢我们集成的每一个子模型要有区别。  \n",
    "不然的话，我们集成了1000个子模型，每个子模型都一样，那么集成的意义就没有了。  \n",
    "所以通常在集成学习中，如果我们要集成成百上千个子模型，首选就是决策树。"
   ]
  },
  {
   "cell_type": "markdown",
   "metadata": {},
   "source": [
    "采用决策树作为子模型进行bagging"
   ]
  },
  {
   "cell_type": "code",
   "execution_count": 11,
   "metadata": {},
   "outputs": [],
   "source": [
    "from sklearn.ensemble import BaggingClassifier\n",
    "bagging_clf = BaggingClassifier(\n",
    "    DecisionTreeClassifier(),\n",
    "    n_estimators=500,#集成几棵树\n",
    "    max_samples=100,#每个子模型最多看几个样本数据\n",
    "    bootstrap=True#放回取样\n",
    "                               )"
   ]
  },
  {
   "cell_type": "code",
   "execution_count": 12,
   "metadata": {},
   "outputs": [
    {
     "data": {
      "text/plain": [
       "0.9"
      ]
     },
     "execution_count": 12,
     "metadata": {},
     "output_type": "execute_result"
    }
   ],
   "source": [
    "bagging_clf.fit(X_train,y_train)\n",
    "bagging_clf.score(X_test,y_test)"
   ]
  },
  {
   "cell_type": "code",
   "execution_count": 13,
   "metadata": {},
   "outputs": [
    {
     "data": {
      "text/plain": [
       "0.8933333333333333"
      ]
     },
     "execution_count": 13,
     "metadata": {},
     "output_type": "execute_result"
    }
   ],
   "source": [
    "clf = DecisionTreeClassifier()\n",
    "clf.fit(X_train,y_train)\n",
    "clf.score(X_test,y_test)"
   ]
  },
  {
   "cell_type": "markdown",
   "metadata": {},
   "source": [
    "采用SVM作为子模型进行bagging"
   ]
  },
  {
   "cell_type": "code",
   "execution_count": 14,
   "metadata": {},
   "outputs": [],
   "source": [
    "from sklearn.ensemble import BaggingClassifier\n",
    "bagging_clf = BaggingClassifier(\n",
    "    SVC(gamma='auto'),\n",
    "    n_estimators=500,\n",
    "    max_samples=100,\n",
    "    bootstrap=True\n",
    ")"
   ]
  },
  {
   "cell_type": "code",
   "execution_count": 15,
   "metadata": {},
   "outputs": [
    {
     "data": {
      "text/plain": [
       "0.92"
      ]
     },
     "execution_count": 15,
     "metadata": {},
     "output_type": "execute_result"
    }
   ],
   "source": [
    "bagging_clf.fit(X_train,y_train)\n",
    "bagging_clf.score(X_test,y_test)"
   ]
  },
  {
   "cell_type": "code",
   "execution_count": 16,
   "metadata": {},
   "outputs": [
    {
     "data": {
      "text/plain": [
       "0.92"
      ]
     },
     "execution_count": 16,
     "metadata": {},
     "output_type": "execute_result"
    }
   ],
   "source": [
    "clf = SVC(gamma=\"auto\")\n",
    "clf.fit(X_train,y_train)\n",
    "clf.score(X_test,y_test)"
   ]
  },
  {
   "cell_type": "markdown",
   "metadata": {},
   "source": [
    "会发现，采用决策树，集成算法得到的准确率会有很大提升，但是如果采用SVM，则集成算法的准确率提升不大"
   ]
  },
  {
   "cell_type": "markdown",
   "metadata": {},
   "source": [
    "放回取样会存在另一个问题，虽然是随机取样，但就是有些样本可能无法被取到。所以我们在进行测试数据集时，可以使用这部分没有被取到的样本进行测试。\n",
    "\n",
    "没有被取到的样本大约有37%\n",
    "对于有n_sample个样本的样本集，每次有放回取n个样本，一个样本不被取到的概率为\n",
    "$$p = 1-\\frac{1}{n_{sample}}$$\n",
    "取n次\n",
    "则取n次都不会为取到的概率为\n",
    "$$p^n = (1-\\frac{1}{n_{sample}})^n$$\n",
    "当n_samle与n都接近无穷时，\n",
    "$$ \\lim \\limits_{n->\\inf}(1-\\frac{1}{n})^n = e^{-1} = 0.37$$"
   ]
  },
  {
   "cell_type": "markdown",
   "metadata": {},
   "source": [
    "故可以使用oob来进行测试"
   ]
  },
  {
   "cell_type": "code",
   "execution_count": 17,
   "metadata": {},
   "outputs": [
    {
     "data": {
      "text/plain": [
       "BaggingClassifier(base_estimator=DecisionTreeClassifier(class_weight=None, criterion='gini', max_depth=None,\n",
       "            max_features=None, max_leaf_nodes=None,\n",
       "            min_impurity_decrease=0.0, min_impurity_split=None,\n",
       "            min_samples_leaf=1, min_samples_split=2,\n",
       "            min_weight_fraction_leaf=0.0, presort=False, random_state=None,\n",
       "            splitter='best'),\n",
       "         bootstrap=True, bootstrap_features=False, max_features=1.0,\n",
       "         max_samples=1.0, n_estimators=500, n_jobs=None, oob_score=True,\n",
       "         random_state=None, verbose=0, warm_start=False)"
      ]
     },
     "execution_count": 17,
     "metadata": {},
     "output_type": "execute_result"
    }
   ],
   "source": [
    "bagging_clf = BaggingClassifier(\n",
    "    DecisionTreeClassifier(),\n",
    "    n_estimators=500,\n",
    "    max_samples=1.0,\n",
    "    bootstrap=True,\n",
    "    oob_score=True #在进行放回取样的过程中，记录下哪些样本被取了，哪些样本没被取\n",
    ")\n",
    "bagging_clf.fit(X,y)"
   ]
  },
  {
   "cell_type": "code",
   "execution_count": 18,
   "metadata": {},
   "outputs": [
    {
     "data": {
      "text/plain": [
       "0.892"
      ]
     },
     "execution_count": 18,
     "metadata": {},
     "output_type": "execute_result"
    }
   ],
   "source": [
    "bagging_clf.oob_score_ #查看在为取样的样本中的测试表现"
   ]
  },
  {
   "cell_type": "markdown",
   "metadata": {},
   "source": [
    "### 如何实现Bagging Classifier的四种类型\n",
    "|-||\n",
    "|:--|:--|\n",
    "|Bagging|booststrap=True|\n",
    "|Pasting|booststrap=False|\n",
    "|Random Subspaces|max_features=0.8#只要不是1.0就可以|\n",
    "|Random Patches|max_samples=0.8 #只要不是1.0就可以<br>max_features=0.8 #只要不是1.0就可以"
   ]
  },
  {
   "cell_type": "markdown",
   "metadata": {},
   "source": [
    "Random Subspaces 针对特征进行随机采样  \n",
    "Random Patches 针对特征和样本进行随机采样"
   ]
  },
  {
   "cell_type": "code",
   "execution_count": 19,
   "metadata": {},
   "outputs": [
    {
     "data": {
      "text/plain": [
       "0.824"
      ]
     },
     "execution_count": 19,
     "metadata": {},
     "output_type": "execute_result"
    }
   ],
   "source": [
    "random_subspaces_clf = BaggingClassifier(DecisionTreeClassifier(),\n",
    "                               n_estimators=500,#集成几个决策树这样的模型\n",
    "                               max_samples=500,#每个子模型看几个样本数据\n",
    "                               bootstrap=True,\n",
    "                               oob_score=True,#告诉Bagging这个类，具体放回取样的过程中，我们还需要记录下，到底取了哪些样？相应的才能知道哪些样本没有被取到。\n",
    "                               n_jobs=-1,\n",
    "                               max_features=0.8,#每次对特征进行随机取样\n",
    "                               bootstrap_features=False)#放回取样\n",
    "random_subspaces_clf.fit(X,y)\n",
    "random_subspaces_clf.oob_score_"
   ]
  },
  {
   "cell_type": "code",
   "execution_count": 20,
   "metadata": {},
   "outputs": [
    {
     "data": {
      "text/plain": [
       "0.882"
      ]
     },
     "execution_count": 20,
     "metadata": {},
     "output_type": "execute_result"
    }
   ],
   "source": [
    "random_patches_clf = BaggingClassifier(DecisionTreeClassifier(),\n",
    "                               n_estimators=500,#集成几个决策树这样的模型\n",
    "                               max_samples=100,#每个子模型看几个样本数据\n",
    "                               bootstrap=True,\n",
    "                               oob_score=True,#告诉Bagging这个类，具体放回取样的过程中，我们还需要记录下，到底取了哪些样？相应的才能知道哪些样本没有被取到。\n",
    "                               n_jobs=-1,\n",
    "                               max_features=0.8,#每次对我们的特征进行随机取样\n",
    "                               bootstrap_features=False)#放回取样\n",
    "random_patches_clf.fit(X,y)\n",
    "random_patches_clf.oob_score_"
   ]
  },
  {
   "cell_type": "markdown",
   "metadata": {},
   "source": [
    "一般来说random_patches的准确率更高。\n",
    "\n",
    "主要是因为我们在这个数据上,对样本的数量进行放回取样，增大了每个子模型的差异性。\n",
    "\n",
    "故最终这个模型产生的准确率是更高的。"
   ]
  },
  {
   "cell_type": "markdown",
   "metadata": {},
   "source": [
    "### Bagging Classifier的属性\n",
    "|-||\n",
    "|:--|:--|\n",
    "|base_estimator_||\n",
    "|estimators_|查看基模型|\n",
    "|estimators_features|子模型所抽取的特征\n",
    "|oob_score_|用袋外数据预测出来的分数"
   ]
  }
 ],
 "metadata": {
  "kernelspec": {
   "display_name": "Python 3",
   "language": "python",
   "name": "python3"
  },
  "language_info": {
   "codemirror_mode": {
    "name": "ipython",
    "version": 3
   },
   "file_extension": ".py",
   "mimetype": "text/x-python",
   "name": "python",
   "nbconvert_exporter": "python",
   "pygments_lexer": "ipython3",
   "version": "3.7.0"
  }
 },
 "nbformat": 4,
 "nbformat_minor": 2
}
