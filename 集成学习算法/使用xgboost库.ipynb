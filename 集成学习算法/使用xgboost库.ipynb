{
 "cells": [
  {
   "cell_type": "markdown",
   "metadata": {},
   "source": [
    "# 使用xgboost库\n",
    "## 目录\n",
    "* xgboost中的参数\n",
    "* 使用sklearn中xgboostAPI\n",
    "    * 绘制学习曲线\n",
    "    * 进化的学习曲线：方差与泛化误差\n",
    "* 使用xgboost.train()\n",
    "* 使用xgboost.cv()\n",
    "    * 案例：在波士顿数据集上，使用xgb.cv这个类进行调参\n",
    "* 分类案例：XGB中样本不均衡问题"
   ]
  },
  {
   "cell_type": "markdown",
   "metadata": {},
   "source": [
    "## xgboost中的参数\n",
    "\n",
    "|sklearn中参数|xgboost库中对应的参数名|集成算法|弱评估器|其他过程|含义|\n",
    "|:--|:--|:--|:--|:--|:--|\n",
    "|n_estimators|num_round|√|-|-|默认为100<br>建议优先调整n_estimators<br>一般不会建议太大的数目，以300以内为佳|\n",
    "|learning_rate|eta|√|-|-|集成中的学习率<br>与n_estimators联合控制调参<br>取值范围[0,1]<br>设置太大模型可能无法收敛，设置太小模型速度非常缓慢|\n",
    "|silent|silent|√|-|-|建议为True<br>True:不打印每次训练的结果|\n",
    "|subsample|subsample|√|-|-|默认为1<br>随机抽样的时候抽取的样本比例，范围(0,1]<br>通常是在样本量本身很大的时候调整和使用|\n",
    "|max_depth|max_depth|-|√|-|默认为6|\n",
    "|objective|obj|-|√|-|确定使用的损失函数类型<br>可选的输入<br>reg:linear(使用线性回归的损失函数，均方误差)<br>binary:logistic(使用逻辑回归的损失函数，对数损失)<br>binary:hinge(使用支持向量机的损失函数,HingeLoss)<br>multi:softmax(使用softmax损失函数，多分类时使用)|\n",
    "|booster|xgb_model|-|√|-|使用哪种弱评估器<br>默认为\"gbtree\"<br>可以输入gbtree(梯度提升树),gblinear(线性模型),dart(抛弃提升树，在建树的过程中会抛弃一部分树，更好的防过拟合)|\n",
    "|gamma|gamma|-|√|-|“复杂度控制”，用来防止过拟合的重要参数。<br>同时还是让树停止生长的重要参数。<br>默认为0<br>取值范围[0,inf)<br>gamma越大，算法越保守，树的叶子数量越少，复杂度越低|\n",
    "|min_child_weight|min_child_weight|-|√|-|默认为1<br>一个叶子结点上所需要的最小hi,即叶子结点上的二阶导数之和（类似于样本权重）|\n",
    "|max_delta_step|max_delta_setp|-|√|-|在保证正确的概率的基础上，减轻样本不平衡问题带来的影响<br>树的权重估计中允许的单次最大增量<br>可以考虑成是影响wj的参数<br>可以将其设定为有限的数（比如1）来帮助收敛<br>很少使用|\n",
    "|colsample_bytree|colsample_bytree|-|√|-|默认为1<br>每次生成树时随机抽样特征的比例|\n",
    "|colsample_bylevel|colsample_bylevel|-|√|-|默认为1<br>每次生成树的一层时，随机抽样特征的比例|\n",
    "|-|colsample_bynode|-|√|-|默认为1<br>每次生成一个叶子节点时，随机抽样特征的比例|\n",
    "|reg_alpha|alpha|-|√|-|默认为0<br>取值范围为[0,inf)<br>正则化参数|\n",
    "|reg_lambda|lambda|-|√|-|默认为1<br>取值范围为[0,inf)<br>正则化参数|\n",
    "|nthread|nthread|-|-|√|用于运行xgboost的并行线程数（已弃用，请使用n_jobs）|\n",
    "|n_jobs|n_jobs|-|-|√|用于运行xgboost的并行线程数|\n",
    "|scale_pos_weight|scale_pos_weight|-|-|√|默认为1<br>调节样本不平衡的参数<br>类似随机森林和支持向量机中的class_weight参数<br>通常我们在参数中输入的是负样本量与正样本量之比|\n",
    "|base_score|base_score|-|-|√|所有实例的初始预测分数，全局偏差<br>分类问题中，它是分类的先验概率<br>通常不使用这个参数<br>对于严重的样本不均衡问题，设置一个正确的base_score取值是很有必要的|\n",
    "|seed|seed|-|-|√|随机数种子（已弃用，请使用random_state）|\n",
    "|random_state|random_state|-|-|√|随机种子|\n",
    "|missing|missing|-|-|√|需要作为缺失值存在的数据中的值<br>如果为None,默认为np.nan<br>输入一个对象或者数据的任意取值，表示将所有含有这个对象的数据作为空值处理|\n",
    "|importance_type|importance_type|-|-|√|feature_importances_属性的特征重要性类型|\n",
    "\n",
    "正则化参数往往不是我们调参的最优选择，如果真的希望控制模型的复杂度，我们会调整$\\gamma$而不是调整这两个正则化参数.  \n",
    "如果我们希望调整$\\alpha$,$\\lambda$，往往会使用网格搜索来帮助我们。\n",
    "\n",
    "\n",
    "参数min_child_weight不太常用，它时一片叶子上的二阶导数$h_i$之和。当样本对应的二阶导数很小时，比如为0.01，min_child_weight若设定为1，则说明一片叶子上至少需要100个样本。  \n",
    "本质上说，这个参数其实是在控制叶子上所需的最小样本量。因此对样本量很大的数据会比较有效。\n",
    "\n",
    "**调参的过程**：  \n",
    "通常在我们获得了一个数据集后，我们先使用网格搜索找出比较合适的n_estimators和eta组合  \n",
    "然后使用gamma或者max_depth观察模型处于什么样的状态（过拟合还是欠拟合，处于方差-偏差图像的左边还是右边？）  \n",
    "最后再决定是否要进行剪枝"
   ]
  },
  {
   "cell_type": "markdown",
   "metadata": {},
   "source": [
    "## 使用sklearn中xgboostAPI"
   ]
  },
  {
   "cell_type": "code",
   "execution_count": 1,
   "metadata": {},
   "outputs": [],
   "source": [
    "import xgboost\n",
    "from sklearn.datasets import load_boston\n",
    "from sklearn.model_selection import cross_val_score,KFold,train_test_split\n",
    "from time import time\n",
    "import datetime"
   ]
  },
  {
   "cell_type": "code",
   "execution_count": 2,
   "metadata": {},
   "outputs": [],
   "source": [
    "boston = load_boston()\n",
    "X = boston.data\n",
    "y = boston.target\n",
    "X_train,X_test,y_train,y_test = train_test_split(X,y,test_size=0.3,random_state=420)"
   ]
  },
  {
   "cell_type": "code",
   "execution_count": 3,
   "metadata": {},
   "outputs": [
    {
     "name": "stdout",
     "output_type": "stream",
     "text": [
      "[17:38:22] WARNING: src/objective/regression_obj.cu:152: reg:linear is now deprecated in favor of reg:squarederror.\n"
     ]
    },
    {
     "data": {
      "text/plain": [
       "0.9197580267581366"
      ]
     },
     "execution_count": 3,
     "metadata": {},
     "output_type": "execute_result"
    }
   ],
   "source": [
    "reg = xgboost.XGBRegressor(n_estimators=100).fit(X_train,y_train)\n",
    "reg.score(X_test,y_test)"
   ]
  },
  {
   "cell_type": "code",
   "execution_count": 4,
   "metadata": {},
   "outputs": [
    {
     "data": {
      "text/plain": [
       "[('CRIM', 0.02474326),\n",
       " ('ZN', 0.0023391892),\n",
       " ('INDUS', 0.008951775),\n",
       " ('CHAS', 0.01757721),\n",
       " ('NOX', 0.048474625),\n",
       " ('RM', 0.25909728),\n",
       " ('AGE', 0.012036602),\n",
       " ('DIS', 0.042923097),\n",
       " ('RAD', 0.013585145),\n",
       " ('TAX', 0.025586879),\n",
       " ('PTRATIO', 0.04455473),\n",
       " ('B', 0.01763431),\n",
       " ('LSTAT', 0.48249587)]"
      ]
     },
     "execution_count": 4,
     "metadata": {},
     "output_type": "execute_result"
    }
   ],
   "source": [
    "[*zip(boston.feature_names,reg.feature_importances_)]"
   ]
  },
  {
   "cell_type": "markdown",
   "metadata": {},
   "source": [
    "可以查看模型的重要性分数，使用嵌入法进行特征选择"
   ]
  },
  {
   "cell_type": "markdown",
   "metadata": {},
   "source": [
    "### 绘制学习曲线"
   ]
  },
  {
   "cell_type": "code",
   "execution_count": 5,
   "metadata": {},
   "outputs": [
    {
     "name": "stdout",
     "output_type": "stream",
     "text": [
      "[17:43:25] WARNING: src/objective/regression_obj.cu:152: reg:linear is now deprecated in favor of reg:squarederror.\n",
      "[17:43:25] WARNING: src/objective/regression_obj.cu:152: reg:linear is now deprecated in favor of reg:squarederror.\n",
      "[17:43:25] WARNING: src/objective/regression_obj.cu:152: reg:linear is now deprecated in favor of reg:squarederror.\n",
      "[17:43:25] WARNING: src/objective/regression_obj.cu:152: reg:linear is now deprecated in favor of reg:squarederror.\n",
      "[17:43:25] WARNING: src/objective/regression_obj.cu:152: reg:linear is now deprecated in favor of reg:squarederror.\n",
      "[17:43:25] WARNING: src/objective/regression_obj.cu:152: reg:linear is now deprecated in favor of reg:squarederror.\n",
      "[17:43:25] WARNING: src/objective/regression_obj.cu:152: reg:linear is now deprecated in favor of reg:squarederror.\n",
      "[17:43:25] WARNING: src/objective/regression_obj.cu:152: reg:linear is now deprecated in favor of reg:squarederror.\n",
      "[17:43:25] WARNING: src/objective/regression_obj.cu:152: reg:linear is now deprecated in favor of reg:squarederror.\n",
      "[17:43:26] WARNING: src/objective/regression_obj.cu:152: reg:linear is now deprecated in favor of reg:squarederror.\n",
      "[17:43:26] WARNING: src/objective/regression_obj.cu:152: reg:linear is now deprecated in favor of reg:squarederror.\n",
      "[17:43:26] WARNING: src/objective/regression_obj.cu:152: reg:linear is now deprecated in favor of reg:squarederror.\n",
      "[17:43:26] WARNING: src/objective/regression_obj.cu:152: reg:linear is now deprecated in favor of reg:squarederror.\n",
      "[17:43:26] WARNING: src/objective/regression_obj.cu:152: reg:linear is now deprecated in favor of reg:squarederror.\n",
      "[17:43:26] WARNING: src/objective/regression_obj.cu:152: reg:linear is now deprecated in favor of reg:squarederror.\n",
      "[17:43:26] WARNING: src/objective/regression_obj.cu:152: reg:linear is now deprecated in favor of reg:squarederror.\n",
      "[17:43:26] WARNING: src/objective/regression_obj.cu:152: reg:linear is now deprecated in favor of reg:squarederror.\n",
      "[17:43:26] WARNING: src/objective/regression_obj.cu:152: reg:linear is now deprecated in favor of reg:squarederror.\n",
      "[17:43:26] WARNING: src/objective/regression_obj.cu:152: reg:linear is now deprecated in favor of reg:squarederror.\n",
      "[17:43:26] WARNING: src/objective/regression_obj.cu:152: reg:linear is now deprecated in favor of reg:squarederror.\n",
      "[17:43:26] WARNING: src/objective/regression_obj.cu:152: reg:linear is now deprecated in favor of reg:squarederror.\n",
      "[17:43:26] WARNING: src/objective/regression_obj.cu:152: reg:linear is now deprecated in favor of reg:squarederror.\n",
      "[17:43:26] WARNING: src/objective/regression_obj.cu:152: reg:linear is now deprecated in favor of reg:squarederror.\n",
      "[17:43:26] WARNING: src/objective/regression_obj.cu:152: reg:linear is now deprecated in favor of reg:squarederror.\n",
      "[17:43:26] WARNING: src/objective/regression_obj.cu:152: reg:linear is now deprecated in favor of reg:squarederror.\n"
     ]
    }
   ],
   "source": [
    "from sklearn.model_selection import learning_curve\n",
    "import matplotlib.pyplot as plt\n",
    "import numpy as np\n",
    "train_sizes,train_scores,test_scores = learning_curve(xgboost.XGBRegressor(n_estimators=100),X_train,y_train,shuffle=True,cv=5,scoring=\"r2\",random_state=420)"
   ]
  },
  {
   "cell_type": "code",
   "execution_count": 6,
   "metadata": {},
   "outputs": [
    {
     "data": {
      "text/plain": [
       "<matplotlib.legend.Legend at 0x1a16c9fa20>"
      ]
     },
     "execution_count": 6,
     "metadata": {},
     "output_type": "execute_result"
    },
    {
     "data": {
      "image/png": "[encoded data removed]",
      "text/plain": [
       "<Figure size 432x288 with 1 Axes>"
      ]
     },
     "metadata": {
      "needs_background": "light"
     },
     "output_type": "display_data"
    }
   ],
   "source": [
    "plt.grid()\n",
    "plt.xlabel(\"training examples\")\n",
    "plt.ylabel(\"Score\")\n",
    "plt.plot(train_sizes,np.mean(train_scores,axis=1),\"o-\",label=\"Training score\")\n",
    "plt.plot(train_sizes,np.mean(test_scores,axis=1),\"o-\",label=\"Test score\")\n",
    "plt.legend(loc=\"best\")"
   ]
  },
  {
   "cell_type": "markdown",
   "metadata": {},
   "source": [
    "### 进化的学习曲线：方差与泛化误差\n",
    "衡量模型在未知数据上的准确率的指标叫做，泛化误差(Genelization error)  \n",
    "一个模型在位置数据集(D)上的泛化误差E，由方差(var),偏差(bais)和噪声($/epsilon$)共同决定。  \n",
    "其中偏差就是训练集上的拟合程度决定，方差是模型的稳定性决定，噪声是不可控的。  \n",
    "泛化误差越小，模型越理想。  \n",
    "$$E(f;D)=bias^2+var+\\epsilon^2$$\n",
    "\n",
    "改进后的学习曲线，即考虑偏差也考虑方差"
   ]
  },
  {
   "cell_type": "code",
   "execution_count": 7,
   "metadata": {},
   "outputs": [
    {
     "name": "stdout",
     "output_type": "stream",
     "text": [
      "[17:44:12] WARNING: src/objective/regression_obj.cu:152: reg:linear is now deprecated in favor of reg:squarederror.\n",
      "[17:44:12] WARNING: src/objective/regression_obj.cu:152: reg:linear is now deprecated in favor of reg:squarederror.\n",
      "[17:44:12] WARNING: src/objective/regression_obj.cu:152: reg:linear is now deprecated in favor of reg:squarederror.\n",
      "[17:44:12] WARNING: src/objective/regression_obj.cu:152: reg:linear is now deprecated in favor of reg:squarederror.\n",
      "[17:44:12] WARNING: src/objective/regression_obj.cu:152: reg:linear is now deprecated in favor of reg:squarederror.\n",
      "[17:44:12] WARNING: src/objective/regression_obj.cu:152: reg:linear is now deprecated in favor of reg:squarederror.\n",
      "[17:44:12] WARNING: src/objective/regression_obj.cu:152: reg:linear is now deprecated in favor of reg:squarederror.\n",
      "[17:44:12] WARNING: src/objective/regression_obj.cu:152: reg:linear is now deprecated in favor of reg:squarederror.\n",
      "[17:44:12] WARNING: src/objective/regression_obj.cu:152: reg:linear is now deprecated in favor of reg:squarederror.\n",
      "[17:44:12] WARNING: src/objective/regression_obj.cu:152: reg:linear is now deprecated in favor of reg:squarederror.\n",
      "[17:44:12] WARNING: src/objective/regression_obj.cu:152: reg:linear is now deprecated in favor of reg:squarederror.\n",
      "[17:44:12] WARNING: src/objective/regression_obj.cu:152: reg:linear is now deprecated in favor of reg:squarederror.\n",
      "[17:44:12] WARNING: src/objective/regression_obj.cu:152: reg:linear is now deprecated in favor of reg:squarederror.\n",
      "[17:44:12] WARNING: src/objective/regression_obj.cu:152: reg:linear is now deprecated in favor of reg:squarederror.\n",
      "[17:44:12] WARNING: src/objective/regression_obj.cu:152: reg:linear is now deprecated in favor of reg:squarederror.\n",
      "[17:44:12] WARNING: src/objective/regression_obj.cu:152: reg:linear is now deprecated in favor of reg:squarederror.\n",
      "[17:44:12] WARNING: src/objective/regression_obj.cu:152: reg:linear is now deprecated in favor of reg:squarederror.\n",
      "[17:44:12] WARNING: src/objective/regression_obj.cu:152: reg:linear is now deprecated in favor of reg:squarederror.\n",
      "[17:44:12] WARNING: src/objective/regression_obj.cu:152: reg:linear is now deprecated in favor of reg:squarederror.\n",
      "[17:44:12] WARNING: src/objective/regression_obj.cu:152: reg:linear is now deprecated in favor of reg:squarederror.\n",
      "[17:44:12] WARNING: src/objective/regression_obj.cu:152: reg:linear is now deprecated in favor of reg:squarederror.\n",
      "[17:44:12] WARNING: src/objective/regression_obj.cu:152: reg:linear is now deprecated in favor of reg:squarederror.\n",
      "[17:44:12] WARNING: src/objective/regression_obj.cu:152: reg:linear is now deprecated in favor of reg:squarederror.\n",
      "[17:44:12] WARNING: src/objective/regression_obj.cu:152: reg:linear is now deprecated in favor of reg:squarederror.\n",
      "[17:44:12] WARNING: src/objective/regression_obj.cu:152: reg:linear is now deprecated in favor of reg:squarederror.\n",
      "[17:44:12] WARNING: src/objective/regression_obj.cu:152: reg:linear is now deprecated in favor of reg:squarederror.\n",
      "[17:44:12] WARNING: src/objective/regression_obj.cu:152: reg:linear is now deprecated in favor of reg:squarederror.\n",
      "[17:44:13] WARNING: src/objective/regression_obj.cu:152: reg:linear is now deprecated in favor of reg:squarederror.\n",
      "[17:44:13] WARNING: src/objective/regression_obj.cu:152: reg:linear is now deprecated in favor of reg:squarederror.\n",
      "[17:44:13] WARNING: src/objective/regression_obj.cu:152: reg:linear is now deprecated in favor of reg:squarederror.\n",
      "[17:44:13] WARNING: src/objective/regression_obj.cu:152: reg:linear is now deprecated in favor of reg:squarederror.\n",
      "[17:44:13] WARNING: src/objective/regression_obj.cu:152: reg:linear is now deprecated in favor of reg:squarederror.\n",
      "[17:44:13] WARNING: src/objective/regression_obj.cu:152: reg:linear is now deprecated in favor of reg:squarederror.\n",
      "[17:44:13] WARNING: src/objective/regression_obj.cu:152: reg:linear is now deprecated in favor of reg:squarederror.\n",
      "[17:44:13] WARNING: src/objective/regression_obj.cu:152: reg:linear is now deprecated in favor of reg:squarederror.\n",
      "[17:44:13] WARNING: src/objective/regression_obj.cu:152: reg:linear is now deprecated in favor of reg:squarederror.\n",
      "[17:44:13] WARNING: src/objective/regression_obj.cu:152: reg:linear is now deprecated in favor of reg:squarederror.\n",
      "[17:44:13] WARNING: src/objective/regression_obj.cu:152: reg:linear is now deprecated in favor of reg:squarederror.\n",
      "[17:44:13] WARNING: src/objective/regression_obj.cu:152: reg:linear is now deprecated in favor of reg:squarederror.\n",
      "[17:44:13] WARNING: src/objective/regression_obj.cu:152: reg:linear is now deprecated in favor of reg:squarederror.\n",
      "[17:44:13] WARNING: src/objective/regression_obj.cu:152: reg:linear is now deprecated in favor of reg:squarederror.\n",
      "[17:44:13] WARNING: src/objective/regression_obj.cu:152: reg:linear is now deprecated in favor of reg:squarederror.\n",
      "[17:44:13] WARNING: src/objective/regression_obj.cu:152: reg:linear is now deprecated in favor of reg:squarederror.\n",
      "[17:44:13] WARNING: src/objective/regression_obj.cu:152: reg:linear is now deprecated in favor of reg:squarederror.\n",
      "[17:44:13] WARNING: src/objective/regression_obj.cu:152: reg:linear is now deprecated in favor of reg:squarederror.\n",
      "[17:44:13] WARNING: src/objective/regression_obj.cu:152: reg:linear is now deprecated in favor of reg:squarederror.\n",
      "[17:44:13] WARNING: src/objective/regression_obj.cu:152: reg:linear is now deprecated in favor of reg:squarederror.\n",
      "[17:44:13] WARNING: src/objective/regression_obj.cu:152: reg:linear is now deprecated in favor of reg:squarederror.\n",
      "[17:44:13] WARNING: src/objective/regression_obj.cu:152: reg:linear is now deprecated in favor of reg:squarederror.\n",
      "[17:44:14] WARNING: src/objective/regression_obj.cu:152: reg:linear is now deprecated in favor of reg:squarederror.\n",
      "[17:44:14] WARNING: src/objective/regression_obj.cu:152: reg:linear is now deprecated in favor of reg:squarederror.\n",
      "[17:44:14] WARNING: src/objective/regression_obj.cu:152: reg:linear is now deprecated in favor of reg:squarederror.\n",
      "[17:44:14] WARNING: src/objective/regression_obj.cu:152: reg:linear is now deprecated in favor of reg:squarederror.\n",
      "[17:44:14] WARNING: src/objective/regression_obj.cu:152: reg:linear is now deprecated in favor of reg:squarederror.\n",
      "[17:44:14] WARNING: src/objective/regression_obj.cu:152: reg:linear is now deprecated in favor of reg:squarederror.\n",
      "[17:44:14] WARNING: src/objective/regression_obj.cu:152: reg:linear is now deprecated in favor of reg:squarederror.\n",
      "[17:44:14] WARNING: src/objective/regression_obj.cu:152: reg:linear is now deprecated in favor of reg:squarederror.\n",
      "[17:44:14] WARNING: src/objective/regression_obj.cu:152: reg:linear is now deprecated in favor of reg:squarederror.\n",
      "[17:44:14] WARNING: src/objective/regression_obj.cu:152: reg:linear is now deprecated in favor of reg:squarederror.\n",
      "[17:44:14] WARNING: src/objective/regression_obj.cu:152: reg:linear is now deprecated in favor of reg:squarederror.\n",
      "[17:44:14] WARNING: src/objective/regression_obj.cu:152: reg:linear is now deprecated in favor of reg:squarederror.\n",
      "[17:44:14] WARNING: src/objective/regression_obj.cu:152: reg:linear is now deprecated in favor of reg:squarederror.\n",
      "[17:44:14] WARNING: src/objective/regression_obj.cu:152: reg:linear is now deprecated in favor of reg:squarederror.\n",
      "[17:44:14] WARNING: src/objective/regression_obj.cu:152: reg:linear is now deprecated in favor of reg:squarederror.\n",
      "[17:44:14] WARNING: src/objective/regression_obj.cu:152: reg:linear is now deprecated in favor of reg:squarederror.\n",
      "[17:44:14] WARNING: src/objective/regression_obj.cu:152: reg:linear is now deprecated in favor of reg:squarederror.\n",
      "[17:44:14] WARNING: src/objective/regression_obj.cu:152: reg:linear is now deprecated in favor of reg:squarederror.\n",
      "[17:44:15] WARNING: src/objective/regression_obj.cu:152: reg:linear is now deprecated in favor of reg:squarederror.\n",
      "[17:44:15] WARNING: src/objective/regression_obj.cu:152: reg:linear is now deprecated in favor of reg:squarederror.\n",
      "[17:44:15] WARNING: src/objective/regression_obj.cu:152: reg:linear is now deprecated in favor of reg:squarederror.\n",
      "[17:44:15] WARNING: src/objective/regression_obj.cu:152: reg:linear is now deprecated in favor of reg:squarederror.\n",
      "[17:44:15] WARNING: src/objective/regression_obj.cu:152: reg:linear is now deprecated in favor of reg:squarederror.\n",
      "[17:44:15] WARNING: src/objective/regression_obj.cu:152: reg:linear is now deprecated in favor of reg:squarederror.\n",
      "[17:44:15] WARNING: src/objective/regression_obj.cu:152: reg:linear is now deprecated in favor of reg:squarederror.\n",
      "[17:44:15] WARNING: src/objective/regression_obj.cu:152: reg:linear is now deprecated in favor of reg:squarederror.\n",
      "[17:44:15] WARNING: src/objective/regression_obj.cu:152: reg:linear is now deprecated in favor of reg:squarederror.\n",
      "[17:44:15] WARNING: src/objective/regression_obj.cu:152: reg:linear is now deprecated in favor of reg:squarederror.\n",
      "[17:44:15] WARNING: src/objective/regression_obj.cu:152: reg:linear is now deprecated in favor of reg:squarederror.\n",
      "[17:44:15] WARNING: src/objective/regression_obj.cu:152: reg:linear is now deprecated in favor of reg:squarederror.\n",
      "[17:44:15] WARNING: src/objective/regression_obj.cu:152: reg:linear is now deprecated in favor of reg:squarederror.\n",
      "[17:44:15] WARNING: src/objective/regression_obj.cu:152: reg:linear is now deprecated in favor of reg:squarederror.\n",
      "[17:44:15] WARNING: src/objective/regression_obj.cu:152: reg:linear is now deprecated in favor of reg:squarederror.\n",
      "[17:44:16] WARNING: src/objective/regression_obj.cu:152: reg:linear is now deprecated in favor of reg:squarederror.\n",
      "[17:44:16] WARNING: src/objective/regression_obj.cu:152: reg:linear is now deprecated in favor of reg:squarederror.\n",
      "[17:44:16] WARNING: src/objective/regression_obj.cu:152: reg:linear is now deprecated in favor of reg:squarederror.\n",
      "[17:44:16] WARNING: src/objective/regression_obj.cu:152: reg:linear is now deprecated in favor of reg:squarederror.\n",
      "[17:44:16] WARNING: src/objective/regression_obj.cu:152: reg:linear is now deprecated in favor of reg:squarederror.\n",
      "[17:44:16] WARNING: src/objective/regression_obj.cu:152: reg:linear is now deprecated in favor of reg:squarederror.\n",
      "[17:44:16] WARNING: src/objective/regression_obj.cu:152: reg:linear is now deprecated in favor of reg:squarederror.\n",
      "[17:44:16] WARNING: src/objective/regression_obj.cu:152: reg:linear is now deprecated in favor of reg:squarederror.\n",
      "[17:44:16] WARNING: src/objective/regression_obj.cu:152: reg:linear is now deprecated in favor of reg:squarederror.\n",
      "[17:44:16] WARNING: src/objective/regression_obj.cu:152: reg:linear is now deprecated in favor of reg:squarederror.\n",
      "[17:44:16] WARNING: src/objective/regression_obj.cu:152: reg:linear is now deprecated in favor of reg:squarederror.\n",
      "[17:44:16] WARNING: src/objective/regression_obj.cu:152: reg:linear is now deprecated in favor of reg:squarederror.\n",
      "[17:44:16] WARNING: src/objective/regression_obj.cu:152: reg:linear is now deprecated in favor of reg:squarederror.\n",
      "[17:44:16] WARNING: src/objective/regression_obj.cu:152: reg:linear is now deprecated in favor of reg:squarederror.\n",
      "[17:44:17] WARNING: src/objective/regression_obj.cu:152: reg:linear is now deprecated in favor of reg:squarederror.\n",
      "[17:44:17] WARNING: src/objective/regression_obj.cu:152: reg:linear is now deprecated in favor of reg:squarederror.\n",
      "[17:44:17] WARNING: src/objective/regression_obj.cu:152: reg:linear is now deprecated in favor of reg:squarederror.\n",
      "[17:44:17] WARNING: src/objective/regression_obj.cu:152: reg:linear is now deprecated in favor of reg:squarederror.\n"
     ]
    }
   ],
   "source": [
    "#改进后的学习曲线，将方差也考虑其中\n",
    "cv = KFold(n_splits=5, shuffle = True, random_state=42) #交叉验证模式\n",
    "n_estimators = np.arange(100,300,10)\n",
    "bias = []#记录偏差\n",
    "var = []#记录方差\n",
    "Err = []#记录泛化误差中可控的部分\n",
    "\n",
    "for i in n_estimators:\n",
    "    reg = xgboost.XGBRegressor(n_estimators=i,random_state=420)\n",
    "    CVresult = cross_val_score(reg,X_train,y_train,cv=cv)\n",
    "    bias.append(CVresult.mean()) #记录偏差\n",
    "    var.append(CVresult.var()) #记录方差\n",
    "    Err.append((1-CVresult.mean())**2+CVresult.var())\n",
    "\n",
    "bias = np.array(bias)\n",
    "var = np.array(var)\n",
    "Err = np.array(Err)"
   ]
  },
  {
   "cell_type": "code",
   "execution_count": 8,
   "metadata": {},
   "outputs": [
    {
     "name": "stdout",
     "output_type": "stream",
     "text": [
      "when bias is min 180 0.8038787848970184 0.00959321570484315\n",
      "when var is min 180 0.8038787848970184 0.00959321570484315\n",
      "when Err is min 180 0.8038787848970184 0.00959321570484315\n"
     ]
    },
    {
     "data": {
      "image/png": "[encoded data removed]",
      "text/plain": [
       "<Figure size 1440x360 with 1 Axes>"
      ]
     },
     "metadata": {
      "needs_background": "light"
     },
     "output_type": "display_data"
    }
   ],
   "source": [
    "print(\"when bias is min\",n_estimators[np.argmax(bias)],max(bias),var[np.argmax(bias)])\n",
    "print(\"when var is min\",n_estimators[np.argmin(var)],bias[np.argmin(var)],min(var))    \n",
    "print(\"when Err is min\",n_estimators[np.argmin(Err)],bias[np.argmin(Err)],var[np.argmin(Err)])\n",
    "\n",
    "plt.figure(figsize=(20,5))\n",
    "plt.plot(n_estimators,bias,c=\"black\",label=\"XGB\")\n",
    "plt.plot(n_estimators,bias+var*0.05,c=\"red\",linestyle=\"-.\")\n",
    "plt.plot(n_estimators,bias-var*0.05,c=\"red\",linestyle=\"-.\")\n",
    "plt.legend()\n",
    "plt.show()"
   ]
  },
  {
   "cell_type": "markdown",
   "metadata": {},
   "source": [
    "## xgboost.train()的使用"
   ]
  },
  {
   "cell_type": "markdown",
   "metadata": {},
   "source": [
    "使用xgboost库的建模流程  \n",
    "1. 读取数据 xgboost.DMatrix()\n",
    "2. 设置参数 param={}\n",
    "3. 训练模型 bst = xgboost.train(param)\n",
    "4. 预测结果 bst.predict()"
   ]
  },
  {
   "cell_type": "code",
   "execution_count": 10,
   "metadata": {},
   "outputs": [
    {
     "name": "stdout",
     "output_type": "stream",
     "text": [
      "[17:45:20] WARNING: src/objective/regression_obj.cu:152: reg:linear is now deprecated in favor of reg:squarederror.\n"
     ]
    },
    {
     "data": {
      "text/plain": [
       "0.9260984298390122"
      ]
     },
     "execution_count": 10,
     "metadata": {},
     "output_type": "execute_result"
    }
   ],
   "source": [
    "import xgboost\n",
    "#使用DMatrix类读取数据\n",
    "dtrain = xgboost.DMatrix(X_train,y_train)\n",
    "dtest = xgboost.DMatrix(X_test,y_test)\n",
    "\n",
    "#写明参数\n",
    "param = {\n",
    "    'silent':False,\n",
    "    \"objective\":\"reg:linear\",\n",
    "    \"eta\":0.1\n",
    "}\n",
    "num_round = 180\n",
    "\n",
    "#训练模型\n",
    "bst = xgboost.train(param,dtrain,num_round)\n",
    "\n",
    "#预测结果\n",
    "predict = bst.predict(dtest)\n",
    "from sklearn.metrics import r2_score\n",
    "r2_score(y_test,predict)"
   ]
  },
  {
   "cell_type": "markdown",
   "metadata": {},
   "source": [
    "### 使用xgboost.cv()类"
   ]
  },
  {
   "cell_type": "markdown",
   "metadata": {},
   "source": [
    "为了调整gamma，使用xgboost库中的类xgboost.cv  \n",
    "xgboost.cv中用于回归和分类的评估指标有：\n",
    "* rmse 均方根误差\n",
    "* mae 绝对平均误差\n",
    "* logloss 对数损失（二分类用）\n",
    "* mlogloss 对数损失（多分类用）\n",
    "* error 分类误差(1-准确率)\n",
    "* auc AUC面积\n",
    "\n",
    "在param中{“eval_metric”:\"mae\"}进行修改"
   ]
  },
  {
   "cell_type": "code",
   "execution_count": 11,
   "metadata": {},
   "outputs": [
    {
     "name": "stdout",
     "output_type": "stream",
     "text": [
      "00:1:237792\n"
     ]
    },
    {
     "data": {
      "text/html": [
       "<div>\n",
       "<style scoped>\n",
       "    .dataframe tbody tr th:only-of-type {\n",
       "        vertical-align: middle;\n",
       "    }\n",
       "\n",
       "    .dataframe tbody tr th {\n",
       "        vertical-align: top;\n",
       "    }\n",
       "\n",
       "    .dataframe thead th {\n",
       "        text-align: right;\n",
       "    }\n",
       "</style>\n",
       "<table border=\"1\" class=\"dataframe\">\n",
       "  <thead>\n",
       "    <tr style=\"text-align: right;\">\n",
       "      <th></th>\n",
       "      <th>train-rmse-mean</th>\n",
       "      <th>train-rmse-std</th>\n",
       "      <th>test-rmse-mean</th>\n",
       "      <th>test-rmse-std</th>\n",
       "    </tr>\n",
       "  </thead>\n",
       "  <tbody>\n",
       "    <tr>\n",
       "      <th>0</th>\n",
       "      <td>17.105577</td>\n",
       "      <td>0.129117</td>\n",
       "      <td>17.163215</td>\n",
       "      <td>0.584297</td>\n",
       "    </tr>\n",
       "    <tr>\n",
       "      <th>1</th>\n",
       "      <td>12.337972</td>\n",
       "      <td>0.097556</td>\n",
       "      <td>12.519736</td>\n",
       "      <td>0.473458</td>\n",
       "    </tr>\n",
       "    <tr>\n",
       "      <th>2</th>\n",
       "      <td>8.994071</td>\n",
       "      <td>0.065756</td>\n",
       "      <td>9.404534</td>\n",
       "      <td>0.472310</td>\n",
       "    </tr>\n",
       "    <tr>\n",
       "      <th>3</th>\n",
       "      <td>6.629480</td>\n",
       "      <td>0.050323</td>\n",
       "      <td>7.250335</td>\n",
       "      <td>0.500342</td>\n",
       "    </tr>\n",
       "    <tr>\n",
       "      <th>4</th>\n",
       "      <td>4.954407</td>\n",
       "      <td>0.033209</td>\n",
       "      <td>5.920812</td>\n",
       "      <td>0.591874</td>\n",
       "    </tr>\n",
       "  </tbody>\n",
       "</table>\n",
       "</div>"
      ],
      "text/plain": [
       "   train-rmse-mean  train-rmse-std  test-rmse-mean  test-rmse-std\n",
       "0        17.105577        0.129117       17.163215       0.584297\n",
       "1        12.337972        0.097556       12.519736       0.473458\n",
       "2         8.994071        0.065756        9.404534       0.472310\n",
       "3         6.629480        0.050323        7.250335       0.500342\n",
       "4         4.954407        0.033209        5.920812       0.591874"
      ]
     },
     "execution_count": 11,
     "metadata": {},
     "output_type": "execute_result"
    }
   ],
   "source": [
    "#使用Dmatrix类读取数据\n",
    "dfull = xgboost.DMatrix(X,y)\n",
    "\n",
    "#设定参数\n",
    "param_0 = {\n",
    "'silent':True,'obj':'reg:linear',\"gamma\":0\n",
    "#     \"eval_metric\":\"rmse\"\n",
    "}\n",
    "param_20 = {\n",
    "    \"silent\":True,\"obj\":\"reg:linear\",\"gamma\":20\n",
    "}\n",
    "\n",
    "num_round=180\n",
    "n_fold=5\n",
    "\n",
    "#使用类xgb.cv\n",
    "time0 = time()\n",
    "CVresult_0 = xgboost.cv(param_0,dfull,num_round,n_fold)\n",
    "CVresult_20 = xgboost.cv(param_20,dfull,num_round,n_fold)\n",
    "print(datetime.datetime.fromtimestamp(time()-time0).strftime(\"%M:%s:%f\"))\n",
    "\n",
    "#看看类xgb.cv生成的结果\n",
    "CVresult_0.head()"
   ]
  },
  {
   "cell_type": "code",
   "execution_count": 12,
   "metadata": {},
   "outputs": [
    {
     "data": {
      "image/png": "[encoded data removed]",
      "text/plain": [
       "<Figure size 1440x360 with 1 Axes>"
      ]
     },
     "metadata": {
      "needs_background": "light"
     },
     "output_type": "display_data"
    }
   ],
   "source": [
    "plt.figure(figsize=(20,5))\n",
    "plt.grid()\n",
    "plt.plot(range(1,181),CVresult_0.iloc[:,0],c = \"red\",label=\"train,gamma=0\")\n",
    "plt.plot(range(1,181),CVresult_0.iloc[:,2],c = \"orange\",label=\"test,gamma=0\")\n",
    "\n",
    "plt.plot(range(1,181),CVresult_20.iloc[:,0],c = \"g\",label=\"train,gamma=20\")\n",
    "plt.plot(range(1,181),CVresult_20.iloc[:,2],c = \"b\",label=\"test,gamma=20\")\n",
    "\n",
    "\n",
    "plt.xlabel(\"n_estimators\")\n",
    "plt.ylabel(\"rmse\")\n",
    "plt.legend()\n",
    "plt.show()"
   ]
  },
  {
   "cell_type": "markdown",
   "metadata": {},
   "source": [
    "### 案例：在波士顿数据集上，使用xgb.cv这个类进行调参"
   ]
  },
  {
   "cell_type": "code",
   "execution_count": 15,
   "metadata": {},
   "outputs": [
    {
     "name": "stdout",
     "output_type": "stream",
     "text": [
      "00:0:331057\n"
     ]
    }
   ],
   "source": [
    "dfull = xgboost.DMatrix(X,y)\n",
    "\n",
    "param = {\n",
    "    \"silent\":True,\n",
    "    \"obj\":\"reg:linear\",#确定xgb所用的损失函数\n",
    "    \"subsample\":1,\n",
    "    \"max_depth\":6,\n",
    "    \"eta\":0.3,\n",
    "    \"gamma\":0,\n",
    "    \"lambda\":1,\n",
    "    \"alpha\":0,\n",
    "    \"colsample_bytree\":1,\n",
    "    \"colsample_bylevel\":1,\n",
    "    \"colsample_bynode\":1,\n",
    "    \"nfold\":5,\n",
    "#     \"eval_metric\":\"rmse\"\n",
    "}\n",
    "num_round=200\n",
    "\n",
    "time0 = time()\n",
    "CVresult = xgboost.cv(param,dfull,num_round)\n",
    "print(datetime.datetime.fromtimestamp(time()-time0).strftime(\"%M:%s:%f\"))"
   ]
  },
  {
   "cell_type": "code",
   "execution_count": 16,
   "metadata": {},
   "outputs": [
    {
     "data": {
      "image/png": "[encoded data removed]",
      "text/plain": [
       "<Figure size 1440x360 with 1 Axes>"
      ]
     },
     "metadata": {
      "needs_background": "light"
     },
     "output_type": "display_data"
    }
   ],
   "source": [
    "plt.figure(figsize=(20,5))\n",
    "plt.grid()\n",
    "plt.plot(range(1,201),CVresult.iloc[:,0],c = \"red\",label=\"train,original\")\n",
    "plt.plot(range(1,201),CVresult.iloc[:,2],c = \"orange\",label=\"test,original\")\n",
    "\n",
    "plt.xlabel(\"n_estimators\")\n",
    "plt.ylabel(\"rmse\")\n",
    "plt.legend(fontsize=\"xx-large\")#让图例的字体最大\n",
    "\n",
    "plt.show()"
   ]
  },
  {
   "cell_type": "markdown",
   "metadata": {},
   "source": [
    "从曲线上可以看出，模型现在处于过拟合的状态，我们决定剪枝。  \n",
    "我们的目标是：训练集和测试集的结果尽量接近。  \n",
    "在这里我们使用三组曲线，一组用于展示原式数据集上的结果，一组用于展示上一个参数调整完毕后的结果，最后一组用于展示现在我们在调节的参数的结果"
   ]
  },
  {
   "cell_type": "code",
   "execution_count": 18,
   "metadata": {},
   "outputs": [
    {
     "name": "stdout",
     "output_type": "stream",
     "text": [
      "00:0:332620\n"
     ]
    },
    {
     "data": {
      "image/png": "[encoded data removed]",
      "text/plain": [
       "<Figure size 1440x360 with 1 Axes>"
      ]
     },
     "metadata": {
      "needs_background": "light"
     },
     "output_type": "display_data"
    }
   ],
   "source": [
    "param_original = {\n",
    "    \"silent\":True,\n",
    "    \"obj\":\"reg:linear\",#确定xgb所用的损失函数\n",
    "    \"subsample\":1,\n",
    "    \"max_depth\":6,\n",
    "    \"eta\":0.3,\n",
    "    \"gamma\":0,\n",
    "    \"lambda\":1,\n",
    "    \"alpha\":0,\n",
    "    \"colsample_bytree\":1,\n",
    "    \"colsample_bylevel\":1,\n",
    "    \"colsample_bynode\":1,\n",
    "    \"nfold\":5,\n",
    "#     \"eval_metric\":\"rmse\"\n",
    "}\n",
    "num_round=200\n",
    "\n",
    "time0 = time()\n",
    "CVresult_original = xgboost.cv(param_original,dfull,num_round)\n",
    "print(datetime.datetime.fromtimestamp(time()-time0).strftime(\"%M:%s:%f\"))\n",
    "\n",
    "plt.figure(figsize=(20,5))\n",
    "plt.grid()\n",
    "plt.plot(range(1,201),CVresult.iloc[:,0],c = \"red\",label=\"train,original\")\n",
    "plt.plot(range(1,201),CVresult.iloc[:,2],c = \"orange\",label=\"test,original\")\n",
    "\n",
    "\n",
    "param_last = {\n",
    "    \"silent\":True,\n",
    "    \"obj\":\"reg:linear\",#确定xgb所用的损失函数\n",
    "    \"subsample\":1,\n",
    "    \"max_depth\":4,\n",
    "    \"eta\":0.05,\n",
    "    \"gamma\":20,\n",
    "    \"lambda\":3.5,\n",
    "    \"alpha\":0.2,\n",
    "    \"colsample_bytree\":0.4,\n",
    "    \"colsample_bylevel\":0.6,\n",
    "    \"colsample_bynode\":1,\n",
    "    \"nfold\":5,\n",
    "#     \"eval_metric\":\"rmse\"\n",
    "}\n",
    "\n",
    "\n",
    "param_now = {\n",
    "    \"silent\":True,\n",
    "    \"obj\":\"reg:linear\",#确定xgb所用的损失函数\n",
    "    \"subsample\":1,\n",
    "    \"max_depth\":2,\n",
    "    \"eta\":0.05,\n",
    "    \"gamma\":0,\n",
    "    \"lambda\":1,\n",
    "    \"alpha\":0,\n",
    "    \"colsample_bytree\":1,\n",
    "    \"colsample_bylevel\":0.4,\n",
    "    \"colsample_bynode\":1,\n",
    "    \"nfold\":5,\n",
    "#     \"eval_metric\":\"rmse\"\n",
    "}\n",
    "\n",
    "CVresult_last = xgboost.cv(param_last,dfull,num_round)\n",
    "CVresult_now = xgboost.cv(param_now,dfull,num_round)\n",
    "\n",
    "plt.plot(range(1,201),CVresult_last.iloc[:,0],label=\"train,last\")\n",
    "plt.plot(range(1,201),CVresult_last.iloc[:,2],label=\"test,last\")\n",
    "\n",
    "plt.plot(range(1,201),CVresult_now.iloc[:,0],\"o-\",label=\"train,now\")\n",
    "plt.plot(range(1,201),CVresult_now.iloc[:,2],\"o-\",label=\"test,now\")\n",
    "\n",
    "\n",
    "plt.xlabel(\"n_estimators\")\n",
    "plt.ylabel(\"rmse\")\n",
    "plt.legend(fontsize=\"xx-large\")#让图例的字体最大\n",
    "plt.show()"
   ]
  },
  {
   "cell_type": "markdown",
   "metadata": {},
   "source": [
    "调整中的问题：  \n",
    "1. 一个个参数调整太麻烦，可不可以使用网格搜索？  \n",
    "    建议先使用xgboost.cv来确认参数的范围，否则很可能花很长时间做了无用功。  \n",
    "    并且，在使用网格搜索的时候，最好不要一次性将所有的参数都放入进行搜索，最多一次两三个。  \n",
    "    一些互相影响的参数需要放在一起使用，比如学习率eta和n_estimators \n",
    "    \n",
    "2. 调参的顺序会影响调参结果吗？  \n",
    "  会影响  \n",
    "  在现实中，我们会优先调整那些对模型影响巨大的参数。  \n",
    "  建议的剪枝调参顺序为：  \n",
    "  * n_estimators与eta共同调节  \n",
    "  * gamma或者max_depth\n",
    "  * 采样和抽样参数（纵向抽样影响更大）\n",
    "  * 正则化的两个参数"
   ]
  },
  {
   "cell_type": "markdown",
   "metadata": {},
   "source": [
    "## 分类案例：XGB中样本不均衡问题\n",
    "通过调节scale_pos_weight参数来进行  \n",
    "通常scale_pos_weight=负样本数之和/正样本数之和"
   ]
  },
  {
   "cell_type": "code",
   "execution_count": 19,
   "metadata": {},
   "outputs": [],
   "source": [
    "#创建样本不均衡的数据集\n",
    "from sklearn.datasets import make_blobs\n",
    "from sklearn.model_selection import train_test_split\n",
    "from sklearn.metrics import confusion_matrix,recall_score,roc_auc_score\n",
    "\n",
    "class_1 = 500 #类别1有500个样本\n",
    "class_2 = 50 #类别2有50个样本\n",
    "centers = [[0,0],[2,2]] #设定两个类别的中心\n",
    "clusters_std = [1.5,0.5] #设定两个类别的方差，通常来说，样本量比较大的类别会更加松散\n",
    "\n",
    "X,y = make_blobs(\n",
    "    n_samples=[class_1,class_2],\n",
    "    centers = centers,\n",
    "    cluster_std = clusters_std,\n",
    "    random_state = 0,\n",
    "    shuffle = False\n",
    ")\n",
    "\n",
    "X_train,X_test,y_train,y_test = train_test_split(X,y,test_size=0.3,random_state=420)"
   ]
  },
  {
   "cell_type": "markdown",
   "metadata": {},
   "source": [
    "**在数据集上建模：sklearn模式**"
   ]
  },
  {
   "cell_type": "code",
   "execution_count": 20,
   "metadata": {},
   "outputs": [
    {
     "data": {
      "text/plain": [
       "0.9272727272727272"
      ]
     },
     "execution_count": 20,
     "metadata": {},
     "output_type": "execute_result"
    }
   ],
   "source": [
    "clf = xgboost.XGBClassifier()\n",
    "clf.fit(X_train,y_train)\n",
    "predict = clf.predict(X_test)\n",
    "clf.score(X_test,y_test)"
   ]
  },
  {
   "cell_type": "code",
   "execution_count": 21,
   "metadata": {},
   "outputs": [
    {
     "data": {
      "text/plain": [
       "array([[  9,   4],\n",
       "       [  8, 144]])"
      ]
     },
     "execution_count": 21,
     "metadata": {},
     "output_type": "execute_result"
    }
   ],
   "source": [
    "confusion_matrix(y_test,predict,labels=[1,0])"
   ]
  },
  {
   "cell_type": "code",
   "execution_count": 22,
   "metadata": {},
   "outputs": [
    {
     "data": {
      "text/plain": [
       "0.6923076923076923"
      ]
     },
     "execution_count": 22,
     "metadata": {},
     "output_type": "execute_result"
    }
   ],
   "source": [
    "recall_score(y_test,predict)"
   ]
  },
  {
   "cell_type": "code",
   "execution_count": 23,
   "metadata": {},
   "outputs": [
    {
     "data": {
      "text/plain": [
       "0.819838056680162"
      ]
     },
     "execution_count": 23,
     "metadata": {},
     "output_type": "execute_result"
    }
   ],
   "source": [
    "roc_auc_score(y_test,predict)"
   ]
  },
  {
   "cell_type": "code",
   "execution_count": 24,
   "metadata": {},
   "outputs": [
    {
     "data": {
      "text/plain": [
       "0.9515151515151515"
      ]
     },
     "execution_count": 24,
     "metadata": {},
     "output_type": "execute_result"
    }
   ],
   "source": [
    "## 调整scale_pos_weight参数\n",
    "clf_ = xgboost.XGBClassifier(scale_pos_weight=10).fit(X_train,y_train)\n",
    "predict_ = clf_.predict(X_test)\n",
    "clf_.score(X_test,y_test)"
   ]
  },
  {
   "cell_type": "code",
   "execution_count": 25,
   "metadata": {},
   "outputs": [
    {
     "data": {
      "text/plain": [
       "array([[ 13,   0],\n",
       "       [  8, 144]])"
      ]
     },
     "execution_count": 25,
     "metadata": {},
     "output_type": "execute_result"
    }
   ],
   "source": [
    "confusion_matrix(y_test,predict_,labels=[1,0])"
   ]
  },
  {
   "cell_type": "code",
   "execution_count": 26,
   "metadata": {},
   "outputs": [
    {
     "data": {
      "text/plain": [
       "1.0"
      ]
     },
     "execution_count": 26,
     "metadata": {},
     "output_type": "execute_result"
    }
   ],
   "source": [
    "recall_score(y_test,predict_)"
   ]
  },
  {
   "cell_type": "code",
   "execution_count": 27,
   "metadata": {},
   "outputs": [
    {
     "data": {
      "text/plain": [
       "0.9736842105263158"
      ]
     },
     "execution_count": 27,
     "metadata": {},
     "output_type": "execute_result"
    }
   ],
   "source": [
    "roc_auc_score(y_test,predict_)"
   ]
  },
  {
   "cell_type": "markdown",
   "metadata": {},
   "source": [
    "调整scale_pos_weight后，模型的准确率有了很大提高"
   ]
  },
  {
   "cell_type": "markdown",
   "metadata": {},
   "source": [
    "**在数据集上建模：xgboost模式**"
   ]
  },
  {
   "cell_type": "code",
   "execution_count": 29,
   "metadata": {},
   "outputs": [],
   "source": [
    "dtrain = xgboost.DMatrix(X_train,y_train)\n",
    "dtest = xgboost.DMatrix(X_test)\n",
    "\n",
    "param={\n",
    "    \"slient\":True,\n",
    "    \"objective\":\"binary:logistic\",\n",
    "    \"eta\":0.1,\n",
    "    \"scale_pos_weight\":1\n",
    "}\n",
    "num_round=100\n",
    "\n",
    "bst = xgboost.train(param,dtrain,num_round)\n",
    "preds = bst.predict(dtest)"
   ]
  },
  {
   "cell_type": "code",
   "execution_count": 30,
   "metadata": {},
   "outputs": [
    {
     "data": {
      "text/plain": [
       "array([0.00110357, 0.00761518, 0.00110357, 0.00110357, 0.93531454],\n",
       "      dtype=float32)"
      ]
     },
     "execution_count": 30,
     "metadata": {},
     "output_type": "execute_result"
    }
   ],
   "source": [
    "preds[:5]"
   ]
  },
  {
   "cell_type": "markdown",
   "metadata": {},
   "source": [
    "返回的是预测概率，需要改成类别"
   ]
  },
  {
   "cell_type": "code",
   "execution_count": 31,
   "metadata": {},
   "outputs": [],
   "source": [
    "preds[preds > 0.5] = 1\n",
    "preds[preds != 1] = 0"
   ]
  },
  {
   "cell_type": "code",
   "execution_count": 32,
   "metadata": {},
   "outputs": [
    {
     "data": {
      "text/plain": [
       "0.9272727272727272"
      ]
     },
     "execution_count": 32,
     "metadata": {},
     "output_type": "execute_result"
    }
   ],
   "source": [
    "from sklearn.metrics import accuracy_score\n",
    "accuracy_score(y_test,preds)"
   ]
  },
  {
   "cell_type": "markdown",
   "metadata": {},
   "source": [
    "修改scale_pos_weight"
   ]
  },
  {
   "cell_type": "code",
   "execution_count": 33,
   "metadata": {},
   "outputs": [
    {
     "data": {
      "text/plain": [
       "0.9515151515151515"
      ]
     },
     "execution_count": 33,
     "metadata": {},
     "output_type": "execute_result"
    }
   ],
   "source": [
    "param={\n",
    "    \"slient\":True,\n",
    "    \"objective\":\"binary:logistic\",\n",
    "    \"eta\":0.1,\n",
    "    \"scale_pos_weight\":10\n",
    "}\n",
    "num_round=100\n",
    "\n",
    "bst = xgboost.train(param,dtrain,num_round)\n",
    "preds = bst.predict(dtest)\n",
    "\n",
    "preds[preds > 0.5] = 1\n",
    "preds[preds != 1] = 0\n",
    "\n",
    "accuracy_score(y_test,preds)"
   ]
  },
  {
   "cell_type": "markdown",
   "metadata": {},
   "source": [
    "也可以通过调整不同的阈值来进行调整"
   ]
  }
 ],
 "metadata": {
  "kernelspec": {
   "display_name": "Python 3",
   "language": "python",
   "name": "python3"
  },
  "language_info": {
   "codemirror_mode": {
    "name": "ipython",
    "version": 3
   },
   "file_extension": ".py",
   "mimetype": "text/x-python",
   "name": "python",
   "nbconvert_exporter": "python",
   "pygments_lexer": "ipython3",
   "version": "3.7.0"
  }
 },
 "nbformat": 4,
 "nbformat_minor": 2
}
