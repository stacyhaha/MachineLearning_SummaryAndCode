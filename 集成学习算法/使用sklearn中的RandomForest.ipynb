{
 "cells": [
  {
   "cell_type": "markdown",
   "metadata": {},
   "source": [
    "# 使用sklearn中的RandomForest和sklearn中的Extra_trees"
   ]
  },
  {
   "cell_type": "markdown",
   "metadata": {},
   "source": [
    "## 目录\n",
    "* 随机森林与Extra_Trees的简要介绍\n",
    "* 随机森林中的参数\n",
    "* 构建随机森林分类器\n",
    "    * 使用score(X_test,y_test)评估性能\n",
    "    * 使用.oob_score_评估性能\n",
    "    * 使用cross_val_score(reg,X,y，cv=10)评估性能\n",
    "* 随机森林中的重要属性\n",
    "* 随机森林中的重要方法\n",
    "* 构建随机森林回归器\n",
    "* 构建Extra_Trees"
   ]
  },
  {
   "cell_type": "markdown",
   "metadata": {},
   "source": [
    "## 随机森林与Extra_Trees的简要介绍\n",
    "随机森林：Bagging+DecisionTree  \n",
    "Extra_Trees:Bagging+DecisionTree\n",
    "\n",
    "    \n",
    "    \n",
    "**对比随机森林和Extra_Trees**  \n",
    "随机森林：决策树在节点划分上，在随机特征子集上寻找最优划分特征   \n",
    "    * 传统的随机森林是利用袋装法的规则，平均或少数服从多数来决定集成的结果，\n",
    "    而sklearn中的随机森林是平均每个样本对应的predict_proba返回的概率，得到一个平均概率，从而决定测试样本的分类。\n",
    "\n",
    "Extra_Tree：决策树在节点划分上，使用随机的特征和随机的阈值。  \n",
    "    \n",
    "    优势：\n",
    "    * 提供额外的随机性,抑制过拟合\n",
    "    * 训练速度更快\n",
    "    劣势\n",
    "    * 增大了bias"
   ]
  },
  {
   "cell_type": "markdown",
   "metadata": {},
   "source": [
    "## 随机森林中的参数\n",
    "\n",
    "|参数名称|集成的弱评估器|集成算法本身|应用中的其他过程|影响程度|含义|\n",
    "|:--|:--|:--|:--|:--|:--|\n",
    "|criterion| √ |-|-|看具体情况|不纯度的衡量指标<br>默认为\"gini\"基尼系数<br>\"entropy\"使用信息增益|\n",
    "|max_depth|√ |-|-|★★★|-|\n",
    "|min_samples_leaf|√|-|-|★★|-|\n",
    "|min_samples_split|√|-|-|★★|-|\n",
    "|max_features|√|-|-|★|限制分枝时考虑的特征个数|\n",
    "|min_impurity_decrease|√|-|-|-|限制信息增益的大小，信息增益小于设定数值的分枝不会发生|\n",
    "|n_estimators|-|√|-|★★★★|-|\n",
    "|oob_score|-|-|√|-|布尔值<br>默认为False<br>在建树时，是否使用袋外样本来预测模型的泛化精确性|"
   ]
  },
  {
   "cell_type": "markdown",
   "metadata": {},
   "source": [
    "## 构建随机森林\n",
    "使用红酒数据集"
   ]
  },
  {
   "cell_type": "code",
   "execution_count": 1,
   "metadata": {},
   "outputs": [],
   "source": [
    "from sklearn.datasets import load_wine\n",
    "from sklearn.model_selection import train_test_split\n",
    "wine = load_wine()\n",
    "X = wine.data\n",
    "y = wine.target\n",
    "X_train,X_test,y_train,y_test = train_test_split(X,y)"
   ]
  },
  {
   "cell_type": "code",
   "execution_count": 2,
   "metadata": {},
   "outputs": [
    {
     "name": "stderr",
     "output_type": "stream",
     "text": [
      "/Users/zhongpingszp/anaconda3/lib/python3.7/site-packages/sklearn/ensemble/weight_boosting.py:29: DeprecationWarning: numpy.core.umath_tests is an internal NumPy module and should not be imported. It will be removed in a future NumPy release.\n",
      "  from numpy.core.umath_tests import inner1d\n"
     ]
    },
    {
     "data": {
      "text/plain": [
       "RandomForestClassifier(bootstrap=True, class_weight=None, criterion='gini',\n",
       "            max_depth=None, max_features='auto', max_leaf_nodes=None,\n",
       "            min_impurity_decrease=0.0, min_impurity_split=None,\n",
       "            min_samples_leaf=1, min_samples_split=2,\n",
       "            min_weight_fraction_leaf=0.0, n_estimators=50, n_jobs=1,\n",
       "            oob_score=False, random_state=None, verbose=0,\n",
       "            warm_start=False)"
      ]
     },
     "execution_count": 2,
     "metadata": {},
     "output_type": "execute_result"
    }
   ],
   "source": [
    "from sklearn.ensemble import RandomForestClassifier\n",
    "clf = RandomForestClassifier(\n",
    "    n_estimators = 50\n",
    ")\n",
    "clf.fit(X_train,y_train)"
   ]
  },
  {
   "cell_type": "markdown",
   "metadata": {},
   "source": [
    "**使用X_test,y_test来评估随机森林的准确率**"
   ]
  },
  {
   "cell_type": "code",
   "execution_count": 3,
   "metadata": {},
   "outputs": [
    {
     "data": {
      "text/plain": [
       "0.9777777777777777"
      ]
     },
     "execution_count": 3,
     "metadata": {},
     "output_type": "execute_result"
    }
   ],
   "source": [
    "clf.score(X_test,y_test)"
   ]
  },
  {
   "cell_type": "markdown",
   "metadata": {},
   "source": [
    "**使用交叉验证来评估随机森林的准确率**  \n",
    "交叉验证：是数据集划分为n份，依次取每一份做测试集，每n-1份做训练集，多次训练模型以观测模型稳定性的方法"
   ]
  },
  {
   "cell_type": "code",
   "execution_count": 4,
   "metadata": {},
   "outputs": [
    {
     "data": {
      "text/plain": [
       "array([1.        , 0.94444444, 1.        , 0.94444444, 1.        ,\n",
       "       1.        , 1.        , 1.        , 1.        , 1.        ])"
      ]
     },
     "execution_count": 4,
     "metadata": {},
     "output_type": "execute_result"
    }
   ],
   "source": [
    "from sklearn.model_selection import cross_val_score\n",
    "cross_val_score(clf,\n",
    "                X,#在进行交叉验证时，不再需要使用划分好的数据集\n",
    "                y,\n",
    "                cv=10\n",
    "               )"
   ]
  },
  {
   "cell_type": "code",
   "execution_count": 5,
   "metadata": {},
   "outputs": [
    {
     "data": {
      "text/plain": [
       "0.9669590643274854"
      ]
     },
     "execution_count": 5,
     "metadata": {},
     "output_type": "execute_result"
    }
   ],
   "source": [
    "cross_val_score(clf,X,y,cv=10).mean()"
   ]
  },
  {
   "cell_type": "markdown",
   "metadata": {},
   "source": [
    "**使用袋外数据集来评估随机森林的准确率**  \n",
    "注意：当样本量或者n_estimators比较小的时候，很可能没有数据掉落在袋外，自然就无法使用obb(out of bag)数据来测试啦  \n",
    "实例化时：oob_score = True  \n",
    "查看再袋外数据上测试的结果：oob_score_"
   ]
  },
  {
   "cell_type": "code",
   "execution_count": 6,
   "metadata": {},
   "outputs": [
    {
     "data": {
      "text/plain": [
       "0.9831460674157303"
      ]
     },
     "execution_count": 6,
     "metadata": {},
     "output_type": "execute_result"
    }
   ],
   "source": [
    "clf = RandomForestClassifier(\n",
    "    n_estimators=100,\n",
    "    oob_score=True\n",
    ")\n",
    "clf.fit(X,y)#直接用全部数据集\n",
    "clf.oob_score_"
   ]
  },
  {
   "cell_type": "markdown",
   "metadata": {},
   "source": [
    "## 随机森林中的重要属性\n",
    "|属性名|功能|\n",
    "|:--|:--|\n",
    "|.estimators_|查看子分类器|\n",
    "|.oob_score_|查看在袋外数据中的准确率<br>需要配合oob_score=True使用|\n",
    "|.feature_importances_|查看模型重要度<br>一般是这个特征在多次分枝中，产生的信息增益的总和，也被称为\"基尼重要性\"|"
   ]
  },
  {
   "cell_type": "code",
   "execution_count": 7,
   "metadata": {},
   "outputs": [
    {
     "data": {
      "text/plain": [
       "array([0.1233299 , 0.02794477, 0.01475516, 0.03196134, 0.02141247,\n",
       "       0.04346432, 0.16554113, 0.00943992, 0.02684508, 0.14844283,\n",
       "       0.08650001, 0.12023143, 0.18013166])"
      ]
     },
     "execution_count": 7,
     "metadata": {},
     "output_type": "execute_result"
    }
   ],
   "source": [
    "clf.feature_importances_"
   ]
  },
  {
   "cell_type": "code",
   "execution_count": 8,
   "metadata": {},
   "outputs": [
    {
     "data": {
      "text/plain": [
       "[('alcohol', 0.1233299027835681),\n",
       " ('malic_acid', 0.027944768891321203),\n",
       " ('ash', 0.01475516141605769),\n",
       " ('alcalinity_of_ash', 0.03196133967898154),\n",
       " ('magnesium', 0.021412471184389704),\n",
       " ('total_phenols', 0.043464317752416874),\n",
       " ('flavanoids', 0.1655411276495562),\n",
       " ('nonflavanoid_phenols', 0.009439919049083843),\n",
       " ('proanthocyanins', 0.02684507671810807),\n",
       " ('color_intensity', 0.148442825102984),\n",
       " ('hue', 0.08650000544297137),\n",
       " ('od280/od315_of_diluted_wines', 0.12023142668961773),\n",
       " ('proline', 0.18013165764094372)]"
      ]
     },
     "execution_count": 8,
     "metadata": {},
     "output_type": "execute_result"
    }
   ],
   "source": [
    "[*zip(wine.feature_names,clf.feature_importances_)]"
   ]
  },
  {
   "cell_type": "markdown",
   "metadata": {},
   "source": [
    "## 随机森林中的重要方法\n",
    "|方法名称|功能|\n",
    "|:--|:--|\n",
    "|apply|输入样本点，返回每个样本被分到的叶节点的索引|\n",
    "|fit||\n",
    "|predict||\n",
    "|score||\n",
    "|predict_proba|返回每个测试样本对应的被分到每一类标签的概率,有几个分类就返回几个概率值<br>如果是二分类问题，则predict_proba返回的数值大与0.5为1，小于0.5为0|"
   ]
  },
  {
   "cell_type": "markdown",
   "metadata": {},
   "source": [
    "## 构建随机森林回归器"
   ]
  },
  {
   "cell_type": "markdown",
   "metadata": {},
   "source": [
    "使用boston房价数据集"
   ]
  },
  {
   "cell_type": "code",
   "execution_count": 9,
   "metadata": {},
   "outputs": [
    {
     "data": {
      "text/plain": [
       "array([-10.79860471,  -5.15613575,  -4.88819343, -22.45832427,\n",
       "       -10.76124929, -19.748457  ,  -7.0229232 , -96.91487294,\n",
       "       -25.73007368, -15.22915182])"
      ]
     },
     "execution_count": 9,
     "metadata": {},
     "output_type": "execute_result"
    }
   ],
   "source": [
    "from sklearn.datasets import load_boston\n",
    "from sklearn.ensemble import RandomForestRegressor\n",
    "\n",
    "boston = load_boston()\n",
    "regressor = RandomForestRegressor(n_estimators = 100)\n",
    "cross_val_score(regressor,boston.data,boston.target,cv=10,\n",
    "               scoring = \"neg_mean_squared_error\"#默认采用R2,若想采用MSE，修改scoring这个参数\n",
    "               )"
   ]
  },
  {
   "cell_type": "markdown",
   "metadata": {},
   "source": [
    "如果忘记了评测指标对应的参数的名，可以通过sklearn中metrics.SCORERS来查看"
   ]
  },
  {
   "cell_type": "code",
   "execution_count": 10,
   "metadata": {},
   "outputs": [
    {
     "data": {
      "text/plain": [
       "['accuracy',\n",
       " 'adjusted_mutual_info_score',\n",
       " 'adjusted_rand_score',\n",
       " 'average_precision',\n",
       " 'completeness_score',\n",
       " 'explained_variance',\n",
       " 'f1',\n",
       " 'f1_macro',\n",
       " 'f1_micro',\n",
       " 'f1_samples',\n",
       " 'f1_weighted',\n",
       " 'fowlkes_mallows_score',\n",
       " 'homogeneity_score',\n",
       " 'log_loss',\n",
       " 'mean_absolute_error',\n",
       " 'mean_squared_error',\n",
       " 'median_absolute_error',\n",
       " 'mutual_info_score',\n",
       " 'neg_log_loss',\n",
       " 'neg_mean_absolute_error',\n",
       " 'neg_mean_squared_error',\n",
       " 'neg_mean_squared_log_error',\n",
       " 'neg_median_absolute_error',\n",
       " 'normalized_mutual_info_score',\n",
       " 'precision',\n",
       " 'precision_macro',\n",
       " 'precision_micro',\n",
       " 'precision_samples',\n",
       " 'precision_weighted',\n",
       " 'r2',\n",
       " 'recall',\n",
       " 'recall_macro',\n",
       " 'recall_micro',\n",
       " 'recall_samples',\n",
       " 'recall_weighted',\n",
       " 'roc_auc',\n",
       " 'v_measure_score']"
      ]
     },
     "execution_count": 10,
     "metadata": {},
     "output_type": "execute_result"
    }
   ],
   "source": [
    "import sklearn\n",
    "sorted(sklearn.metrics.SCORERS.keys())"
   ]
  },
  {
   "cell_type": "markdown",
   "metadata": {},
   "source": [
    "## 构建Extra_Trees"
   ]
  },
  {
   "cell_type": "code",
   "execution_count": 11,
   "metadata": {},
   "outputs": [
    {
     "data": {
      "text/plain": [
       "ExtraTreesClassifier(bootstrap=True, class_weight=None, criterion='gini',\n",
       "           max_depth=None, max_features='auto', max_leaf_nodes=None,\n",
       "           min_impurity_decrease=0.0, min_impurity_split=None,\n",
       "           min_samples_leaf=1, min_samples_split=2,\n",
       "           min_weight_fraction_leaf=0.0, n_estimators=500, n_jobs=1,\n",
       "           oob_score=True, random_state=None, verbose=0, warm_start=False)"
      ]
     },
     "execution_count": 11,
     "metadata": {},
     "output_type": "execute_result"
    }
   ],
   "source": [
    "from sklearn.ensemble import ExtraTreesClassifier\n",
    "\n",
    "et_clf = ExtraTreesClassifier(n_estimators=500,bootstrap=True,oob_score=True)\n",
    "et_clf.fit(X,y)"
   ]
  },
  {
   "cell_type": "code",
   "execution_count": 12,
   "metadata": {},
   "outputs": [
    {
     "data": {
      "text/plain": [
       "0.9887640449438202"
      ]
     },
     "execution_count": 12,
     "metadata": {},
     "output_type": "execute_result"
    }
   ],
   "source": [
    "et_clf.oob_score_"
   ]
  }
 ],
 "metadata": {
  "kernelspec": {
   "display_name": "Python 3",
   "language": "python",
   "name": "python3"
  },
  "language_info": {
   "codemirror_mode": {
    "name": "ipython",
    "version": 3
   },
   "file_extension": ".py",
   "mimetype": "text/x-python",
   "name": "python",
   "nbconvert_exporter": "python",
   "pygments_lexer": "ipython3",
   "version": "3.7.4"
  }
 },
 "nbformat": 4,
 "nbformat_minor": 2
}
