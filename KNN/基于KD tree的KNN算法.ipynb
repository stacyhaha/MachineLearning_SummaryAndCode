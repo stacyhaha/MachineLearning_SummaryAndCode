{
 "cells": [
  {
   "cell_type": "markdown",
   "metadata": {},
   "source": [
    "# 基于KD tree的KNN算法"
   ]
  },
  {
   "cell_type": "markdown",
   "metadata": {},
   "source": [
    "对于kd tree的主要内容在于kd tree的**创建**和**搜索**\n",
    "\n",
    "创建树节点：  \n",
    "每个树节点存储一条数据样本，以哪个维度进行划分，左子树，右子树"
   ]
  },
  {
   "cell_type": "code",
   "execution_count": 3,
   "metadata": {},
   "outputs": [],
   "source": [
    "class Kdnode():\n",
    "    def __init__(self,content,dim,left,right):\n",
    "        self.content = content\n",
    "        self.dim = dim\n",
    "        self.left = left\n",
    "        self.right = right"
   ]
  },
  {
   "cell_type": "markdown",
   "metadata": {},
   "source": [
    "## kd tree的创建：\n",
    "1. 开始：对数据集以0维进行划分，并将0维上的位于中间的数据点存储为树的根结点  \n",
    "2. 递归：依此沿数据集的n维进行划分，将n维上位于中间的数据点存储为树的节点，直到无可以划分的数据点"
   ]
  },
  {
   "cell_type": "code",
   "execution_count": 155,
   "metadata": {},
   "outputs": [],
   "source": [
    "import numpy as np\n",
    "class Kdtree():\n",
    "    def __init__(self,data):\n",
    "        k=len(data[0])\n",
    "        \n",
    "        def CreateNode(split,data_set):#在哪个维度划分数据集\n",
    "            \n",
    "            if len(data_set)==0:#如果数据集为空，则返回None\n",
    "                return None\n",
    "            \n",
    "            index = np.argsort(data_set[:,split])\n",
    "            split_pos = (len(data_set)-1)//2#主要是为了和知乎上的一篇文章相对应\n",
    "            split_next = (split+1)%k\n",
    "            left_data = data_set[index[:split_pos]]\n",
    "            right_data = data_set[index[split_pos+1:]]\n",
    "            return Kdnode(data_set[index[split_pos]],split,CreateNode(split_next,left_data),CreateNode(split_next,right_data))\n",
    "        \n",
    "        self.root = CreateNode(0,data)"
   ]
  },
  {
   "cell_type": "markdown",
   "metadata": {},
   "source": [
    "## 验证创建的kdtree()"
   ]
  },
  {
   "cell_type": "code",
   "execution_count": 213,
   "metadata": {},
   "outputs": [],
   "source": [
    "data = np.array([\n",
    "    [6.27,5.5],\n",
    "    [1.24,-2.86],\n",
    "    [17.05,-12.79],\n",
    "    [-6.88,-5.4],\n",
    "    [-2.96,-0.5],\n",
    "    [7.75,-22.68],\n",
    "    [10.8,-5.03],\n",
    "    [-4.6,-10.55],\n",
    "    [-4.96,12.61],\n",
    "    [1.75,12.26],\n",
    "    [15.31,-13.16],\n",
    "    [7.83,15.7],\n",
    "    [14.63,-0.35],\n",
    "                ])"
   ]
  },
  {
   "cell_type": "code",
   "execution_count": 214,
   "metadata": {},
   "outputs": [],
   "source": [
    "tree = Kdtree(data)"
   ]
  },
  {
   "cell_type": "code",
   "execution_count": 215,
   "metadata": {},
   "outputs": [],
   "source": [
    "#输出树，检验下结构有没有问题\n",
    "def protravel(tree):\n",
    "    if tree is None:\n",
    "        return\n",
    "    print(tree.content,tree.dim)\n",
    "    protravel(tree.left)\n",
    "    protravel(tree.right)"
   ]
  },
  {
   "cell_type": "code",
   "execution_count": 216,
   "metadata": {},
   "outputs": [
    {
     "name": "stdout",
     "output_type": "stream",
     "text": [
      "[6.27 5.5 ] 0\n",
      "[ 1.24 -2.86] 1\n",
      "[-6.88 -5.4 ] 0\n",
      "[ -4.6  -10.55] 1\n",
      "[-2.96 -0.5 ] 0\n",
      "[-4.96 12.61] 1\n",
      "[ 1.75 12.26] 1\n",
      "[ 17.05 -12.79] 1\n",
      "[  7.75 -22.68] 0\n",
      "[ 15.31 -13.16] 1\n",
      "[10.8  -5.03] 0\n",
      "[ 7.83 15.7 ] 1\n",
      "[14.63 -0.35] 1\n"
     ]
    }
   ],
   "source": [
    "protravel(tree.root)"
   ]
  },
  {
   "cell_type": "markdown",
   "metadata": {},
   "source": [
    "![](kdtree.jpg)"
   ]
  },
  {
   "cell_type": "markdown",
   "metadata": {},
   "source": [
    "木有问题～"
   ]
  },
  {
   "cell_type": "markdown",
   "metadata": {},
   "source": [
    "## 在kdtree中搜索，距离target最近的k个样本"
   ]
  },
  {
   "cell_type": "code",
   "execution_count": 227,
   "metadata": {},
   "outputs": [],
   "source": [
    "from collections import namedtuple\n",
    "res = namedtuple('res','n max_index max_dist nearest')\n",
    "k=2\n",
    "res.n=0\n",
    "res.max_index=-1\n",
    "res.max_dist=float(\"inf\")\n",
    "res.nearest = np.empty((k,len(data[0])))"
   ]
  },
  {
   "cell_type": "code",
   "execution_count": 230,
   "metadata": {},
   "outputs": [],
   "source": [
    "def search(kd_node,target):\n",
    "    if kd_node is None:\n",
    "        return\n",
    "    s = kd_node.dim\n",
    "    pivot = kd_node.content\n",
    "    if target[s] <= pivot[s]:\n",
    "        nearest_node = kd_node.left\n",
    "        further_node = kd_node.right\n",
    "    else:\n",
    "        nearest_node = kd_node.right\n",
    "        further_node = kd_node.left\n",
    "    \n",
    "    search(nearest_node,target)\n",
    "    \n",
    "    if res.n<k:\n",
    "        res.nearest[res.n] = kd_node.content\n",
    "        res.n+=1\n",
    "    elif res.n == k:\n",
    "        dist = np.linalg.norm(res.nearest - target,axis=1)\n",
    "        res.max_index = np.argmax(dist)\n",
    "        res.max_dist = np.max(dist)\n",
    "\n",
    "        if np.linalg.norm(kd_node.content - target) < res.max_dist:\n",
    "            res.nearest[res.max_index] = kd_node.content\n",
    "    \n",
    "    dist = np.linalg.norm(res.nearest - target,axis=1)\n",
    "    res.max_index = np.argmax(dist)\n",
    "    res.max_dist = np.max(dist)\n",
    "    if abs(kd_node.content[kd_node.dim]-target[kd_node.dim]) < res.max_dist:\n",
    "        search(further_node,target)"
   ]
  },
  {
   "cell_type": "code",
   "execution_count": 231,
   "metadata": {},
   "outputs": [],
   "source": [
    "search(tree.root,np.array([-1,-5]))"
   ]
  },
  {
   "cell_type": "markdown",
   "metadata": {},
   "source": [
    "## 建立基于kd-tree的knn算法"
   ]
  },
  {
   "cell_type": "code",
   "execution_count": 49,
   "metadata": {},
   "outputs": [],
   "source": [
    "import numpy as np\n",
    "from collections import namedtuple\n",
    "from collections import Counter\n",
    "class Kdnode():\n",
    "    def __init__(self,label,content,dim,left,right):\n",
    "        self.content = content\n",
    "        self.dim = dim\n",
    "        self.left = left\n",
    "        self.right = right\n",
    "        self.label = label #所属的标签\n",
    "        \n",
    "        \n",
    "class Kdtree():\n",
    "    def __init__(self,data,y_label):\n",
    "        k=len(data[0])\n",
    "        \n",
    "        def CreateNode(split,data_set,y_label):#在哪个维度划分数据集\n",
    "            \n",
    "            if len(data_set)==0:#如果数据集为空，则返回None\n",
    "                return None\n",
    "            \n",
    "            index = np.argsort(data_set[:,split])\n",
    "            split_pos = (len(data_set)-1)//2#主要是为了和知乎上的一篇文章相对应\n",
    "            split_next = (split+1)%k\n",
    "            left_data = data_set[index[:split_pos]]\n",
    "            left_label = y_label[index[:split_pos]]\n",
    "            \n",
    "            right_data = data_set[index[split_pos+1:]]\n",
    "            right_label = y_label[index[split_pos+1:]]\n",
    "            return Kdnode(y_label[split_pos],data_set[index[split_pos]],split,CreateNode(split_next,left_data,left_label),CreateNode(split_next,right_data,right_label))\n",
    "        \n",
    "        self.root = CreateNode(0,data,y_label)\n",
    "    \n",
    "    def _search(self,kd_node,target,k):\n",
    "        if kd_node is None:\n",
    "            return\n",
    "        s = kd_node.dim\n",
    "        pivot = kd_node.content\n",
    "        if target[s] <= pivot[s]:\n",
    "            nearest_node = kd_node.left\n",
    "            further_node = kd_node.right\n",
    "        else:\n",
    "            nearest_node = kd_node.right\n",
    "            further_node = kd_node.left\n",
    "\n",
    "        self._search(nearest_node,target,k)\n",
    "\n",
    "        if res.n<k:\n",
    "            res.nearest[res.n] = kd_node.content\n",
    "            res.label[res.n] = kd_node.label\n",
    "            res.n+=1\n",
    "\n",
    "        elif res.n == k:\n",
    "            dist = np.linalg.norm(res.nearest - target,axis=1)\n",
    "            res.max_index = np.argmax(dist)\n",
    "            res.max_dist = np.max(dist)\n",
    "\n",
    "            if np.linalg.norm(kd_node.content - target) < res.max_dist:\n",
    "                res.nearest[res.max_index] = kd_node.content\n",
    "                res.label[res.max_index] = kd_node.label\n",
    "\n",
    "        dist = np.linalg.norm(res.nearest - target,axis=1)\n",
    "        res.max_index = np.argmax(dist)\n",
    "        res.max_dist = np.max(dist)\n",
    "\n",
    "        if abs(kd_node.content[kd_node.dim]-target[kd_node.dim]) < res.max_dist:\n",
    "            self._search(further_node,target,k)\n",
    "    \n",
    "    def search(self,kd_node,target,k):\n",
    "        global res\n",
    "        res = namedtuple('res','n max_index max_dist nearest label')\n",
    "        res.n=0\n",
    "        res.nearest = np.empty((k,len(target)))\n",
    "        res.label=np.empty(k)\n",
    "        self._search(kd_node,target,k)\n",
    "        return res\n",
    "    \n",
    "    \n",
    "\n",
    "class KNN_kdtree:\n",
    "    \n",
    "    def __init__(self,k=3,p=2):\n",
    "        \"\"\"初始化KNN\"\"\"\n",
    "        self.k = k\n",
    "        self.p = p\n",
    "        self.X_train = None\n",
    "        self.y_train = None\n",
    "    \n",
    "    def fit(self,X_train,y_train):\n",
    "        \"\"\"根据训练数据 训练KNN分类器\"\"\"\n",
    "        self.X_train = X_train\n",
    "        self.y_train = y_train\n",
    "        self.tree = Kdtree(self.X_train,self.y_train)\n",
    "    \n",
    "    def predict(self,X_predict):\n",
    "        \"\"\"给定待预测的数据集X_predict，返回表示X_predict的结果向量\"\"\"\n",
    "        y_predict = [self._predict(x) for x in X_predict]\n",
    "        return np.array(y_predict)\n",
    "    \n",
    "    def _predict(self,x):\n",
    "        \"\"\"给定单个待预测数据，返回X的预测结果值\"\"\"\n",
    "        result = self.tree.search(self.tree.root, x ,self.k)\n",
    "        votes = Counter(result.label)\n",
    "        return votes.most_common(1)[0][0]        \n",
    "    \n",
    "    def __repr__(self):\n",
    "        return \"KNN_kdtree(k=%d,p=%d)\"%(self.k,self.p)"
   ]
  },
  {
   "cell_type": "code",
   "execution_count": 50,
   "metadata": {},
   "outputs": [],
   "source": [
    "from sklearn.datasets import load_digits\n",
    "from sklearn.model_selection import train_test_split\n",
    "data = load_digits()\n",
    "X_train,X_test,y_train,y_test = train_test_split(data.data,data.target,random_state=666)"
   ]
  },
  {
   "cell_type": "code",
   "execution_count": 51,
   "metadata": {},
   "outputs": [],
   "source": [
    "clf_kdtree = KNN_kdtree()\n",
    "clf_kdtree.fit(X_train,y_train)\n",
    "predict = clf_kdtree.predict(X_test)"
   ]
  },
  {
   "cell_type": "code",
   "execution_count": 45,
   "metadata": {},
   "outputs": [
    {
     "data": {
      "text/plain": [
       "0.9577777777777777"
      ]
     },
     "execution_count": 45,
     "metadata": {},
     "output_type": "execute_result"
    }
   ],
   "source": [
    "from sklearn.metrics import accuracy_score\n",
    "accuracy_score(predict,y_test)"
   ]
  },
  {
   "cell_type": "code",
   "execution_count": 48,
   "metadata": {},
   "outputs": [
    {
     "data": {
      "text/plain": [
       "0.9844444444444445"
      ]
     },
     "execution_count": 48,
     "metadata": {},
     "output_type": "execute_result"
    }
   ],
   "source": [
    "from sklearn.neighbors import KNeighborsClassifier\n",
    "clf_skl = KNeighborsClassifier(n_neighbors=3,algorithm='kd_tree')\n",
    "clf_skl.fit(X_train,y_train)\n",
    "clf_skl.score(X_test,y_test)"
   ]
  },
  {
   "cell_type": "markdown",
   "metadata": {},
   "source": [
    "基本实现了基于KD tree的KNN算法"
   ]
  }
 ],
 "metadata": {
  "kernelspec": {
   "display_name": "Python 3",
   "language": "python",
   "name": "python3"
  },
  "language_info": {
   "codemirror_mode": {
    "name": "ipython",
    "version": 3
   },
   "file_extension": ".py",
   "mimetype": "text/x-python",
   "name": "python",
   "nbconvert_exporter": "python",
   "pygments_lexer": "ipython3",
   "version": "3.7.3"
  }
 },
 "nbformat": 4,
 "nbformat_minor": 2
}
