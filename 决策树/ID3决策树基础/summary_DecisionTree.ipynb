{
 "cells": [
  {
   "cell_type": "markdown",
   "metadata": {
    "toc": true
   },
   "source": [
    "<h1>Table of Contents<span class=\"tocSkip\"></span></h1>\n",
    "<div class=\"toc\"><ul class=\"toc-item\"><li><span><a href=\"#决策树的概述\" data-toc-modified-id=\"决策树的概述-1\"><span class=\"toc-item-num\">1&nbsp;&nbsp;</span>决策树的概述</a></span><ul class=\"toc-item\"><li><span><a href=\"#什么是决策树\" data-toc-modified-id=\"什么是决策树-1.1\"><span class=\"toc-item-num\">1.1&nbsp;&nbsp;</span>什么是决策树</a></span><ul class=\"toc-item\"><li><span><a href=\"#数据集\" data-toc-modified-id=\"数据集-1.1.1\"><span class=\"toc-item-num\">1.1.1&nbsp;&nbsp;</span>数据集</a></span></li><li><span><a href=\"#选择不同的特征建树\" data-toc-modified-id=\"选择不同的特征建树-1.1.2\"><span class=\"toc-item-num\">1.1.2&nbsp;&nbsp;</span>选择不同的特征建树</a></span></li><li><span><a href=\"#特征选择\" data-toc-modified-id=\"特征选择-1.1.3\"><span class=\"toc-item-num\">1.1.3&nbsp;&nbsp;</span>特征选择</a></span><ul class=\"toc-item\"><li><span><a href=\"#信息熵\" data-toc-modified-id=\"信息熵-1.1.3.1\"><span class=\"toc-item-num\">1.1.3.1&nbsp;&nbsp;</span>信息熵</a></span></li><li><span><a href=\"#信息增益\" data-toc-modified-id=\"信息增益-1.1.3.2\"><span class=\"toc-item-num\">1.1.3.2&nbsp;&nbsp;</span>信息增益</a></span></li><li><span><a href=\"#数据集最佳切分函数\" data-toc-modified-id=\"数据集最佳切分函数-1.1.3.3\"><span class=\"toc-item-num\">1.1.3.3&nbsp;&nbsp;</span>数据集最佳切分函数</a></span></li><li><span><a href=\"#给定列切分数据集函数\" data-toc-modified-id=\"给定列切分数据集函数-1.1.3.4\"><span class=\"toc-item-num\">1.1.3.4&nbsp;&nbsp;</span>给定列切分数据集函数</a></span></li></ul></li></ul></li><li><span><a href=\"#递归建树\" data-toc-modified-id=\"递归建树-1.2\"><span class=\"toc-item-num\">1.2&nbsp;&nbsp;</span>递归建树</a></span><ul class=\"toc-item\"><li><span><a href=\"#编写代码构建决策树\" data-toc-modified-id=\"编写代码构建决策树-1.2.1\"><span class=\"toc-item-num\">1.2.1&nbsp;&nbsp;</span>编写代码构建决策树</a></span></li></ul></li><li><span><a href=\"#存储决策树\" data-toc-modified-id=\"存储决策树-1.3\"><span class=\"toc-item-num\">1.3&nbsp;&nbsp;</span>存储决策树</a></span></li><li><span><a href=\"#使用决策树分类\" data-toc-modified-id=\"使用决策树分类-1.4\"><span class=\"toc-item-num\">1.4&nbsp;&nbsp;</span>使用决策树分类</a></span><ul class=\"toc-item\"><li><span><a href=\"#对一组数据进行分类\" data-toc-modified-id=\"对一组数据进行分类-1.4.1\"><span class=\"toc-item-num\">1.4.1&nbsp;&nbsp;</span>对一组数据进行分类</a></span></li><li><span><a href=\"#对测试集进行预测，并返回预测后的结果\" data-toc-modified-id=\"对测试集进行预测，并返回预测后的结果-1.4.2\"><span class=\"toc-item-num\">1.4.2&nbsp;&nbsp;</span>对测试集进行预测，并返回预测后的结果</a></span></li></ul></li></ul></li><li><span><a href=\"#使用sklearn中的包完成决策树的预测\" data-toc-modified-id=\"使用sklearn中的包完成决策树的预测-2\"><span class=\"toc-item-num\">2&nbsp;&nbsp;</span>使用sklearn中的包完成决策树的预测</a></span></li></ul></div>"
   ]
  },
  {
   "cell_type": "markdown",
   "metadata": {},
   "source": [
    "# 决策树的概述"
   ]
  },
  {
   "cell_type": "markdown",
   "metadata": {},
   "source": [
    "## 什么是决策树\n",
    "一种对实例进行分类的树形结构，也可以看作是if-then规则的集合。if then规则集合又一个重要的性质：互斥且完备，即每一条路径都被一条规则所覆盖，而且只被这一条规则覆盖\n",
    "\n",
    "接下来以选宠物为例，进行决策树的构建\n",
    "<div align=center><img src=\"choicepet.png\" style=\"zoom:20%\">"
   ]
  },
  {
   "cell_type": "markdown",
   "metadata": {},
   "source": [
    "### 数据集"
   ]
  },
  {
   "cell_type": "code",
   "execution_count": 4,
   "metadata": {},
   "outputs": [
    {
     "data": {
      "text/html": [
       "<div>\n",
       "<style scoped>\n",
       "    .dataframe tbody tr th:only-of-type {\n",
       "        vertical-align: middle;\n",
       "    }\n",
       "\n",
       "    .dataframe tbody tr th {\n",
       "        vertical-align: top;\n",
       "    }\n",
       "\n",
       "    .dataframe thead th {\n",
       "        text-align: right;\n",
       "    }\n",
       "</style>\n",
       "<table border=\"1\" class=\"dataframe\">\n",
       "  <thead>\n",
       "    <tr style=\"text-align: right;\">\n",
       "      <th></th>\n",
       "      <th>if can raise other</th>\n",
       "      <th>how long will forget your pet</th>\n",
       "      <th>your pet’s position in your heart</th>\n",
       "      <th>the pet suitable to you</th>\n",
       "    </tr>\n",
       "  </thead>\n",
       "  <tbody>\n",
       "    <tr>\n",
       "      <th>0</th>\n",
       "      <td>NO</td>\n",
       "      <td>A WEEK</td>\n",
       "      <td>MY PLAYER</td>\n",
       "      <td>STONE</td>\n",
       "    </tr>\n",
       "    <tr>\n",
       "      <th>1</th>\n",
       "      <td>YES</td>\n",
       "      <td>A WEEK</td>\n",
       "      <td>MY PLAYER</td>\n",
       "      <td>STONE</td>\n",
       "    </tr>\n",
       "    <tr>\n",
       "      <th>2</th>\n",
       "      <td>YES</td>\n",
       "      <td>A WEEK</td>\n",
       "      <td>MY PLAYER</td>\n",
       "      <td>STONE</td>\n",
       "    </tr>\n",
       "    <tr>\n",
       "      <th>3</th>\n",
       "      <td>YES</td>\n",
       "      <td>A WEEK</td>\n",
       "      <td>MY MASTER</td>\n",
       "      <td>CAT</td>\n",
       "    </tr>\n",
       "    <tr>\n",
       "      <th>4</th>\n",
       "      <td>YES</td>\n",
       "      <td>A WEEK</td>\n",
       "      <td>MY PLAYER</td>\n",
       "      <td>STONE</td>\n",
       "    </tr>\n",
       "    <tr>\n",
       "      <th>5</th>\n",
       "      <td>YES</td>\n",
       "      <td>NEVER</td>\n",
       "      <td>MY MASTER</td>\n",
       "      <td>CAT</td>\n",
       "    </tr>\n",
       "    <tr>\n",
       "      <th>6</th>\n",
       "      <td>YES</td>\n",
       "      <td>NEVER</td>\n",
       "      <td>MY PLAYER</td>\n",
       "      <td>DOG</td>\n",
       "    </tr>\n",
       "  </tbody>\n",
       "</table>\n",
       "</div>"
      ],
      "text/plain": [
       "  if can raise other how long will forget your pet  \\\n",
       "0                 NO                        A WEEK   \n",
       "1                YES                        A WEEK   \n",
       "2                YES                        A WEEK   \n",
       "3                YES                        A WEEK   \n",
       "4                YES                        A WEEK   \n",
       "5                YES                         NEVER   \n",
       "6                YES                         NEVER   \n",
       "\n",
       "  your pet’s position in your heart the pet suitable to you  \n",
       "0                         MY PLAYER                   STONE  \n",
       "1                         MY PLAYER                   STONE  \n",
       "2                         MY PLAYER                   STONE  \n",
       "3                         MY MASTER                     CAT  \n",
       "4                         MY PLAYER                   STONE  \n",
       "5                         MY MASTER                     CAT  \n",
       "6                         MY PLAYER                     DOG  "
      ]
     },
     "execution_count": 4,
     "metadata": {},
     "output_type": "execute_result"
    }
   ],
   "source": [
    "import pandas as pd\n",
    "import numpy as np\n",
    "original_data = pd.read_csv('recommendpet.csv')\n",
    "original_data.drop(['id'],axis=1,inplace=True) \n",
    "original_data"
   ]
  },
  {
   "cell_type": "markdown",
   "metadata": {},
   "source": [
    "### 选择不同的特征建树\n",
    "\n",
    "如果我们仅仅是根据上面的数据来建树的画，可以建树很多种树\n",
    "<table>\n",
    "    <tr>\n",
    "        <td><center>if can raise  <td><center>how long <td><center>position\n",
    "    <tr>\n",
    "        <td><img src=\"oneway.png\" style='zoom:29%' ><td><img src=\"thirdway.png\"style = 'zoom:42%'><td><img src=\"p.png\" style='zoom:40%'>\n",
    "    </tr>\n",
    "</table>\n",
    "可以看出选择的特征的顺序不同，构建出来的树的复杂程度不同"
   ]
  },
  {
   "cell_type": "code",
   "execution_count": 17,
   "metadata": {},
   "outputs": [
    {
     "data": {
      "text/plain": [
       "'Digraph.gv.pdf'"
      ]
     },
     "execution_count": 17,
     "metadata": {},
     "output_type": "execute_result"
    }
   ],
   "source": [
    "#画图的代码留一下\n",
    "from graphviz import Digraph\n",
    "\n",
    "dot = Digraph(comment='the root node is if can raise other')\n",
    "dot.edge('position','Cat','MASTER')\n",
    "dot.edge('position','how long forget','PLAYER')\n",
    "dot.edge('how long forget','Dog','NEVER')\n",
    "dot.edge('how long forget','Stone','A WEEK')\n",
    "dot.view()\n",
    "#dot.render('oneway', view=True)"
   ]
  },
  {
   "cell_type": "markdown",
   "metadata": {},
   "source": [
    "### 特征选择\n",
    "特征选择目的在于选取出对训练数据有分类能力的特征，提高决策树的学习效率。如果利用一个特征进行分类的结果与随机分类没有很大区别，那么这个特征是没有分类能力的\n",
    "\n",
    "一般来说，随着划分的进行，我们希望决策树的分枝节点所包含的样本尽可能属于同一类别，也就是结点的纯度越来越高。（我的理解是，从这个结点中随机抽取一个样本，能很有把握判断这个样本属于哪个类别）\n",
    "\n",
    "<center><img src='pie.png' style='zoom:30%'>\n",
    "\n",
    "结点的样本分布很纯净：比如前两幅图，如果这个结点下的样本大体上都是属于同一个类别，那么随机从中抽取出一个样本，可以很有把握猜测出样本的类别\n",
    "\n",
    "\n",
    "结点的样本分布不纯：如图三所示，这个结点下的样本一半属于类别1，一般属于类别2，那么随机从中抽取出一个样本，也就无法很有把握判断出抽取样本的类别\n",
    "\n",
    "在特征选择时应用的标准有很多，常见的有GINI系数，增益率，entropy(信息熵)，选取不同的标准也就对应了不同的决策树的构建方法\n"
   ]
  },
  {
   "cell_type": "markdown",
   "metadata": {},
   "source": [
    "#### 信息熵\n",
    "熵表示随机变量不确定性的度量\n",
    "\n",
    "信息熵的计算公式\n",
    "\n",
    "$$Ent(D)=-\\sum\\limits_{i=1}^np(x_i)log_2p(x_i)$$\n",
    "n表示样本集合D中一共有n类样本\n",
    "\n",
    "比如在这个选宠物的栗子中\n",
    "<table>\n",
    "    <tr>\n",
    "        <td>cat<td>2\n",
    "    <tr>\n",
    "        <td>dog<td>1\n",
    "    <tr>\n",
    "        <td>stone<td>4\n",
    "</table>\n",
    "        \n",
    "我们来计算他的信息熵\n",
    "$$Ent(D)=-\\frac{2}{7}log_2(\\frac{2}{7})-\\frac{1}{7}log_2(\\frac{1}{7})--\\frac{4}{7}log_2(\\frac{4}{7})$$\n",
    "\n",
    "计算结果为1.3787834934861753"
   ]
  },
  {
   "cell_type": "markdown",
   "metadata": {},
   "source": [
    "看到B站中有一个理解信息熵的视频\n",
    "<https://www.bilibili.com/video/av41539594?t=209>"
   ]
  },
  {
   "cell_type": "markdown",
   "metadata": {},
   "source": [
    "##### 计算信息熵的python代码"
   ]
  },
  {
   "cell_type": "code",
   "execution_count": 6,
   "metadata": {},
   "outputs": [],
   "source": [
    "'''\n",
    "函数说明：计算信息熵\n",
    "参数：dataSet\n",
    "返回：信息熵\n",
    "modify:2019-05-17\n",
    "'''\n",
    "def calEnt(dataSet):\n",
    "    n = dataSet.shape[0]\n",
    "    p = dataSet.iloc[:,-1].value_counts()/n\n",
    "    Ent = (-p*np.log2(p)).sum()\n",
    "    return Ent"
   ]
  },
  {
   "cell_type": "code",
   "execution_count": 7,
   "metadata": {},
   "outputs": [
    {
     "data": {
      "text/plain": [
       "1.3787834934861753"
      ]
     },
     "execution_count": 7,
     "metadata": {},
     "output_type": "execute_result"
    }
   ],
   "source": [
    "#可以用刚才的计算结果来验证我们的函数\n",
    "calEnt(original_data)"
   ]
  },
  {
   "cell_type": "markdown",
   "metadata": {},
   "source": [
    "熵越高，信息的不纯度就越高，也就是混合的数据就越多"
   ]
  },
  {
   "cell_type": "markdown",
   "metadata": {},
   "source": [
    "#### 信息增益\n",
    "我的理解是，在确定了某个特征后，对确定类别的种类提供的信息\n",
    "\n",
    "所以信息增益的公式就为：\n",
    "$$Gain(D,sub\\_D)=Ent(D)-Ent(sub\\_D)$$\n",
    "\n",
    "对于子集的Ent的计算，以position为例\n",
    "<center><img src='example1.png' style='zoom:30%'>\n",
    "\n",
    "$$ \n",
    "\\begin{align}\n",
    "Ent(position)  &=  P_{player}Ent(position|player)+p_{master}Ent(position|master)\\\\\n",
    "&= \\frac{5}{7}Ent(SUBDATA1)+\\frac{2}{7}Ent(SUNDATA2)\n",
    "\\end{align}\n",
    "$$\n",
    "\n",
    "故如果选择postion作为结点的话，提供的信息增益是\n",
    "$$Gain(D,D\\_position)=Ent(D)-Ent(D\\_position)$$\n",
    "\n",
    "如果可以确定position的值的话，信息增益是0.8631205685666308\n"
   ]
  },
  {
   "cell_type": "markdown",
   "metadata": {},
   "source": [
    "#### 数据集最佳切分函数\n",
    "划分数据集最大的准则是选择最大的信息增益"
   ]
  },
  {
   "cell_type": "code",
   "execution_count": 8,
   "metadata": {},
   "outputs": [],
   "source": [
    "'''\n",
    "函数说明：让数据集根据某一特征值进行切分\n",
    "参数：dataSet\n",
    "返回：axis-数据集最佳切分列的索引\n",
    "'''\n",
    "def bestSplit(dataSet):\n",
    "    baseEnt = calEnt(dataSet)\n",
    "    m = dataSet.shape[0]\n",
    "    bestGain = 0\n",
    "    bestaxis = -1\n",
    "    for i in range(dataSet.shape[1]-1):\n",
    "        label = dataSet.iloc[:,i].value_counts().index #取出i特征下的类别\n",
    "        sub_ent = 0\n",
    "        for j in label:\n",
    "            subData = dataSet[dataSet.iloc[:,i] == j]\n",
    "            childEnt = calEnt(subData)\n",
    "            sub_ent += subData.shape[0]/m*childEnt\n",
    "        Gain = baseEnt - sub_ent\n",
    "       # print(f'the gain is {Gain} when feature is {dataSet.columns[i]}')\n",
    "        if Gain > bestGain:\n",
    "            bestGain = Gain\n",
    "            bestaxis = i\n",
    "    return i"
   ]
  },
  {
   "cell_type": "code",
   "execution_count": 9,
   "metadata": {},
   "outputs": [
    {
     "data": {
      "text/plain": [
       "2"
      ]
     },
     "execution_count": 9,
     "metadata": {},
     "output_type": "execute_result"
    }
   ],
   "source": [
    "axis = bestSplit(original_data)\n",
    "axis"
   ]
  },
  {
   "cell_type": "markdown",
   "metadata": {},
   "source": [
    "特征 postion 的信息增益和刚才手算的结果也是一致的，验证函数正确"
   ]
  },
  {
   "cell_type": "markdown",
   "metadata": {},
   "source": [
    "#### 给定列切分数据集函数\n",
    "\n",
    "以下图为例\n",
    "\n",
    "<img src=\"thirdway.png\" style='zoom:30%'>\n",
    "\n",
    "如果我们确定根节点是how long forget后，接下来会分成Never和a week两个分支，对这个两个分支分别建树\n",
    "\n",
    "比如在Never下选择下一个最佳的分类结点时，此时传入的数据集应是how long forget都是Never，同时，how long forget这个特征已经用掉，所以这个特征要被删除后的数据\n",
    "\n",
    "即数据集\n",
    "<center><img src='splitdata.png' style = 'zoom:50%'>"
   ]
  },
  {
   "cell_type": "code",
   "execution_count": 10,
   "metadata": {},
   "outputs": [],
   "source": [
    "'''\n",
    "函数说明：在给定列和标签后，对数据进行切分\n",
    "参数：\n",
    "    dataSet\n",
    "    axis-给定的列\n",
    "    label-给定的标签\n",
    "返回：\n",
    "    redata-切好后的数据\n",
    "'''\n",
    "def splitData(dataSet,axis,label):\n",
    "    feature = dataSet.columns[axis]\n",
    "    redata = dataSet[dataSet.iloc[:,axis] == label]\n",
    "    redata = redata.drop(feature,axis=1)\n",
    "    return redata"
   ]
  },
  {
   "cell_type": "code",
   "execution_count": 11,
   "metadata": {},
   "outputs": [
    {
     "data": {
      "text/html": [
       "<div>\n",
       "<style scoped>\n",
       "    .dataframe tbody tr th:only-of-type {\n",
       "        vertical-align: middle;\n",
       "    }\n",
       "\n",
       "    .dataframe tbody tr th {\n",
       "        vertical-align: top;\n",
       "    }\n",
       "\n",
       "    .dataframe thead th {\n",
       "        text-align: right;\n",
       "    }\n",
       "</style>\n",
       "<table border=\"1\" class=\"dataframe\">\n",
       "  <thead>\n",
       "    <tr style=\"text-align: right;\">\n",
       "      <th></th>\n",
       "      <th>if can raise other</th>\n",
       "      <th>your pet’s position in your heart</th>\n",
       "      <th>the pet suitable to you</th>\n",
       "    </tr>\n",
       "  </thead>\n",
       "  <tbody>\n",
       "    <tr>\n",
       "      <th>5</th>\n",
       "      <td>YES</td>\n",
       "      <td>MY MASTER</td>\n",
       "      <td>CAT</td>\n",
       "    </tr>\n",
       "    <tr>\n",
       "      <th>6</th>\n",
       "      <td>YES</td>\n",
       "      <td>MY PLAYER</td>\n",
       "      <td>DOG</td>\n",
       "    </tr>\n",
       "  </tbody>\n",
       "</table>\n",
       "</div>"
      ],
      "text/plain": [
       "  if can raise other your pet’s position in your heart the pet suitable to you\n",
       "5                YES                         MY MASTER                     CAT\n",
       "6                YES                         MY PLAYER                     DOG"
      ]
     },
     "execution_count": 11,
     "metadata": {},
     "output_type": "execute_result"
    }
   ],
   "source": [
    "a = splitData(original_data,1,'NEVER')\n",
    "a"
   ]
  },
  {
   "cell_type": "markdown",
   "metadata": {},
   "source": [
    "函数输出的结果和我们想要的数据是一样～开心"
   ]
  },
  {
   "cell_type": "markdown",
   "metadata": {},
   "source": [
    "## 递归建树\n",
    "构造决策树的算法很多，比如ID3，C4.5，CART，基于《机器学习实战》，我们先学习ID3\n",
    "\n",
    "关于建树所需要的自功能模块已经全部写好\n",
    "\n",
    "* def calEnt  \n",
    "* def bestSplit  \n",
    "* def splitData  \n",
    "\n",
    "工作原理：\n",
    "1. 基于原始数据集最好的属性值划分数据集\n",
    "2. 划分后将数据集传递到树的分支的下一个节点，在这个节点上，我们可以再次划分数据集\n",
    "3. 直到遍历完所有的特征列，或者每个分支下的所有实例都具有相同的分类。"
   ]
  },
  {
   "cell_type": "markdown",
   "metadata": {},
   "source": [
    "### 编写代码构建决策树"
   ]
  },
  {
   "cell_type": "code",
   "execution_count": 9,
   "metadata": {},
   "outputs": [
    {
     "data": {
      "text/plain": [
       "{'test': 'one'}"
      ]
     },
     "execution_count": 9,
     "metadata": {},
     "output_type": "execute_result"
    }
   ],
   "source": [
    "a={}\n",
    "type(a)\n",
    "a['test']='one'\n",
    "a"
   ]
  },
  {
   "cell_type": "code",
   "execution_count": 15,
   "metadata": {},
   "outputs": [],
   "source": [
    "'''\n",
    "函数说明：基于最大的信息增益切分数据集，递归构造决策树\n",
    "参数说明：dataSet\n",
    "返回：mytree-字典形式的树\n",
    "'''\n",
    "def createTree(dataSet):\n",
    "    if dataSet.shape[1]==1 or dataSet.iloc[:,-1].value_counts().index.shape[0]==1:\n",
    "        return dataSet.iloc[:,-1].value_counts().index[0]\n",
    "    bestfeature = bestSplit(dataSet)\n",
    "    featurename = dataSet.columns[bestfeature]\n",
    "    labellist = set(dataSet.iloc[:,bestfeature])\n",
    "    lis = {}\n",
    "    for label in labellist:\n",
    "        subData = splitData(dataSet,bestfeature,label)\n",
    "        lis[label] = createTree(subData)\n",
    "    mytree = {featurename:lis}\n",
    "    return mytree"
   ]
  },
  {
   "cell_type": "code",
   "execution_count": 16,
   "metadata": {},
   "outputs": [
    {
     "data": {
      "text/plain": [
       "{'your pet’s position in your heart': {'MY MASTER': 'CAT',\n",
       "  'MY PLAYER': {'how long will forget your pet': {'NEVER': 'DOG',\n",
       "    'A WEEK': 'STONE'}}}}"
      ]
     },
     "execution_count": 16,
     "metadata": {},
     "output_type": "execute_result"
    }
   ],
   "source": [
    "mytree = createTree(original_data)\n",
    "mytree"
   ]
  },
  {
   "cell_type": "markdown",
   "metadata": {},
   "source": [
    "## 存储决策树\n",
    "使用的是numpy里面的save()函数，它可以直接把字典形式的数据保存为.npy文件，调用时用load()函数即可"
   ]
  },
  {
   "cell_type": "code",
   "execution_count": 12,
   "metadata": {},
   "outputs": [],
   "source": [
    "#树的存储\n",
    "np.save('mytree.npy',mytree)"
   ]
  },
  {
   "cell_type": "code",
   "execution_count": 13,
   "metadata": {},
   "outputs": [
    {
     "data": {
      "text/plain": [
       "{'your pet’s position in your heart': {'MY MASTER': 'CAT',\n",
       "  'MY PLAYER': {'how long will forget your pet': {'NEVER': 'DOG',\n",
       "    'A WEEK': 'STONE'}}}}"
      ]
     },
     "execution_count": 13,
     "metadata": {},
     "output_type": "execute_result"
    }
   ],
   "source": [
    "#树的读取\n",
    "read_mytree = np.load('mytree.npy').item()\n",
    "read_mytree"
   ]
  },
  {
   "cell_type": "markdown",
   "metadata": {},
   "source": [
    "## 使用决策树分类\n",
    "### 对一组数据进行分类\n",
    "假设有一组测试数据"
   ]
  },
  {
   "cell_type": "code",
   "execution_count": 14,
   "metadata": {},
   "outputs": [
    {
     "data": {
      "text/plain": [
       "if can raise other                         YES\n",
       "how long will forget your pet            NEVER\n",
       "your pet’s position in your heart    MY PLAYER\n",
       "Name: 6, dtype: object"
      ]
     },
     "execution_count": 14,
     "metadata": {},
     "output_type": "execute_result"
    }
   ],
   "source": [
    "testData = original_data.iloc[6,:-1]\n",
    "testData"
   ]
  },
  {
   "cell_type": "code",
   "execution_count": 15,
   "metadata": {},
   "outputs": [],
   "source": [
    "'''\n",
    "函数说明：对一个测试样例进行分类\n",
    "参数说明：\n",
    "    inputTree-已经生成的决策树\n",
    "    labels:特征标签\n",
    "    testVec:测试数据列表，顺序对应原始数据集\n",
    "返回：\n",
    "    classLabel:分类结果\n",
    "'''\n",
    "def classify(inputTree,labels,testVec):\n",
    "    feature = next(iter(inputTree)) #获取树的第一个结点\n",
    "    secondDict = inputTree[feature]\n",
    "    index_feature=labels.index(feature)\n",
    "    f = testVec[index_feature]\n",
    "    for key in secondDict:\n",
    "        if f == key:\n",
    "            if type(secondDict[key]) == dict:\n",
    "                return classify(secondDict[key],labels,testVec)\n",
    "            else:\n",
    "                return secondDict[key]"
   ]
  },
  {
   "cell_type": "code",
   "execution_count": 16,
   "metadata": {
    "scrolled": true
   },
   "outputs": [
    {
     "data": {
      "text/plain": [
       "'DOG'"
      ]
     },
     "execution_count": 16,
     "metadata": {},
     "output_type": "execute_result"
    }
   ],
   "source": [
    "a = classify(mytree,list(original_data.columns),testData)\n",
    "a"
   ]
  },
  {
   "cell_type": "markdown",
   "metadata": {},
   "source": [
    "### 对测试集进行预测，并返回预测后的结果"
   ]
  },
  {
   "cell_type": "code",
   "execution_count": 17,
   "metadata": {},
   "outputs": [],
   "source": [
    "'''\n",
    "函数说明：对测试集进行预测，并返回预测后的结果\n",
    "参数说明：\n",
    "    train:训练集\n",
    "    test:测试集\n",
    "返回：\n",
    "    test:预测好分类的测试集\n",
    "'''\n",
    "def acc_classify(train,test):\n",
    "    tree = createTree(train)\n",
    "#     print(tree)\n",
    "    m = test.shape[0]\n",
    "    res = []\n",
    "    for i in range(m):\n",
    "        pre = classify(tree,list(train.columns),test.iloc[i,:])\n",
    "        res.append(pre)\n",
    "    test['predict'] = res\n",
    "    acc = (test.iloc[:,-1] == test.iloc[:,-2]).mean()\n",
    "    print(acc)\n",
    "    return test"
   ]
  },
  {
   "cell_type": "code",
   "execution_count": 18,
   "metadata": {},
   "outputs": [
    {
     "name": "stdout",
     "output_type": "stream",
     "text": [
      "1.0\n"
     ]
    },
    {
     "data": {
      "text/html": [
       "<div>\n",
       "<style scoped>\n",
       "    .dataframe tbody tr th:only-of-type {\n",
       "        vertical-align: middle;\n",
       "    }\n",
       "\n",
       "    .dataframe tbody tr th {\n",
       "        vertical-align: top;\n",
       "    }\n",
       "\n",
       "    .dataframe thead th {\n",
       "        text-align: right;\n",
       "    }\n",
       "</style>\n",
       "<table border=\"1\" class=\"dataframe\">\n",
       "  <thead>\n",
       "    <tr style=\"text-align: right;\">\n",
       "      <th></th>\n",
       "      <th>if can raise other</th>\n",
       "      <th>how long will forget your pet</th>\n",
       "      <th>your pet’s position in your heart</th>\n",
       "      <th>the pet suitable to you</th>\n",
       "      <th>predict</th>\n",
       "    </tr>\n",
       "  </thead>\n",
       "  <tbody>\n",
       "    <tr>\n",
       "      <th>0</th>\n",
       "      <td>NO</td>\n",
       "      <td>A WEEK</td>\n",
       "      <td>MY PLAYER</td>\n",
       "      <td>STONE</td>\n",
       "      <td>STONE</td>\n",
       "    </tr>\n",
       "    <tr>\n",
       "      <th>1</th>\n",
       "      <td>YES</td>\n",
       "      <td>A WEEK</td>\n",
       "      <td>MY PLAYER</td>\n",
       "      <td>STONE</td>\n",
       "      <td>STONE</td>\n",
       "    </tr>\n",
       "    <tr>\n",
       "      <th>2</th>\n",
       "      <td>YES</td>\n",
       "      <td>A WEEK</td>\n",
       "      <td>MY PLAYER</td>\n",
       "      <td>STONE</td>\n",
       "      <td>STONE</td>\n",
       "    </tr>\n",
       "    <tr>\n",
       "      <th>3</th>\n",
       "      <td>YES</td>\n",
       "      <td>A WEEK</td>\n",
       "      <td>MY MASTER</td>\n",
       "      <td>CAT</td>\n",
       "      <td>CAT</td>\n",
       "    </tr>\n",
       "    <tr>\n",
       "      <th>4</th>\n",
       "      <td>YES</td>\n",
       "      <td>A WEEK</td>\n",
       "      <td>MY PLAYER</td>\n",
       "      <td>STONE</td>\n",
       "      <td>STONE</td>\n",
       "    </tr>\n",
       "    <tr>\n",
       "      <th>5</th>\n",
       "      <td>YES</td>\n",
       "      <td>NEVER</td>\n",
       "      <td>MY MASTER</td>\n",
       "      <td>CAT</td>\n",
       "      <td>CAT</td>\n",
       "    </tr>\n",
       "    <tr>\n",
       "      <th>6</th>\n",
       "      <td>YES</td>\n",
       "      <td>NEVER</td>\n",
       "      <td>MY PLAYER</td>\n",
       "      <td>DOG</td>\n",
       "      <td>DOG</td>\n",
       "    </tr>\n",
       "  </tbody>\n",
       "</table>\n",
       "</div>"
      ],
      "text/plain": [
       "  if can raise other how long will forget your pet  \\\n",
       "0                 NO                        A WEEK   \n",
       "1                YES                        A WEEK   \n",
       "2                YES                        A WEEK   \n",
       "3                YES                        A WEEK   \n",
       "4                YES                        A WEEK   \n",
       "5                YES                         NEVER   \n",
       "6                YES                         NEVER   \n",
       "\n",
       "  your pet’s position in your heart the pet suitable to you predict  \n",
       "0                         MY PLAYER                   STONE   STONE  \n",
       "1                         MY PLAYER                   STONE   STONE  \n",
       "2                         MY PLAYER                   STONE   STONE  \n",
       "3                         MY MASTER                     CAT     CAT  \n",
       "4                         MY PLAYER                   STONE   STONE  \n",
       "5                         MY MASTER                     CAT     CAT  \n",
       "6                         MY PLAYER                     DOG     DOG  "
      ]
     },
     "execution_count": 18,
     "metadata": {},
     "output_type": "execute_result"
    }
   ],
   "source": [
    "train = original_data\n",
    "test = original_data.iloc[:,:]\n",
    "list(train.columns)\n",
    "acc_classify(train,test)"
   ]
  },
  {
   "cell_type": "markdown",
   "metadata": {},
   "source": [
    "# 使用sklearn中的包完成决策树的预测"
   ]
  },
  {
   "cell_type": "markdown",
   "metadata": {},
   "source": [
    "下个文档中再写～"
   ]
  }
 ],
 "metadata": {
  "kernelspec": {
   "display_name": "Python 3",
   "language": "python",
   "name": "python3"
  },
  "language_info": {
   "codemirror_mode": {
    "name": "ipython",
    "version": 3
   },
   "file_extension": ".py",
   "mimetype": "text/x-python",
   "name": "python",
   "nbconvert_exporter": "python",
   "pygments_lexer": "ipython3",
   "version": "3.7.3"
  },
  "toc": {
   "base_numbering": 1,
   "nav_menu": {},
   "number_sections": true,
   "sideBar": true,
   "skip_h1_title": false,
   "title_cell": "Table of Contents",
   "title_sidebar": "Contents",
   "toc_cell": true,
   "toc_position": {
    "height": "448px",
    "left": "453px",
    "top": "200px",
    "width": "245px"
   },
   "toc_section_display": true,
   "toc_window_display": true
  }
 },
 "nbformat": 4,
 "nbformat_minor": 2
}
