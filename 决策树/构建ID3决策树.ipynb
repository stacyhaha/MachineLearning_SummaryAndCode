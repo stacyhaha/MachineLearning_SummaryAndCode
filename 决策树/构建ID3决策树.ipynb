{
 "cells": [
  {
   "cell_type": "markdown",
   "metadata": {},
   "source": [
    "# 构建ID3 决策树\n",
    "## 目录\n",
    "* ID3算法简介\n",
    "* 用自己构建的数据集验证ID3算法\n",
    "* ID3算法的局限性"
   ]
  },
  {
   "cell_type": "markdown",
   "metadata": {},
   "source": [
    "## ID3算法简介\n",
    "构建的树是多叉树，按照某一特征进行切分  \n",
    "在寻取分类特征时，采用最大信息增益\n",
    "\n",
    "\n",
    "其中信息增益=父节点的信息熵-子节点的信息熵  \n",
    "信息熵的计算公式\n",
    "$$H =\\sum\\limits_{i=1}^k p_i log(p_i)$$\n",
    "\n",
    "基尼系数的计算公式\n",
    "$$G = 1- \\sum\\limits_{i=1}^k p_i^2$$\n",
    "\n",
    "算法过程：\n",
    "* 按最大信息增益选取最佳的切分列\n",
    "* 将划分的子集作为其子节点\n",
    "* 递归结束的标志在于 数据子集只有一个特征 或者 全部特征都以用完\n",
    "\n",
    "局限：\n",
    "* 往往会选取分支度越高的特征\n",
    "* 不能直接处理连续型变量\n",
    "* 对缺失值敏感"
   ]
  },
  {
   "cell_type": "code",
   "execution_count": 566,
   "metadata": {},
   "outputs": [],
   "source": [
    "import numpy as np\n",
    "import pandas as pd\n",
    "from collections import Counter\n",
    "from graphviz import Digraph\n",
    "import graphviz\n",
    "class Decision_tree():\n",
    "    \n",
    "    def __init__(self,cal = \"Entropy\"):\n",
    "        self.tree = None\n",
    "        self.cal = cal\n",
    "        self.columns=None\n",
    "    \n",
    "    def calEnt(self,y):\n",
    "        count = Counter(y)\n",
    "        p = np.array(list(count.values()))/len(y)\n",
    "        Ent = (-p* np.log2(p)).sum()\n",
    "        return Ent\n",
    "    \n",
    "    def calGini(self,y):\n",
    "        count = Counter(y)\n",
    "        p = np.array(list(count.values()))/len(y)\n",
    "        Gini = 1-(p**2).sum()\n",
    "        return Gini\n",
    "    \n",
    "    def calimpurity(self,y):\n",
    "        \"\"\"根据参数来选择是使用Entropy还是Gini来计算不纯度\"\"\"\n",
    "        if self.cal == \"Entropy\":\n",
    "            return self.calEnt(y)\n",
    "        else:\n",
    "            return self.calGini(y)\n",
    "        \n",
    "    def fit_ID3(self,X,y,featurename):\n",
    "        \n",
    "        def bestSplit(X,y):\n",
    "            \"\"\"让数据集根据某一个特征值进行划分，返回数据集最佳切分列索引\"\"\"\n",
    "            bestFeature=-1\n",
    "            bestGain=-1\n",
    "            baseEnt = self.calimpurity(y)\n",
    "            \n",
    "            for i in range(X.shape[1]):\n",
    "                label = list(Counter(X[:,i]).keys())\n",
    "                sub_ent = 0\n",
    "                for j in label:\n",
    "                    subData = y[X[:,i] == j]\n",
    "                    childEnt = self.calimpurity(subData)\n",
    "                    sub_ent += childEnt*len(subData)/len(y)\n",
    "                sub_ent = baseEnt - sub_ent\n",
    "#                 print(\"feature {} Gain is {}\".format(i,sub_ent))\n",
    "                if sub_ent > bestGain: \n",
    "                    bestGain = sub_ent\n",
    "                    bestFeature = i\n",
    "            return bestFeature\n",
    "        \n",
    "        \n",
    "        def splitData(X,y,feature,label):\n",
    "            \"\"\"按指定的特征和标签来划分数据子集\"\"\"\n",
    "            subX = X[X[:,feature] == label]\n",
    "            suby = y[X[:,feature] == label]\n",
    "            subX = np.delete(subX,feature,axis=1)\n",
    "            return subX,suby\n",
    "        \n",
    "        \n",
    "        def createTree(X,y,featurename):\n",
    "            \"\"\"用字典的形式保存最终的树\"\"\"\n",
    "            if X.shape[1]==1 or len(list(Counter(y)))==1:#即没有再可以划分的特征，或者子集已经只有一列，则迭代结束\n",
    "                return Counter(y).most_common(1)[0][0]#返回所占比例最多的类别\n",
    "            \n",
    "            bestfeature = bestSplit(X,y)\n",
    "            bestfeaturename = featurename[bestfeature]\n",
    "            labellist = set(Counter(X[:,bestfeature]))\n",
    "            dic = {}\n",
    "            for label in labellist:\n",
    "                subX,suby = splitData(X,y,bestfeature,label)\n",
    "                col = featurename.copy()\n",
    "                del col[bestfeature]\n",
    "                \n",
    "                dic[label] = createTree(subX,suby,col)\n",
    "            mytree = {bestfeaturename:dic}\n",
    "            return mytree\n",
    "         \n",
    "        self.columns = featurename    \n",
    "        self.tree = createTree(X,y,featurename)\n",
    "        return self\n",
    "        \n",
    "        \n",
    "    def _predict(self,test):\n",
    "        \"\"\"对单条测试集进行预测\"\"\"\n",
    "\n",
    "        def __predict(tree,test,columns):\n",
    "            feature = next(iter(tree))\n",
    "            secondDic = tree[feature]\n",
    "            index = columns.index(feature)\n",
    "            content = test[index]\n",
    "            for key in secondDic:\n",
    "                if key == content:\n",
    "                    if type(secondDic[key]) == dict :\n",
    "                        return __predict(secondDic[key],test,columns)\n",
    "                    else:\n",
    "                        return secondDic[key]\n",
    "\n",
    "        assert self.tree is not None,\"fit before predict\"\n",
    "        tree = self.tree\n",
    "        columns = self.columns\n",
    "        return __predict(tree,test,columns)\n",
    "    \n",
    "    def predict(self,X_test):\n",
    "        return np.array([self._predict(test) for test in X_test])\n",
    "            \n",
    "    def score(self,X_test,y_test):\n",
    "        \"\"\"计算模型的准确率\"\"\"\n",
    "        y_predict = self.predict(X_test)\n",
    "        return (y_test == y_predict).mean()\n",
    "    \n",
    "    def draw_tree(self):\n",
    "        from graphviz import Digraph\n",
    "        \n",
    "        def export_graphviz(tree,root_index): \n",
    "            root = next(iter(tree))\n",
    "            text_node.append([str(root_index),root])\n",
    "            secondDic = tree[root]\n",
    "            for key in secondDic:\n",
    "                if type(secondDic[key]) == dict:\n",
    "                    i[0]+=1\n",
    "                    secondrootindex=i[0]\n",
    "                    text_edge.append([str(root_index),str(secondrootindex),str(key)])\n",
    "                    export_graphviz(secondDic[key],secondrootindex)\n",
    "                else:\n",
    "                    i[0] += 1\n",
    "                    text_node.append([str(i[0]),str(secondDic[key])])\n",
    "                    text_edge.append([ str(root_index) , str(i[0]) , str(key) ])\n",
    "          \n",
    "        \n",
    "        tree = self.tree\n",
    "        text_node=[]\n",
    "        text_edge=[]\n",
    "        i=[1]\n",
    "        export_graphviz(tree,i[0])\n",
    "        dot = Digraph()\n",
    "        for line in text_node:\n",
    "            dot.node(line[0],line[1])\n",
    "        for line in text_edge:\n",
    "            dot.edge(line[0],line[1],line[2])\n",
    "        \n",
    "        dot.view()"
   ]
  },
  {
   "cell_type": "markdown",
   "metadata": {},
   "source": [
    "## 使用自己建造的数据集验证实现的ID3tree"
   ]
  },
  {
   "cell_type": "code",
   "execution_count": 567,
   "metadata": {},
   "outputs": [],
   "source": [
    "data = pd.DataFrame([\n",
    "    [\"<=30\",\"high\",\"no\",\"fair\",\"no\"],\n",
    "    [\"<=30\",\"high\",\"no\",\"excellent\",\"no\"],\n",
    "    [\"31~40\",\"high\",\"no\",\"fair\",\"yes\"],\n",
    "    [\">40\",\"medium\",\"no\",\"fair\",\"yes\"],\n",
    "    [\">40\",\"low\",\"yes\",\"fair\",\"yes\"],\n",
    "    [\">40\",\"low\",\"yes\",\"excellent\",\"no\"],\n",
    "    [\"31~40\",\"low\",\"yes\",\"excellent\",\"yes\"],\n",
    "    [\"<=30\",\"medium\",\"no\",\"fair\",\"no\"],\n",
    "    [\"<=30\",\"low\",\"yes\",\"fair\",\"yes\"],\n",
    "    [\">40\",\"medium\",\"yes\",\"fair\",\"yes\"],\n",
    "    [\"<=30\",\"medium\",\"yes\",\"excellent\",\"yes\"],\n",
    "    [\"31~40\",\"medium\",\"no\",\"excellent\",\"yes\"],\n",
    "    [\"31~40\",\"high\",\"yes\",\"fair\",\"yes\"],\n",
    "    [\">40\",\"medium\",\"no\",\"excellent\",\"no\"]\n",
    "                 ],columns=[\"age\",\"income\",\"student\",\"credit_rating\",\"Class\"])"
   ]
  },
  {
   "cell_type": "code",
   "execution_count": 568,
   "metadata": {},
   "outputs": [],
   "source": [
    "X = data.iloc[:,:-1]\n",
    "y = data.iloc[:,-1]"
   ]
  },
  {
   "cell_type": "code",
   "execution_count": 569,
   "metadata": {},
   "outputs": [
    {
     "data": {
      "text/html": [
       "<div>\n",
       "<style scoped>\n",
       "    .dataframe tbody tr th:only-of-type {\n",
       "        vertical-align: middle;\n",
       "    }\n",
       "\n",
       "    .dataframe tbody tr th {\n",
       "        vertical-align: top;\n",
       "    }\n",
       "\n",
       "    .dataframe thead th {\n",
       "        text-align: right;\n",
       "    }\n",
       "</style>\n",
       "<table border=\"1\" class=\"dataframe\">\n",
       "  <thead>\n",
       "    <tr style=\"text-align: right;\">\n",
       "      <th></th>\n",
       "      <th>age</th>\n",
       "      <th>income</th>\n",
       "      <th>student</th>\n",
       "      <th>credit_rating</th>\n",
       "    </tr>\n",
       "  </thead>\n",
       "  <tbody>\n",
       "    <tr>\n",
       "      <th>0</th>\n",
       "      <td>&lt;=30</td>\n",
       "      <td>high</td>\n",
       "      <td>no</td>\n",
       "      <td>fair</td>\n",
       "    </tr>\n",
       "    <tr>\n",
       "      <th>1</th>\n",
       "      <td>&lt;=30</td>\n",
       "      <td>high</td>\n",
       "      <td>no</td>\n",
       "      <td>excellent</td>\n",
       "    </tr>\n",
       "    <tr>\n",
       "      <th>2</th>\n",
       "      <td>31~40</td>\n",
       "      <td>high</td>\n",
       "      <td>no</td>\n",
       "      <td>fair</td>\n",
       "    </tr>\n",
       "    <tr>\n",
       "      <th>3</th>\n",
       "      <td>&gt;40</td>\n",
       "      <td>medium</td>\n",
       "      <td>no</td>\n",
       "      <td>fair</td>\n",
       "    </tr>\n",
       "    <tr>\n",
       "      <th>4</th>\n",
       "      <td>&gt;40</td>\n",
       "      <td>low</td>\n",
       "      <td>yes</td>\n",
       "      <td>fair</td>\n",
       "    </tr>\n",
       "    <tr>\n",
       "      <th>5</th>\n",
       "      <td>&gt;40</td>\n",
       "      <td>low</td>\n",
       "      <td>yes</td>\n",
       "      <td>excellent</td>\n",
       "    </tr>\n",
       "    <tr>\n",
       "      <th>6</th>\n",
       "      <td>31~40</td>\n",
       "      <td>low</td>\n",
       "      <td>yes</td>\n",
       "      <td>excellent</td>\n",
       "    </tr>\n",
       "    <tr>\n",
       "      <th>7</th>\n",
       "      <td>&lt;=30</td>\n",
       "      <td>medium</td>\n",
       "      <td>no</td>\n",
       "      <td>fair</td>\n",
       "    </tr>\n",
       "    <tr>\n",
       "      <th>8</th>\n",
       "      <td>&lt;=30</td>\n",
       "      <td>low</td>\n",
       "      <td>yes</td>\n",
       "      <td>fair</td>\n",
       "    </tr>\n",
       "    <tr>\n",
       "      <th>9</th>\n",
       "      <td>&gt;40</td>\n",
       "      <td>medium</td>\n",
       "      <td>yes</td>\n",
       "      <td>fair</td>\n",
       "    </tr>\n",
       "    <tr>\n",
       "      <th>10</th>\n",
       "      <td>&lt;=30</td>\n",
       "      <td>medium</td>\n",
       "      <td>yes</td>\n",
       "      <td>excellent</td>\n",
       "    </tr>\n",
       "    <tr>\n",
       "      <th>11</th>\n",
       "      <td>31~40</td>\n",
       "      <td>medium</td>\n",
       "      <td>no</td>\n",
       "      <td>excellent</td>\n",
       "    </tr>\n",
       "    <tr>\n",
       "      <th>12</th>\n",
       "      <td>31~40</td>\n",
       "      <td>high</td>\n",
       "      <td>yes</td>\n",
       "      <td>fair</td>\n",
       "    </tr>\n",
       "    <tr>\n",
       "      <th>13</th>\n",
       "      <td>&gt;40</td>\n",
       "      <td>medium</td>\n",
       "      <td>no</td>\n",
       "      <td>excellent</td>\n",
       "    </tr>\n",
       "  </tbody>\n",
       "</table>\n",
       "</div>"
      ],
      "text/plain": [
       "      age  income student credit_rating\n",
       "0    <=30    high      no          fair\n",
       "1    <=30    high      no     excellent\n",
       "2   31~40    high      no          fair\n",
       "3     >40  medium      no          fair\n",
       "4     >40     low     yes          fair\n",
       "5     >40     low     yes     excellent\n",
       "6   31~40     low     yes     excellent\n",
       "7    <=30  medium      no          fair\n",
       "8    <=30     low     yes          fair\n",
       "9     >40  medium     yes          fair\n",
       "10   <=30  medium     yes     excellent\n",
       "11  31~40  medium      no     excellent\n",
       "12  31~40    high     yes          fair\n",
       "13    >40  medium      no     excellent"
      ]
     },
     "execution_count": 569,
     "metadata": {},
     "output_type": "execute_result"
    }
   ],
   "source": [
    "X"
   ]
  },
  {
   "cell_type": "code",
   "execution_count": 570,
   "metadata": {},
   "outputs": [
    {
     "name": "stdout",
     "output_type": "stream",
     "text": [
      "{'age': {'<=30': {'student': {'yes': 'yes', 'no': 'no'}}, '>40': {'credit_rating': {'excellent': 'no', 'fair': 'yes'}}, '31~40': 'yes'}}\n"
     ]
    }
   ],
   "source": [
    "clf = Decision_tree()\n",
    "clf.fit_ID3(np.array(X),np.array(y),list(X.columns))\n",
    "X = np.array(X)\n",
    "y = np.array(y)\n",
    "print(clf.tree)"
   ]
  },
  {
   "cell_type": "code",
   "execution_count": 571,
   "metadata": {},
   "outputs": [
    {
     "data": {
      "text/plain": [
       "1.0"
      ]
     },
     "execution_count": 571,
     "metadata": {},
     "output_type": "execute_result"
    }
   ],
   "source": [
    "clf.score(np.array(X),y)"
   ]
  },
  {
   "cell_type": "markdown",
   "metadata": {},
   "source": [
    "准确率为100%，说明树的建造没有问题"
   ]
  },
  {
   "cell_type": "code",
   "execution_count": 573,
   "metadata": {},
   "outputs": [
    {
     "data": {
      "text/plain": [
       "{'age': {'<=30': {'student': {'yes': 'yes', 'no': 'no'}},\n",
       "  '>40': {'credit_rating': {'excellent': 'no', 'fair': 'yes'}},\n",
       "  '31~40': 'yes'}}"
      ]
     },
     "execution_count": 573,
     "metadata": {},
     "output_type": "execute_result"
    }
   ],
   "source": [
    "clf.draw_tree()\n",
    "clf.tree"
   ]
  },
  {
   "cell_type": "markdown",
   "metadata": {},
   "source": [
    "## ID3的局限性"
   ]
  },
  {
   "cell_type": "code",
   "execution_count": 574,
   "metadata": {},
   "outputs": [],
   "source": [
    "from sklearn.datasets import load_wine\n",
    "from sklearn.model_selection import train_test_split\n",
    "data = load_wine()\n",
    "X = data.data\n",
    "y = data.target\n",
    "columns = data.feature_names\n",
    "X_train,X_test,y_train,y_test = train_test_split(X,y)"
   ]
  },
  {
   "cell_type": "code",
   "execution_count": 576,
   "metadata": {},
   "outputs": [],
   "source": [
    "clf = Decision_tree()\n",
    "clf.fit_ID3(X_train,y_train,columns)\n",
    "clf.draw_tree()"
   ]
  },
  {
   "cell_type": "code",
   "execution_count": 554,
   "metadata": {},
   "outputs": [
    {
     "data": {
      "text/plain": [
       "['no', 'yes']"
      ]
     },
     "execution_count": 554,
     "metadata": {},
     "output_type": "execute_result"
    }
   ],
   "source": [
    "list(Counter(y))"
   ]
  },
  {
   "cell_type": "markdown",
   "metadata": {},
   "source": [
    "这就叫不能直接处理 连续性变量"
   ]
  },
  {
   "cell_type": "code",
   "execution_count": 577,
   "metadata": {},
   "outputs": [],
   "source": [
    "data = pd.DataFrame([\n",
    "    [1,\"<=30\",\"high\",\"no\",\"fair\",\"no\"],\n",
    "    [2,\"<=30\",\"high\",\"no\",\"excellent\",\"no\"],\n",
    "    [3,\"31~40\",\"high\",\"no\",\"fair\",\"yes\"],\n",
    "    [4,\">40\",\"medium\",\"no\",\"fair\",\"yes\"],\n",
    "    [5,\">40\",\"low\",\"yes\",\"fair\",\"yes\"],\n",
    "    [6,\">40\",\"low\",\"yes\",\"excellent\",\"no\"],\n",
    "    [7,\"31~40\",\"low\",\"yes\",\"excellent\",\"yes\"],\n",
    "    [8,\"<=30\",\"medium\",\"no\",\"fair\",\"no\"],\n",
    "    [9,\"<=30\",\"low\",\"yes\",\"fair\",\"yes\"],\n",
    "    [10,\">40\",\"medium\",\"yes\",\"fair\",\"yes\"],\n",
    "    [11,\"<=30\",\"medium\",\"yes\",\"excellent\",\"yes\"],\n",
    "    [12,\"31~40\",\"medium\",\"no\",\"excellent\",\"yes\"],\n",
    "    [13,\"31~40\",\"high\",\"yes\",\"fair\",\"yes\"],\n",
    "    [14,\">40\",\"medium\",\"no\",\"excellent\",\"no\"]\n",
    "                 ],columns=[\"index\",\"age\",\"income\",\"student\",\"credit_rating\",\"Class\"])"
   ]
  },
  {
   "cell_type": "code",
   "execution_count": 578,
   "metadata": {},
   "outputs": [],
   "source": [
    "X = data.iloc[:,:-1]\n",
    "y = data.iloc[:,-1]"
   ]
  },
  {
   "cell_type": "code",
   "execution_count": 579,
   "metadata": {},
   "outputs": [
    {
     "name": "stdout",
     "output_type": "stream",
     "text": [
      "{'index': {1: 'no', 2: 'no', 3: 'yes', 4: 'yes', 5: 'yes', 6: 'no', 7: 'yes', 8: 'no', 9: 'yes', 10: 'yes', 11: 'yes', 12: 'yes', 13: 'yes', 14: 'no'}}\n"
     ]
    }
   ],
   "source": [
    "clf = Decision_tree()\n",
    "clf.fit_ID3(np.array(X),np.array(y),list(X.columns))\n",
    "X = np.array(X)\n",
    "y = np.array(y)\n",
    "print(clf.tree)"
   ]
  },
  {
   "cell_type": "code",
   "execution_count": 580,
   "metadata": {},
   "outputs": [],
   "source": [
    "clf.draw_tree()"
   ]
  },
  {
   "cell_type": "markdown",
   "metadata": {},
   "source": [
    "这就叫往往会选取分支程度较高的"
   ]
  }
 ],
 "metadata": {
  "kernelspec": {
   "display_name": "Python 3",
   "language": "python",
   "name": "python3"
  },
  "language_info": {
   "codemirror_mode": {
    "name": "ipython",
    "version": 3
   },
   "file_extension": ".py",
   "mimetype": "text/x-python",
   "name": "python",
   "nbconvert_exporter": "python",
   "pygments_lexer": "ipython3",
   "version": "3.7.3"
  }
 },
 "nbformat": 4,
 "nbformat_minor": 2
}
