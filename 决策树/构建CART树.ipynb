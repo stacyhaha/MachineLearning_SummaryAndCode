{
 "cells": [
  {
   "cell_type": "markdown",
   "metadata": {},
   "source": [
    "# 构建CART树\n",
    "## 目录"
   ]
  },
  {
   "cell_type": "markdown",
   "metadata": {},
   "source": [
    "## CART树简介\n",
    "使用最为广泛的决策树，同时也是sklearn中使用的  \n",
    "CART树在原本C4.5的基础上进一步改进，将所有的特征属性都是二分类，最终构成一棵二叉树"
   ]
  },
  {
   "cell_type": "markdown",
   "metadata": {},
   "source": [
    "## 实现CART树"
   ]
  },
  {
   "cell_type": "code",
   "execution_count": 12,
   "metadata": {},
   "outputs": [],
   "source": [
    "import numpy as np\n",
    "import pandas as pd\n",
    "from collections import Counter\n",
    "from graphviz import Digraph\n",
    "import graphviz\n",
    "class Decision_tree():\n",
    "    \n",
    "    def __init__(self,cal = \"Entropy\"):\n",
    "        self.tree = None\n",
    "        self.cal = cal\n",
    "        self.columns=None\n",
    "    \n",
    "    def calEnt(self,y):\n",
    "        count = Counter(y)\n",
    "        p = np.array(list(count.values()))/len(y)\n",
    "        Ent = (-p* np.log2(p)).sum()\n",
    "        return Ent\n",
    "    \n",
    "    def calGini(self,y):\n",
    "        count = Counter(y)\n",
    "        p = np.array(list(count.values()))/len(y)\n",
    "        Gini = 1-(p**2).sum()\n",
    "        return Gini\n",
    "    \n",
    "    def calimpurity(self,y):\n",
    "        \"\"\"根据参数来选择是使用Entropy还是Gini来计算不纯度\"\"\"\n",
    "        if self.cal == \"Entropy\":\n",
    "            return self.calEnt(y)\n",
    "        else:\n",
    "            return self.calGini(y)\n",
    "        \n",
    "    def fit_CART(self,X,y,featurename):\n",
    "        \n",
    "        def bestsplit(X,y):\n",
    "            \"\"\"以信息增益率为依据，让数据集根据某一个特征值进行划分，返回数据集最佳切分列索引和切分值\"\"\"\n",
    "            bestFeature = -1\n",
    "            bestGainRatio = -1\n",
    "            bestsplitvalue = -1\n",
    "            baseEnt = self.calimpurity(y)\n",
    "            \n",
    "            for i in range(X.shape[1]):\n",
    "                if len(list(Counter(X[:,i]))) == 1:\n",
    "                    continue\n",
    "                sort_index = np.argsort(X[:,i])\n",
    "                for j in range(1,len(X)):\n",
    "                    if X[sort_index[j-1],i] != X[sort_index[j],i]:\n",
    "                        splitvalue = (X[sort_index[j-1],i]+X[sort_index[j],i])/2\n",
    "                        y_l = y[X[:,i] < splitvalue]\n",
    "                        y_r = y[X[:,i] >= splitvalue]\n",
    "                        \n",
    "                        inforGain = baseEnt - (len(y_l)/len(y)*self.calimpurity(y_l)+len(y_r)/len(y)*self.calimpurity(y_r))\n",
    "                        inforValuetemp = np.array([len(y_l)/len(y),len(y_r)/len(y)])\n",
    "                        inforValue = np.sum(-inforValuetemp*np.log2(inforValuetemp))\n",
    "                        \n",
    "                        GainRatio = inforGain/inforValue\n",
    "                        if GainRatio > bestGainRatio:\n",
    "                            bestGainRatio = GainRatio\n",
    "                            bestFeature = i\n",
    "                            bestsplitvalue = splitvalue\n",
    "            return bestFeature,bestsplitvalue\n",
    "            \n",
    "        def splitData(X,y,bestFeature,bestSplit):\n",
    "            \"\"\"按指定的特征和标签来划分数据子集\"\"\"\n",
    "            subX_l = X[X[:,bestFeature] < bestSplit]\n",
    "            suby_l = y[X[:,bestFeature] < bestSplit]\n",
    "            subX_r = X[X[:,bestFeature] >= bestSplit]\n",
    "            suby_r = y[X[:,bestFeature] >= bestSplit]\n",
    "            return subX_l,subX_r,suby_l,suby_r\n",
    "        \n",
    "        def countvalidfeature(X):\n",
    "            cal = 0\n",
    "            for i in range(X.shape[1]):\n",
    "                if len(list(Counter(X[:,i])))!=1:\n",
    "                    cal +=1\n",
    "            return cal\n",
    "        \n",
    "        def createTree(X,y,featurename):\n",
    "            \"\"\"用字典的形式保存最终的树\"\"\"\n",
    "            if countvalidfeature(X) == 1 or len(list(Counter(y)))==1:#即没有再可以划分的特征，或者子集已经只有一列，则迭代结束\n",
    "                return Counter(y).most_common(1)[0][0]#返回所占比例最多的类别\n",
    "            \n",
    "            bestFeature,bestsplitvalue = bestsplit(X,y)\n",
    "            bestfeaturename = featurename[bestFeature]\n",
    "            dic = {}\n",
    "            subX_l,subX_r,suby_l,suby_r = splitData(X,y,bestFeature,bestsplitvalue)\n",
    "            dic[\"<{}\".format(bestsplitvalue)] = createTree(subX_l,suby_l,featurename)\n",
    "            dic[\">={}\".format(bestsplitvalue)] = createTree(subX_r,suby_r,featurename)\n",
    "            \n",
    "            mytree = {bestfeaturename:dic}\n",
    "            return mytree\n",
    "         \n",
    "        self.columns = featurename    \n",
    "        self.tree = createTree(X,y,featurename)\n",
    "        return self\n",
    "        \n",
    "        \n",
    "    def _predict(self,test):\n",
    "        \"\"\"对单条测试集进行预测\"\"\"\n",
    "\n",
    "        def __predict(tree,test,columns):\n",
    "            feature = next(iter(tree))\n",
    "            secondDic = tree[feature]\n",
    "            index = columns.index(feature)\n",
    "            content = test[index]\n",
    "            for key in secondDic:\n",
    "                try:\n",
    "                    if eval(str(content)+key):\n",
    "                        if type(secondDic[key]) == dict :\n",
    "                            return __predict(secondDic[key],test,columns)\n",
    "                        else:\n",
    "                            return secondDic[key]\n",
    "                except:\n",
    "                    print(str(content)+key)\n",
    "\n",
    "        assert self.tree is not None,\"fit before predict\"\n",
    "        tree = self.tree\n",
    "        columns = self.columns\n",
    "        return __predict(tree,test,columns)\n",
    "    \n",
    "    def predict(self,X_test):\n",
    "        return np.array([self._predict(test) for test in X_test])\n",
    "            \n",
    "    def score(self,X_test,y_test):\n",
    "        \"\"\"计算模型的准确率\"\"\"\n",
    "        y_predict = self.predict(X_test)\n",
    "        return (y_test == y_predict).mean()\n",
    "    \n",
    "    def draw_tree(self):\n",
    "        from graphviz import Digraph\n",
    "        \n",
    "        def export_graphviz(tree,root_index): \n",
    "            root = next(iter(tree))\n",
    "            text_node.append([str(root_index),root])\n",
    "            secondDic = tree[root]\n",
    "            for key in secondDic:\n",
    "                if type(secondDic[key]) == dict:\n",
    "                    i[0] += 1\n",
    "                    secondrootindex=i[0]\n",
    "                    text_edge.append([str(root_index),str(secondrootindex),str(key)])\n",
    "                    export_graphviz(secondDic[key],secondrootindex)\n",
    "                else:\n",
    "                    i[0] += 1\n",
    "                    text_node.append([str(i[0]),str(secondDic[key])])\n",
    "                    text_edge.append([ str(root_index) , str(i[0]) , str(key) ])\n",
    "          \n",
    "        \n",
    "        tree = self.tree\n",
    "        text_node=[]\n",
    "        text_edge=[]\n",
    "        i=[1]\n",
    "        export_graphviz(tree,i[0])\n",
    "        dot = Digraph()\n",
    "        for line in text_node:\n",
    "            dot.node(line[0],line[1])\n",
    "        for line in text_edge:\n",
    "            dot.edge(line[0],line[1],line[2])\n",
    "        \n",
    "        dot.view()"
   ]
  },
  {
   "cell_type": "markdown",
   "metadata": {},
   "source": [
    "## 用数据集检验实现的CART树"
   ]
  },
  {
   "cell_type": "code",
   "execution_count": 2,
   "metadata": {},
   "outputs": [],
   "source": [
    "data = pd.DataFrame([\n",
    "    [29,0,0,0,\"no\"],\n",
    "    [28,0,0,1,\"no\"],\n",
    "    [34,0,0,0,\"yes\"],\n",
    "    [45,1,0,0,\"yes\"],\n",
    "    [56,2,1,0,\"yes\"],\n",
    "    [67,2,1,1,\"no\"],\n",
    "    [35,2,1,1,\"yes\"],\n",
    "    [29,1,0,0,\"no\"],\n",
    "    [29,2,1,0,\"yes\"],\n",
    "    [54,1,1,0,\"yes\"],\n",
    "    [18,1,1,1,\"yes\"],\n",
    "    [32,1,0,1,\"yes\"],\n",
    "    [33,0,1,0,\"yes\"],\n",
    "    [45,1,0,1,\"no\"]\n",
    "                 ],columns=[\"age\",\"income\",\"student\",\"credit_rating\",\"Class\"])\n",
    "X = data.iloc[:,:-1]\n",
    "y = data.iloc[:,-1]\n",
    "#high=0,medium=1,low=2\n",
    "#fair=0,excellent=1"
   ]
  },
  {
   "cell_type": "code",
   "execution_count": 3,
   "metadata": {},
   "outputs": [
    {
     "data": {
      "text/plain": [
       "<__main__.Decision_tree at 0x1117b1f28>"
      ]
     },
     "execution_count": 3,
     "metadata": {},
     "output_type": "execute_result"
    }
   ],
   "source": [
    "clf = Decision_tree()\n",
    "clf.fit_CART(np.array(X),np.array(y),list(X.columns))"
   ]
  },
  {
   "cell_type": "code",
   "execution_count": 4,
   "metadata": {},
   "outputs": [
    {
     "data": {
      "text/plain": [
       "{'age': {'<61.5': {'student': {'<0.5': {'age': {'<30.5': 'no',\n",
       "      '>=30.5': {'age': {'<39.5': 'yes', '>=39.5': 'yes'}}}},\n",
       "    '>=0.5': 'yes'}},\n",
       "  '>=61.5': 'no'}}"
      ]
     },
     "execution_count": 4,
     "metadata": {},
     "output_type": "execute_result"
    }
   ],
   "source": [
    "clf.tree"
   ]
  },
  {
   "cell_type": "code",
   "execution_count": 5,
   "metadata": {},
   "outputs": [],
   "source": [
    "clf.draw_tree()"
   ]
  },
  {
   "cell_type": "markdown",
   "metadata": {},
   "source": [
    "## 用红酒数据集与sklearn中的CART树进行性能上的对比（未剪枝的前提下）"
   ]
  },
  {
   "cell_type": "code",
   "execution_count": 13,
   "metadata": {},
   "outputs": [],
   "source": [
    "from sklearn.datasets import load_wine\n",
    "from sklearn.model_selection import train_test_split\n",
    "wine = load_wine()\n",
    "X = wine.data\n",
    "y = wine.target\n",
    "col = wine.feature_names\n",
    "X_train,X_test,y_train,y_test = train_test_split(X,y)"
   ]
  },
  {
   "cell_type": "code",
   "execution_count": 14,
   "metadata": {},
   "outputs": [
    {
     "name": "stdout",
     "output_type": "stream",
     "text": [
      "CPU times: user 3 µs, sys: 0 ns, total: 3 µs\n",
      "Wall time: 22.9 µs\n"
     ]
    },
    {
     "data": {
      "text/plain": [
       "0.9555555555555556"
      ]
     },
     "execution_count": 14,
     "metadata": {},
     "output_type": "execute_result"
    }
   ],
   "source": [
    "%time\n",
    "clf = Decision_tree()\n",
    "clf.fit_CART(X_train,y_train,col)\n",
    "clf.score(X_test,y_test)"
   ]
  },
  {
   "cell_type": "code",
   "execution_count": 15,
   "metadata": {},
   "outputs": [],
   "source": [
    "clf.draw_tree()"
   ]
  },
  {
   "cell_type": "code",
   "execution_count": 16,
   "metadata": {},
   "outputs": [],
   "source": [
    "from sklearn.tree import DecisionTreeClassifier\n",
    "import graphviz\n",
    "from sklearn.tree import export_graphviz"
   ]
  },
  {
   "cell_type": "code",
   "execution_count": 17,
   "metadata": {},
   "outputs": [
    {
     "name": "stdout",
     "output_type": "stream",
     "text": [
      "CPU times: user 3 µs, sys: 2 µs, total: 5 µs\n",
      "Wall time: 11 µs\n"
     ]
    },
    {
     "data": {
      "text/plain": [
       "0.9111111111111111"
      ]
     },
     "execution_count": 17,
     "metadata": {},
     "output_type": "execute_result"
    }
   ],
   "source": [
    "%time\n",
    "clf_sklearn = DecisionTreeClassifier(criterion=\"entropy\")\n",
    "clf_sklearn.fit(X_train,y_train)\n",
    "clf_sklearn.score(X_test,y_test)"
   ]
  },
  {
   "cell_type": "code",
   "execution_count": 18,
   "metadata": {},
   "outputs": [
    {
     "data": {
      "image/svg+xml": [
       "<?xml version=\"1.0\" encoding=\"UTF-8\" standalone=\"no\"?>\n",
       "<!DOCTYPE svg PUBLIC \"-//W3C//DTD SVG 1.1//EN\"\n",
       " \"http://www.w3.org/Graphics/SVG/1.1/DTD/svg11.dtd\">\n",
       "<!-- Generated by graphviz version 2.40.1 (20161225.0304)\n",
       " -->\n",
       "<!-- Title: Tree Pages: 1 -->\n",
       "<svg width=\"691pt\" height=\"552pt\"\n",
       " viewBox=\"0.00 0.00 691.00 552.00\" xmlns=\"http://www.w3.org/2000/svg\" xmlns:xlink=\"http://www.w3.org/1999/xlink\">\n",
       "<g id=\"graph0\" class=\"graph\" transform=\"scale(1 1) rotate(0) translate(4 548)\">\n",
       "<title>Tree</title>\n",
       "<polygon fill=\"#ffffff\" stroke=\"transparent\" points=\"-4,4 -4,-548 687,-548 687,4 -4,4\"/>\n",
       "<!-- 0 -->\n",
       "<g id=\"node1\" class=\"node\">\n",
       "<title>0</title>\n",
       "<path fill=\"#39e581\" fill-opacity=\"0.133333\" stroke=\"#000000\" d=\"M326.5,-544C326.5,-544 211.5,-544 211.5,-544 205.5,-544 199.5,-538 199.5,-532 199.5,-532 199.5,-473 199.5,-473 199.5,-467 205.5,-461 211.5,-461 211.5,-461 326.5,-461 326.5,-461 332.5,-461 338.5,-467 338.5,-473 338.5,-473 338.5,-532 338.5,-532 338.5,-538 332.5,-544 326.5,-544\"/>\n",
       "<text text-anchor=\"middle\" x=\"269\" y=\"-528.8\" font-family=\"Helvetica,sans-Serif\" font-size=\"14.00\" fill=\"#000000\">flavanoids &lt;= 1.575</text>\n",
       "<text text-anchor=\"middle\" x=\"269\" y=\"-513.8\" font-family=\"Helvetica,sans-Serif\" font-size=\"14.00\" fill=\"#000000\">entropy = 1.56</text>\n",
       "<text text-anchor=\"middle\" x=\"269\" y=\"-498.8\" font-family=\"Helvetica,sans-Serif\" font-size=\"14.00\" fill=\"#000000\">samples = 133</text>\n",
       "<text text-anchor=\"middle\" x=\"269\" y=\"-483.8\" font-family=\"Helvetica,sans-Serif\" font-size=\"14.00\" fill=\"#000000\">value = [43, 55, 35]</text>\n",
       "<text text-anchor=\"middle\" x=\"269\" y=\"-468.8\" font-family=\"Helvetica,sans-Serif\" font-size=\"14.00\" fill=\"#000000\">class = 雪梨</text>\n",
       "</g>\n",
       "<!-- 1 -->\n",
       "<g id=\"node2\" class=\"node\">\n",
       "<title>1</title>\n",
       "<path fill=\"#8139e5\" fill-opacity=\"0.658824\" stroke=\"#000000\" d=\"M248,-425C248,-425 144,-425 144,-425 138,-425 132,-419 132,-413 132,-413 132,-354 132,-354 132,-348 138,-342 144,-342 144,-342 248,-342 248,-342 254,-342 260,-348 260,-354 260,-354 260,-413 260,-413 260,-419 254,-425 248,-425\"/>\n",
       "<text text-anchor=\"middle\" x=\"196\" y=\"-409.8\" font-family=\"Helvetica,sans-Serif\" font-size=\"14.00\" fill=\"#000000\">hue &lt;= 0.898</text>\n",
       "<text text-anchor=\"middle\" x=\"196\" y=\"-394.8\" font-family=\"Helvetica,sans-Serif\" font-size=\"14.00\" fill=\"#000000\">entropy = 0.82</text>\n",
       "<text text-anchor=\"middle\" x=\"196\" y=\"-379.8\" font-family=\"Helvetica,sans-Serif\" font-size=\"14.00\" fill=\"#000000\">samples = 47</text>\n",
       "<text text-anchor=\"middle\" x=\"196\" y=\"-364.8\" font-family=\"Helvetica,sans-Serif\" font-size=\"14.00\" fill=\"#000000\">value = [0, 12, 35]</text>\n",
       "<text text-anchor=\"middle\" x=\"196\" y=\"-349.8\" font-family=\"Helvetica,sans-Serif\" font-size=\"14.00\" fill=\"#000000\">class = 贝尔摩德</text>\n",
       "</g>\n",
       "<!-- 0&#45;&gt;1 -->\n",
       "<g id=\"edge1\" class=\"edge\">\n",
       "<title>0&#45;&gt;1</title>\n",
       "<path fill=\"none\" stroke=\"#000000\" d=\"M243.4681,-460.8796C238.109,-452.1434 232.4021,-442.8404 226.8718,-433.8253\"/>\n",
       "<polygon fill=\"#000000\" stroke=\"#000000\" points=\"229.8533,-431.9919 221.6408,-425.2981 223.8865,-435.6522 229.8533,-431.9919\"/>\n",
       "<text text-anchor=\"middle\" x=\"215.8161\" y=\"-445.9101\" font-family=\"Helvetica,sans-Serif\" font-size=\"14.00\" fill=\"#000000\">True</text>\n",
       "</g>\n",
       "<!-- 4 -->\n",
       "<g id=\"node5\" class=\"node\">\n",
       "<title>4</title>\n",
       "<path fill=\"transparent\" stroke=\"#000000\" d=\"M394,-425C394,-425 290,-425 290,-425 284,-425 278,-419 278,-413 278,-413 278,-354 278,-354 278,-348 284,-342 290,-342 290,-342 394,-342 394,-342 400,-342 406,-348 406,-354 406,-354 406,-413 406,-413 406,-419 400,-425 394,-425\"/>\n",
       "<text text-anchor=\"middle\" x=\"342\" y=\"-409.8\" font-family=\"Helvetica,sans-Serif\" font-size=\"14.00\" fill=\"#000000\">alcohol &lt;= 12.785</text>\n",
       "<text text-anchor=\"middle\" x=\"342\" y=\"-394.8\" font-family=\"Helvetica,sans-Serif\" font-size=\"14.00\" fill=\"#000000\">entropy = 1.0</text>\n",
       "<text text-anchor=\"middle\" x=\"342\" y=\"-379.8\" font-family=\"Helvetica,sans-Serif\" font-size=\"14.00\" fill=\"#000000\">samples = 86</text>\n",
       "<text text-anchor=\"middle\" x=\"342\" y=\"-364.8\" font-family=\"Helvetica,sans-Serif\" font-size=\"14.00\" fill=\"#000000\">value = [43, 43, 0]</text>\n",
       "<text text-anchor=\"middle\" x=\"342\" y=\"-349.8\" font-family=\"Helvetica,sans-Serif\" font-size=\"14.00\" fill=\"#000000\">class = 琴酒</text>\n",
       "</g>\n",
       "<!-- 0&#45;&gt;4 -->\n",
       "<g id=\"edge4\" class=\"edge\">\n",
       "<title>0&#45;&gt;4</title>\n",
       "<path fill=\"none\" stroke=\"#000000\" d=\"M294.5319,-460.8796C299.891,-452.1434 305.5979,-442.8404 311.1282,-433.8253\"/>\n",
       "<polygon fill=\"#000000\" stroke=\"#000000\" points=\"314.1135,-435.6522 316.3592,-425.2981 308.1467,-431.9919 314.1135,-435.6522\"/>\n",
       "<text text-anchor=\"middle\" x=\"322.1839\" y=\"-445.9101\" font-family=\"Helvetica,sans-Serif\" font-size=\"14.00\" fill=\"#000000\">False</text>\n",
       "</g>\n",
       "<!-- 2 -->\n",
       "<g id=\"node3\" class=\"node\">\n",
       "<title>2</title>\n",
       "<path fill=\"#8139e5\" stroke=\"#000000\" d=\"M108,-298.5C108,-298.5 12,-298.5 12,-298.5 6,-298.5 0,-292.5 0,-286.5 0,-286.5 0,-242.5 0,-242.5 0,-236.5 6,-230.5 12,-230.5 12,-230.5 108,-230.5 108,-230.5 114,-230.5 120,-236.5 120,-242.5 120,-242.5 120,-286.5 120,-286.5 120,-292.5 114,-298.5 108,-298.5\"/>\n",
       "<text text-anchor=\"middle\" x=\"60\" y=\"-283.3\" font-family=\"Helvetica,sans-Serif\" font-size=\"14.00\" fill=\"#000000\">entropy = 0.0</text>\n",
       "<text text-anchor=\"middle\" x=\"60\" y=\"-268.3\" font-family=\"Helvetica,sans-Serif\" font-size=\"14.00\" fill=\"#000000\">samples = 35</text>\n",
       "<text text-anchor=\"middle\" x=\"60\" y=\"-253.3\" font-family=\"Helvetica,sans-Serif\" font-size=\"14.00\" fill=\"#000000\">value = [0, 0, 35]</text>\n",
       "<text text-anchor=\"middle\" x=\"60\" y=\"-238.3\" font-family=\"Helvetica,sans-Serif\" font-size=\"14.00\" fill=\"#000000\">class = 贝尔摩德</text>\n",
       "</g>\n",
       "<!-- 1&#45;&gt;2 -->\n",
       "<g id=\"edge2\" class=\"edge\">\n",
       "<title>1&#45;&gt;2</title>\n",
       "<path fill=\"none\" stroke=\"#000000\" d=\"M148.4338,-341.8796C134.9872,-330.1138 120.3653,-317.3197 106.9549,-305.5855\"/>\n",
       "<polygon fill=\"#000000\" stroke=\"#000000\" points=\"109.0476,-302.766 99.2171,-298.8149 104.4381,-308.034 109.0476,-302.766\"/>\n",
       "</g>\n",
       "<!-- 3 -->\n",
       "<g id=\"node4\" class=\"node\">\n",
       "<title>3</title>\n",
       "<path fill=\"#39e581\" stroke=\"#000000\" d=\"M246,-298.5C246,-298.5 150,-298.5 150,-298.5 144,-298.5 138,-292.5 138,-286.5 138,-286.5 138,-242.5 138,-242.5 138,-236.5 144,-230.5 150,-230.5 150,-230.5 246,-230.5 246,-230.5 252,-230.5 258,-236.5 258,-242.5 258,-242.5 258,-286.5 258,-286.5 258,-292.5 252,-298.5 246,-298.5\"/>\n",
       "<text text-anchor=\"middle\" x=\"198\" y=\"-283.3\" font-family=\"Helvetica,sans-Serif\" font-size=\"14.00\" fill=\"#000000\">entropy = 0.0</text>\n",
       "<text text-anchor=\"middle\" x=\"198\" y=\"-268.3\" font-family=\"Helvetica,sans-Serif\" font-size=\"14.00\" fill=\"#000000\">samples = 12</text>\n",
       "<text text-anchor=\"middle\" x=\"198\" y=\"-253.3\" font-family=\"Helvetica,sans-Serif\" font-size=\"14.00\" fill=\"#000000\">value = [0, 12, 0]</text>\n",
       "<text text-anchor=\"middle\" x=\"198\" y=\"-238.3\" font-family=\"Helvetica,sans-Serif\" font-size=\"14.00\" fill=\"#000000\">class = 雪梨</text>\n",
       "</g>\n",
       "<!-- 1&#45;&gt;3 -->\n",
       "<g id=\"edge3\" class=\"edge\">\n",
       "<title>1&#45;&gt;3</title>\n",
       "<path fill=\"none\" stroke=\"#000000\" d=\"M196.6995,-341.8796C196.8788,-331.2134 197.0722,-319.7021 197.2538,-308.9015\"/>\n",
       "<polygon fill=\"#000000\" stroke=\"#000000\" points=\"200.7546,-308.8724 197.4233,-298.8149 193.7556,-308.7547 200.7546,-308.8724\"/>\n",
       "</g>\n",
       "<!-- 5 -->\n",
       "<g id=\"node6\" class=\"node\">\n",
       "<title>5</title>\n",
       "<path fill=\"#39e581\" stroke=\"#000000\" d=\"M388,-298.5C388,-298.5 292,-298.5 292,-298.5 286,-298.5 280,-292.5 280,-286.5 280,-286.5 280,-242.5 280,-242.5 280,-236.5 286,-230.5 292,-230.5 292,-230.5 388,-230.5 388,-230.5 394,-230.5 400,-236.5 400,-242.5 400,-242.5 400,-286.5 400,-286.5 400,-292.5 394,-298.5 388,-298.5\"/>\n",
       "<text text-anchor=\"middle\" x=\"340\" y=\"-283.3\" font-family=\"Helvetica,sans-Serif\" font-size=\"14.00\" fill=\"#000000\">entropy = 0.0</text>\n",
       "<text text-anchor=\"middle\" x=\"340\" y=\"-268.3\" font-family=\"Helvetica,sans-Serif\" font-size=\"14.00\" fill=\"#000000\">samples = 38</text>\n",
       "<text text-anchor=\"middle\" x=\"340\" y=\"-253.3\" font-family=\"Helvetica,sans-Serif\" font-size=\"14.00\" fill=\"#000000\">value = [0, 38, 0]</text>\n",
       "<text text-anchor=\"middle\" x=\"340\" y=\"-238.3\" font-family=\"Helvetica,sans-Serif\" font-size=\"14.00\" fill=\"#000000\">class = 雪梨</text>\n",
       "</g>\n",
       "<!-- 4&#45;&gt;5 -->\n",
       "<g id=\"edge5\" class=\"edge\">\n",
       "<title>4&#45;&gt;5</title>\n",
       "<path fill=\"none\" stroke=\"#000000\" d=\"M341.3005,-341.8796C341.1212,-331.2134 340.9278,-319.7021 340.7462,-308.9015\"/>\n",
       "<polygon fill=\"#000000\" stroke=\"#000000\" points=\"344.2444,-308.7547 340.5767,-298.8149 337.2454,-308.8724 344.2444,-308.7547\"/>\n",
       "</g>\n",
       "<!-- 6 -->\n",
       "<g id=\"node7\" class=\"node\">\n",
       "<title>6</title>\n",
       "<path fill=\"#e58139\" fill-opacity=\"0.882353\" stroke=\"#000000\" d=\"M526,-306C526,-306 430,-306 430,-306 424,-306 418,-300 418,-294 418,-294 418,-235 418,-235 418,-229 424,-223 430,-223 430,-223 526,-223 526,-223 532,-223 538,-229 538,-235 538,-235 538,-294 538,-294 538,-300 532,-306 526,-306\"/>\n",
       "<text text-anchor=\"middle\" x=\"478\" y=\"-290.8\" font-family=\"Helvetica,sans-Serif\" font-size=\"14.00\" fill=\"#000000\">proline &lt;= 597.5</text>\n",
       "<text text-anchor=\"middle\" x=\"478\" y=\"-275.8\" font-family=\"Helvetica,sans-Serif\" font-size=\"14.00\" fill=\"#000000\">entropy = 0.482</text>\n",
       "<text text-anchor=\"middle\" x=\"478\" y=\"-260.8\" font-family=\"Helvetica,sans-Serif\" font-size=\"14.00\" fill=\"#000000\">samples = 48</text>\n",
       "<text text-anchor=\"middle\" x=\"478\" y=\"-245.8\" font-family=\"Helvetica,sans-Serif\" font-size=\"14.00\" fill=\"#000000\">value = [43, 5, 0]</text>\n",
       "<text text-anchor=\"middle\" x=\"478\" y=\"-230.8\" font-family=\"Helvetica,sans-Serif\" font-size=\"14.00\" fill=\"#000000\">class = 琴酒</text>\n",
       "</g>\n",
       "<!-- 4&#45;&gt;6 -->\n",
       "<g id=\"edge6\" class=\"edge\">\n",
       "<title>4&#45;&gt;6</title>\n",
       "<path fill=\"none\" stroke=\"#000000\" d=\"M389.5662,-341.8796C400.1679,-332.6031 411.5002,-322.6874 422.3933,-313.1559\"/>\n",
       "<polygon fill=\"#000000\" stroke=\"#000000\" points=\"425.0098,-315.5172 430.2308,-306.2981 420.4002,-310.2491 425.0098,-315.5172\"/>\n",
       "</g>\n",
       "<!-- 7 -->\n",
       "<g id=\"node8\" class=\"node\">\n",
       "<title>7</title>\n",
       "<path fill=\"#39e581\" stroke=\"#000000\" d=\"M443.5,-179.5C443.5,-179.5 354.5,-179.5 354.5,-179.5 348.5,-179.5 342.5,-173.5 342.5,-167.5 342.5,-167.5 342.5,-123.5 342.5,-123.5 342.5,-117.5 348.5,-111.5 354.5,-111.5 354.5,-111.5 443.5,-111.5 443.5,-111.5 449.5,-111.5 455.5,-117.5 455.5,-123.5 455.5,-123.5 455.5,-167.5 455.5,-167.5 455.5,-173.5 449.5,-179.5 443.5,-179.5\"/>\n",
       "<text text-anchor=\"middle\" x=\"399\" y=\"-164.3\" font-family=\"Helvetica,sans-Serif\" font-size=\"14.00\" fill=\"#000000\">entropy = 0.0</text>\n",
       "<text text-anchor=\"middle\" x=\"399\" y=\"-149.3\" font-family=\"Helvetica,sans-Serif\" font-size=\"14.00\" fill=\"#000000\">samples = 4</text>\n",
       "<text text-anchor=\"middle\" x=\"399\" y=\"-134.3\" font-family=\"Helvetica,sans-Serif\" font-size=\"14.00\" fill=\"#000000\">value = [0, 4, 0]</text>\n",
       "<text text-anchor=\"middle\" x=\"399\" y=\"-119.3\" font-family=\"Helvetica,sans-Serif\" font-size=\"14.00\" fill=\"#000000\">class = 雪梨</text>\n",
       "</g>\n",
       "<!-- 6&#45;&gt;7 -->\n",
       "<g id=\"edge7\" class=\"edge\">\n",
       "<title>6&#45;&gt;7</title>\n",
       "<path fill=\"none\" stroke=\"#000000\" d=\"M450.3696,-222.8796C442.9237,-211.6636 434.8575,-199.5131 427.3718,-188.2372\"/>\n",
       "<polygon fill=\"#000000\" stroke=\"#000000\" points=\"430.2273,-186.2104 421.7805,-179.8149 424.3954,-190.082 430.2273,-186.2104\"/>\n",
       "</g>\n",
       "<!-- 8 -->\n",
       "<g id=\"node9\" class=\"node\">\n",
       "<title>8</title>\n",
       "<path fill=\"#e58139\" fill-opacity=\"0.976471\" stroke=\"#000000\" d=\"M626.5,-187C626.5,-187 485.5,-187 485.5,-187 479.5,-187 473.5,-181 473.5,-175 473.5,-175 473.5,-116 473.5,-116 473.5,-110 479.5,-104 485.5,-104 485.5,-104 626.5,-104 626.5,-104 632.5,-104 638.5,-110 638.5,-116 638.5,-116 638.5,-175 638.5,-175 638.5,-181 632.5,-187 626.5,-187\"/>\n",
       "<text text-anchor=\"middle\" x=\"556\" y=\"-171.8\" font-family=\"Helvetica,sans-Serif\" font-size=\"14.00\" fill=\"#000000\">color_intensity &lt;= 3.435</text>\n",
       "<text text-anchor=\"middle\" x=\"556\" y=\"-156.8\" font-family=\"Helvetica,sans-Serif\" font-size=\"14.00\" fill=\"#000000\">entropy = 0.156</text>\n",
       "<text text-anchor=\"middle\" x=\"556\" y=\"-141.8\" font-family=\"Helvetica,sans-Serif\" font-size=\"14.00\" fill=\"#000000\">samples = 44</text>\n",
       "<text text-anchor=\"middle\" x=\"556\" y=\"-126.8\" font-family=\"Helvetica,sans-Serif\" font-size=\"14.00\" fill=\"#000000\">value = [43, 1, 0]</text>\n",
       "<text text-anchor=\"middle\" x=\"556\" y=\"-111.8\" font-family=\"Helvetica,sans-Serif\" font-size=\"14.00\" fill=\"#000000\">class = 琴酒</text>\n",
       "</g>\n",
       "<!-- 6&#45;&gt;8 -->\n",
       "<g id=\"edge8\" class=\"edge\">\n",
       "<title>6&#45;&gt;8</title>\n",
       "<path fill=\"none\" stroke=\"#000000\" d=\"M505.2806,-222.8796C511.0068,-214.1434 517.1046,-204.8404 523.0137,-195.8253\"/>\n",
       "<polygon fill=\"#000000\" stroke=\"#000000\" points=\"526.0482,-197.5803 528.6029,-187.2981 520.1937,-193.7429 526.0482,-197.5803\"/>\n",
       "</g>\n",
       "<!-- 9 -->\n",
       "<g id=\"node10\" class=\"node\">\n",
       "<title>9</title>\n",
       "<path fill=\"#39e581\" stroke=\"#000000\" d=\"M532.5,-68C532.5,-68 443.5,-68 443.5,-68 437.5,-68 431.5,-62 431.5,-56 431.5,-56 431.5,-12 431.5,-12 431.5,-6 437.5,0 443.5,0 443.5,0 532.5,0 532.5,0 538.5,0 544.5,-6 544.5,-12 544.5,-12 544.5,-56 544.5,-56 544.5,-62 538.5,-68 532.5,-68\"/>\n",
       "<text text-anchor=\"middle\" x=\"488\" y=\"-52.8\" font-family=\"Helvetica,sans-Serif\" font-size=\"14.00\" fill=\"#000000\">entropy = 0.0</text>\n",
       "<text text-anchor=\"middle\" x=\"488\" y=\"-37.8\" font-family=\"Helvetica,sans-Serif\" font-size=\"14.00\" fill=\"#000000\">samples = 1</text>\n",
       "<text text-anchor=\"middle\" x=\"488\" y=\"-22.8\" font-family=\"Helvetica,sans-Serif\" font-size=\"14.00\" fill=\"#000000\">value = [0, 1, 0]</text>\n",
       "<text text-anchor=\"middle\" x=\"488\" y=\"-7.8\" font-family=\"Helvetica,sans-Serif\" font-size=\"14.00\" fill=\"#000000\">class = 雪梨</text>\n",
       "</g>\n",
       "<!-- 8&#45;&gt;9 -->\n",
       "<g id=\"edge9\" class=\"edge\">\n",
       "<title>8&#45;&gt;9</title>\n",
       "<path fill=\"none\" stroke=\"#000000\" d=\"M530.6793,-103.9815C525.2984,-95.1585 519.6068,-85.8258 514.1941,-76.9506\"/>\n",
       "<polygon fill=\"#000000\" stroke=\"#000000\" points=\"517.0912,-74.9789 508.8962,-68.2637 511.1149,-78.6236 517.0912,-74.9789\"/>\n",
       "</g>\n",
       "<!-- 10 -->\n",
       "<g id=\"node11\" class=\"node\">\n",
       "<title>10</title>\n",
       "<path fill=\"#e58139\" stroke=\"#000000\" d=\"M671,-68C671,-68 575,-68 575,-68 569,-68 563,-62 563,-56 563,-56 563,-12 563,-12 563,-6 569,0 575,0 575,0 671,0 671,0 677,0 683,-6 683,-12 683,-12 683,-56 683,-56 683,-62 677,-68 671,-68\"/>\n",
       "<text text-anchor=\"middle\" x=\"623\" y=\"-52.8\" font-family=\"Helvetica,sans-Serif\" font-size=\"14.00\" fill=\"#000000\">entropy = 0.0</text>\n",
       "<text text-anchor=\"middle\" x=\"623\" y=\"-37.8\" font-family=\"Helvetica,sans-Serif\" font-size=\"14.00\" fill=\"#000000\">samples = 43</text>\n",
       "<text text-anchor=\"middle\" x=\"623\" y=\"-22.8\" font-family=\"Helvetica,sans-Serif\" font-size=\"14.00\" fill=\"#000000\">value = [43, 0, 0]</text>\n",
       "<text text-anchor=\"middle\" x=\"623\" y=\"-7.8\" font-family=\"Helvetica,sans-Serif\" font-size=\"14.00\" fill=\"#000000\">class = 琴酒</text>\n",
       "</g>\n",
       "<!-- 8&#45;&gt;10 -->\n",
       "<g id=\"edge10\" class=\"edge\">\n",
       "<title>8&#45;&gt;10</title>\n",
       "<path fill=\"none\" stroke=\"#000000\" d=\"M580.9483,-103.9815C586.2501,-95.1585 591.8581,-85.8258 597.1911,-76.9506\"/>\n",
       "<polygon fill=\"#000000\" stroke=\"#000000\" points=\"600.2605,-78.638 602.4111,-68.2637 594.2604,-75.0325 600.2605,-78.638\"/>\n",
       "</g>\n",
       "</g>\n",
       "</svg>\n"
      ],
      "text/plain": [
       "<graphviz.files.Source at 0x1a23984400>"
      ]
     },
     "execution_count": 18,
     "metadata": {},
     "output_type": "execute_result"
    }
   ],
   "source": [
    "dot_data = export_graphviz(clf_sklearn,\n",
    "                            feature_names=wine.feature_names,\n",
    "                            class_names=['琴酒','雪梨','贝尔摩德'],\n",
    "                            rounded=True,\n",
    "                            filled=True)\n",
    "graph = graphviz.Source(dot_data)\n",
    "graph"
   ]
  },
  {
   "cell_type": "markdown",
   "metadata": {},
   "source": [
    "总结：  \n",
    "自己实现的CART树的代码和sklearn中的CART的代码，在未进行剪枝时，两者在准确度上和时间复杂度上都差不多。  \n",
    "甚至自己实现的CART树还有点小优势  \n",
    "但估计当特征数较多时，自己实现的CART树的优势就不大了，因为sklearn采用的是随机建树，降低过拟合的程度"
   ]
  }
 ],
 "metadata": {
  "kernelspec": {
   "display_name": "Python 3",
   "language": "python",
   "name": "python3"
  },
  "language_info": {
   "codemirror_mode": {
    "name": "ipython",
    "version": 3
   },
   "file_extension": ".py",
   "mimetype": "text/x-python",
   "name": "python",
   "nbconvert_exporter": "python",
   "pygments_lexer": "ipython3",
   "version": "3.7.3"
  }
 },
 "nbformat": 4,
 "nbformat_minor": 2
}
