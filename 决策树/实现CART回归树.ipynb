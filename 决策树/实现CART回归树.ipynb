{
 "cells": [
  {
   "cell_type": "markdown",
   "metadata": {},
   "source": [
    "# 实现CART回归树"
   ]
  },
  {
   "cell_type": "markdown",
   "metadata": {},
   "source": [
    "## 目录\n",
    "* 自己实现CART回归树\n",
    "* 使用简单数据集进行验证\n",
    "* 用波士顿房价数据集，进行手写代码与sklearn中的回归树的对比"
   ]
  },
  {
   "cell_type": "markdown",
   "metadata": {},
   "source": [
    "## 实现CART回归树\n",
    "并设计了几个剪枝参数  \n",
    "* min_impurity_decrease \n",
    "* min_samples_split\n",
    "* min_samples_leaf"
   ]
  },
  {
   "cell_type": "code",
   "execution_count": 1,
   "metadata": {},
   "outputs": [],
   "source": [
    "import numpy as np\n",
    "import graphviz\n",
    "class DecisionTreeRegressor():\n",
    "    \n",
    "    def __init__(self,min_impurity_decrease=0,min_samples_split=2,min_samples_leaf=1):\n",
    "        self.tree = None\n",
    "        self.min_impurity_decrease = min_impurity_decrease\n",
    "        self.min_samples_split = min_samples_split\n",
    "        self.min_samples_leaf = min_samples_leaf\n",
    "    \n",
    "    def fit(self,X_train,y_train):\n",
    "        \n",
    "        \n",
    "        def leafval(y_train):\n",
    "            return y_train.mean()#返回叶子节点的值\n",
    "        \n",
    "        def Err(y_train):\n",
    "            return y_train.var()*len(y_train)#返回叶子节点的总方差\n",
    "        \n",
    "        def bestsplit(X_train,y_train,min_impurity_decrease,min_samples_split,min_samples_leaf):\n",
    "            \"\"\"寻找最佳的切分特征，最佳的切分数据点。如果是叶子节点，则只返回叶子节点的值\"\"\"\n",
    "            if len(set(y_train)) == 1 or len(y_train) < min_samples_split:#如果y_train只有一个值或者y种的样本量小于最小切分值，则不进行分支\n",
    "                return float(leafval(y_train))\n",
    "            bestErr = float(\"inf\")\n",
    "            bestFeature = -1\n",
    "            bestSplitValue = -1\n",
    "            for feature in range(X_train.shape[1]):\n",
    "                colval = set(X_train[:,feature])\n",
    "                for SplitValue in colval:\n",
    "                    subleft_index = X_train[:,feature]<=SplitValue\n",
    "                    yleft = y_train[subleft_index]\n",
    "                    yright = y_train[~subleft_index]\n",
    "                    if len(yleft) < min_samples_leaf or len(yright) < min_samples_leaf:\n",
    "                        continue #如果子节点的个数小于设定值，则进行考虑\n",
    "                    err = Err(yleft) + Err(yright)\n",
    "                    if err < bestErr:\n",
    "                        bestErr = err\n",
    "                        bestFeature = feature\n",
    "                        bestSplitValue = SplitValue\n",
    "            if Err(y_train) - bestErr < min_impurity_decrease or bestFeature == -1:#方差误差下降的足够大或者无法分割\n",
    "                return float(leafval(y_train))\n",
    "            else:\n",
    "                return bestFeature,bestSplitValue\n",
    "        \n",
    "        def createTree(X_train,y_train,min_impurity_decrease,min_samples_split,min_samples_leaf):\n",
    "            \n",
    "            res = bestsplit(X_train,y_train,min_impurity_decrease,min_samples_split,min_samples_leaf)\n",
    "            if type(res) == float:\n",
    "                return res\n",
    "            else:\n",
    "                tree = {}\n",
    "                tree[\"SplitFeature\"] = res[0]\n",
    "                tree[\"SplitValue\"] = res[1]\n",
    "                left_index = X_train[:,res[0]] <= res[1]\n",
    "                Xleft,Xright,yleft,yright = X_train[left_index,:],X_train[~left_index,:],y_train[left_index],y_train[~left_index]\n",
    "                tree[\"LeftChild\"] = createTree(Xleft,yleft,min_impurity_decrease,min_samples_split,min_samples_leaf)\n",
    "                tree[\"RightChild\"] = createTree(Xright,yright,min_impurity_decrease,min_samples_split,min_samples_leaf)\n",
    "                return tree\n",
    "        \n",
    "        self.tree = createTree(X_train,y_train,min_impurity_decrease = self.min_impurity_decrease,min_samples_split = self.min_samples_split,min_samples_leaf = self.min_samples_leaf)\n",
    "        return self            \n",
    "                    \n",
    "                \n",
    "        \n",
    "    def predict(self,X_test):\n",
    "        RES = np.empty(len(X_test))\n",
    "        for i in range(len(X_test)):\n",
    "            RES[i] = self._predict(X_test[i])\n",
    "        return RES\n",
    "\n",
    "    def _predict(self,test_data):\n",
    "\n",
    "        def __predict(tree,test_data):\n",
    "            if type(tree) != dict: #如果tree只是一个值，则直接返回预测值\n",
    "                return tree\n",
    "            else:\n",
    "                splitfeature = tree[\"SplitFeature\"]\n",
    "                splitvalue = tree[\"SplitValue\"]\n",
    "                if test_data[splitfeature] <= splitvalue:\n",
    "                    return __predict(tree[\"LeftChild\"],test_data)\n",
    "                else:\n",
    "                    return __predict(tree[\"RightChild\"],test_data)\n",
    "\n",
    "        assert self.tree is not None,\"fit before predict\"\n",
    "        return __predict(self.tree,test_data)\n",
    "            \n",
    "    def draw_Tree(self):\n",
    "        assert self.tree is not None,\"fit before draw\"\n",
    "        def export_graphviz(tree,rootindex):\n",
    "            if type(tree) == dict:\n",
    "                text = \"SplitFeature:{}\\nSplitValue:{}\".format(tree[\"SplitFeature\"],tree[\"SplitValue\"])\n",
    "                text_node.append([str(rootindex),text])\n",
    "                i[0]+=1\n",
    "                text_edge.append([str(rootindex),str(i[0]),\"<=\"])\n",
    "                export_graphviz(tree[\"LeftChild\"],i[0])\n",
    "                \n",
    "                i[0]+=1\n",
    "                text_edge.append([str(rootindex),str(i[0]),\">\"])\n",
    "                export_graphviz(tree[\"RightChild\"],i[0])\n",
    "            else:\n",
    "                text_node.append([str(rootindex),'predict={}'.format(tree),'leaf'])\n",
    "        \n",
    "        \n",
    "        text_node = []\n",
    "        text_edge = []\n",
    "        i=[1]\n",
    "        export_graphviz(self.tree,i[0])\n",
    "        dot = graphviz.Digraph(comment='tree')\n",
    "        for line in text_node:\n",
    "            if len(line)==2:\n",
    "                dot.node(line[0],line[1],color=\"gold\",shape=\"diamond\")\n",
    "            else:\n",
    "                dot.node(line[0],line[1],color=\"lightyellow\",shape='box',style=\"filled\")\n",
    "        for line in text_edge:\n",
    "            dot.edge(line[0],line[1],line[2])\n",
    "        dot.view()\n",
    "    \n",
    "    def score(self,X_test,y_test):\n",
    "        predict = self.predict(X_test)\n",
    "        return 1 - sum((y_test-predict)**2)/sum((y_test-y_test.mean())**2)"
   ]
  },
  {
   "cell_type": "markdown",
   "metadata": {},
   "source": [
    "## 用简单数据集进行测试"
   ]
  },
  {
   "cell_type": "code",
   "execution_count": 2,
   "metadata": {},
   "outputs": [
    {
     "data": {
      "text/plain": [
       "<Figure size 640x480 with 1 Axes>"
      ]
     },
     "metadata": {},
     "output_type": "display_data"
    }
   ],
   "source": [
    "import pandas as pd\n",
    "data = np.array(pd.read_csv(\"ex00.txt\",header=None,sep=\"\\t\"))\n",
    "X = data[:,0][:,np.newaxis]\n",
    "y = data[:,1]\n",
    "import matplotlib.pyplot as plt\n",
    "plt.scatter(X,y)\n",
    "plt.xlabel(\"x\")\n",
    "plt.ylabel(\"y\")\n",
    "plt.show()"
   ]
  },
  {
   "cell_type": "code",
   "execution_count": 3,
   "metadata": {},
   "outputs": [
    {
     "data": {
      "text/plain": [
       "<__main__.DecisionTreeRegressor at 0x10bb91358>"
      ]
     },
     "execution_count": 3,
     "metadata": {},
     "output_type": "execute_result"
    }
   ],
   "source": [
    "reg1 = DecisionTreeRegressor(min_impurity_decrease=1,min_samples_split=4)\n",
    "reg1.fit(X,y)\n",
    "reg2 = DecisionTreeRegressor(min_impurity_decrease=0.01)\n",
    "reg2.fit(X,y)"
   ]
  },
  {
   "cell_type": "code",
   "execution_count": 4,
   "metadata": {},
   "outputs": [
    {
     "data": {
      "text/plain": [
       "{'SplitFeature': 0,\n",
       " 'SplitValue': 0.48813,\n",
       " 'LeftChild': -0.04465028571428572,\n",
       " 'RightChild': 1.0180967672413792}"
      ]
     },
     "execution_count": 4,
     "metadata": {},
     "output_type": "execute_result"
    }
   ],
   "source": [
    "reg1.tree"
   ]
  },
  {
   "cell_type": "code",
   "execution_count": 5,
   "metadata": {},
   "outputs": [],
   "source": [
    "reg1.draw_Tree()"
   ]
  },
  {
   "cell_type": "code",
   "execution_count": 6,
   "metadata": {},
   "outputs": [
    {
     "data": {
      "image/png": "[encoded data removed]",
      "text/plain": [
       "<Figure size 1080x360 with 1 Axes>"
      ]
     },
     "metadata": {
      "needs_background": "light"
     },
     "output_type": "display_data"
    }
   ],
   "source": [
    "plt.figure(figsize=(15,5))\n",
    "plt.scatter(X,y,color=\"gold\")\n",
    "X_plot = np.linspace(0,1,100).reshape(-1,1)\n",
    "predict1 = reg1.predict(X_plot)\n",
    "predict2 = reg2.predict(X_plot)\n",
    "plt.plot(X_plot,predict1,color=\"yellowgreen\",linewidth=3,label='predict:min_impurity_decrease=1')\n",
    "plt.plot(X_plot,predict2,color=\"lightgreen\",linewidth=3,label=\"predict:min_impurity_decrease=0.01\")\n",
    "plt.legend()\n",
    "plt.show()"
   ]
  },
  {
   "cell_type": "markdown",
   "metadata": {},
   "source": [
    "## 用波士顿房价来测试下"
   ]
  },
  {
   "cell_type": "code",
   "execution_count": 10,
   "metadata": {},
   "outputs": [],
   "source": [
    "from sklearn.datasets import load_boston\n",
    "from sklearn.model_selection import train_test_split\n",
    "boston = load_boston()\n",
    "X = boston.data\n",
    "y = boston.target\n",
    "X_train,X_test,y_train,y_test = train_test_split(X,y)"
   ]
  },
  {
   "cell_type": "code",
   "execution_count": 11,
   "metadata": {},
   "outputs": [],
   "source": [
    "reg = DecisionTreeRegressor(min_samples_leaf=13)\n",
    "reg.fit(X_train,y_train)\n",
    "predict = reg.predict(X_test)"
   ]
  },
  {
   "cell_type": "code",
   "execution_count": 12,
   "metadata": {},
   "outputs": [
    {
     "data": {
      "text/plain": [
       "0.8120685010445831"
      ]
     },
     "execution_count": 12,
     "metadata": {},
     "output_type": "execute_result"
    }
   ],
   "source": [
    "from sklearn.metrics import r2_score\n",
    "r2_score(y_test,predict)"
   ]
  },
  {
   "cell_type": "code",
   "execution_count": 13,
   "metadata": {},
   "outputs": [],
   "source": [
    "reg.draw_Tree()"
   ]
  },
  {
   "cell_type": "code",
   "execution_count": 14,
   "metadata": {},
   "outputs": [
    {
     "data": {
      "text/plain": [
       "0.8121215860629656"
      ]
     },
     "execution_count": 14,
     "metadata": {},
     "output_type": "execute_result"
    }
   ],
   "source": [
    "from sklearn.tree import DecisionTreeRegressor\n",
    "skl_reg = DecisionTreeRegressor(min_samples_leaf=13)\n",
    "skl_reg.fit(X_train,y_train)\n",
    "skl_reg.score(X_test,y_test)"
   ]
  },
  {
   "cell_type": "markdown",
   "metadata": {},
   "source": [
    "与sklearn中的DecisionTreeRegreesor做对比，两者基本无差"
   ]
  }
 ],
 "metadata": {
  "kernelspec": {
   "display_name": "Python 3",
   "language": "python",
   "name": "python3"
  },
  "language_info": {
   "codemirror_mode": {
    "name": "ipython",
    "version": 3
   },
   "file_extension": ".py",
   "mimetype": "text/x-python",
   "name": "python",
   "nbconvert_exporter": "python",
   "pygments_lexer": "ipython3",
   "version": "3.7.0"
  }
 },
 "nbformat": 4,
 "nbformat_minor": 2
}
